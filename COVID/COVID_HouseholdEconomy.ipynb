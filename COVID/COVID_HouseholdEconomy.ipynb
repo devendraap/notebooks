{
 "cells": [
  {
   "cell_type": "raw",
   "id": "interesting-capitol",
   "metadata": {},
   "source": [
    "Importing dependencies"
   ]
  },
  {
   "cell_type": "code",
   "execution_count": 1,
   "id": "objective-prisoner",
   "metadata": {},
   "outputs": [],
   "source": [
    "import tradingeconomics as te\n",
    "import pandas as pd\n",
    "import matplotlib.pyplot as plt"
   ]
  },
  {
   "cell_type": "raw",
   "id": "abroad-median",
   "metadata": {},
   "source": [
    "API login"
   ]
  },
  {
   "cell_type": "code",
   "execution_count": 2,
   "id": "incident-embassy",
   "metadata": {},
   "outputs": [
    {
     "data": {
      "text/plain": [
       ""
      ]
     },
     "execution_count": 2,
     "metadata": {},
     "output_type": "execute_result"
    }
   ],
   "source": [
    "te.login(); # Signup for a free API key at https://developer.tradingeconomics.com/"
   ]
  },
  {
   "cell_type": "raw",
   "id": "canadian-guatemala",
   "metadata": {},
   "source": [
    "Importing data"
   ]
  },
  {
   "cell_type": "code",
   "execution_count": 3,
   "id": "trained-outline",
   "metadata": {},
   "outputs": [],
   "source": [
    "raw_savings_df = te.getHistoricalData(country='portugal', indicator='Personal savings',initDate='2019-01-01', output_type='df')\n",
    "raw_spendings_df = te.getHistoricalData(country='portugal', indicator='Personal Spending', initDate='2019-01-01', output_type='df')"
   ]
  },
  {
   "cell_type": "raw",
   "id": "cloudy-malawi",
   "metadata": {},
   "source": [
    "Data Manipulation"
   ]
  },
  {
   "cell_type": "code",
   "execution_count": 4,
   "id": "several-relaxation",
   "metadata": {},
   "outputs": [
    {
     "data": {
      "text/html": [
       "<div>\n",
       "<style scoped>\n",
       "    .dataframe tbody tr th:only-of-type {\n",
       "        vertical-align: middle;\n",
       "    }\n",
       "\n",
       "    .dataframe tbody tr th {\n",
       "        vertical-align: top;\n",
       "    }\n",
       "\n",
       "    .dataframe thead th {\n",
       "        text-align: right;\n",
       "    }\n",
       "</style>\n",
       "<table border=\"1\" class=\"dataframe\">\n",
       "  <thead>\n",
       "    <tr style=\"text-align: right;\">\n",
       "      <th></th>\n",
       "      <th>Personal Spending(%)</th>\n",
       "      <th>Personal Savings(%)</th>\n",
       "    </tr>\n",
       "    <tr>\n",
       "      <th>Date</th>\n",
       "      <th></th>\n",
       "      <th></th>\n",
       "    </tr>\n",
       "  </thead>\n",
       "  <tbody>\n",
       "    <tr>\n",
       "      <th>2019-03-31</th>\n",
       "      <td>2.4</td>\n",
       "      <td>6.5</td>\n",
       "    </tr>\n",
       "    <tr>\n",
       "      <th>2019-06-30</th>\n",
       "      <td>2.6</td>\n",
       "      <td>6.9</td>\n",
       "    </tr>\n",
       "    <tr>\n",
       "      <th>2019-09-30</th>\n",
       "      <td>2.2</td>\n",
       "      <td>7.1</td>\n",
       "    </tr>\n",
       "    <tr>\n",
       "      <th>2019-12-31</th>\n",
       "      <td>-0.4</td>\n",
       "      <td>7.1</td>\n",
       "    </tr>\n",
       "    <tr>\n",
       "      <th>2020-03-31</th>\n",
       "      <td>-4.8</td>\n",
       "      <td>7.8</td>\n",
       "    </tr>\n",
       "    <tr>\n",
       "      <th>2020-06-30</th>\n",
       "      <td>-7.8</td>\n",
       "      <td>10.7</td>\n",
       "    </tr>\n",
       "    <tr>\n",
       "      <th>2020-09-30</th>\n",
       "      <td>-7.0</td>\n",
       "      <td>11.0</td>\n",
       "    </tr>\n",
       "    <tr>\n",
       "      <th>2020-12-31</th>\n",
       "      <td>-4.5</td>\n",
       "      <td>12.8</td>\n",
       "    </tr>\n",
       "  </tbody>\n",
       "</table>\n",
       "</div>"
      ],
      "text/plain": [
       "            Personal Spending(%)  Personal Savings(%)\n",
       "Date                                                 \n",
       "2019-03-31                   2.4                  6.5\n",
       "2019-06-30                   2.6                  6.9\n",
       "2019-09-30                   2.2                  7.1\n",
       "2019-12-31                  -0.4                  7.1\n",
       "2020-03-31                  -4.8                  7.8\n",
       "2020-06-30                  -7.8                 10.7\n",
       "2020-09-30                  -7.0                 11.0\n",
       "2020-12-31                  -4.5                 12.8"
      ]
     },
     "execution_count": 4,
     "metadata": {},
     "output_type": "execute_result"
    }
   ],
   "source": [
    "savings_df = raw_savings_df[['DateTime', 'Value']].rename(columns={'Value': 'Personal Savings(%)'})\n",
    "\n",
    "savings_df['Date'] = pd.DatetimeIndex(savings_df['DateTime'])\n",
    "savings_df.set_index('Date', inplace=True)\n",
    "del savings_df['DateTime']\n",
    "\n",
    "\n",
    "spending_df = raw_spendings_df[['DateTime', 'Value']].rename(columns={'Value': 'Personal Spending(%)'})\n",
    "\n",
    "spending_df['Date'] = pd.DatetimeIndex(spending_df['DateTime'])\n",
    "spending_df.set_index('Date', inplace=True)\n",
    "del spending_df['DateTime']\n",
    "\n",
    "\n",
    "df = pd.merge(spending_df,savings_df, on='Date')\n",
    "\n",
    "df"
   ]
  },
  {
   "cell_type": "raw",
   "id": "certain-barrel",
   "metadata": {},
   "source": [
    "Plotting"
   ]
  },
  {
   "cell_type": "code",
   "execution_count": 5,
   "id": "damaged-furniture",
   "metadata": {},
   "outputs": [
    {
     "data": {
      "image/png": "[encoded data removed]",
      "text/plain": [
       "<Figure size 1080x504 with 1 Axes>"
      ]
     },
     "metadata": {
      "needs_background": "light"
     },
     "output_type": "display_data"
    }
   ],
   "source": [
    "fig, ax = plt.subplots(figsize=(15, 7))\n",
    "\n",
    "plt.plot( df.index.tolist(), df['Personal Savings(%)'].values.tolist(), marker='', color='red', linewidth=2, label=\"Gross Household Saving Rate(%)\")\n",
    "plt.plot( df.index.tolist(), df['Personal Spending(%)'].values.tolist(),marker='', color='blue', linewidth=2, label=\"Private Consumption Rate(%)\")\n",
    "\n",
    "\n",
    "plt.legend(\n",
    "          title=\"Legend\",\n",
    "          loc=\"center left\",\n",
    "          bbox_to_anchor=(1, 0, 0.5, 1),\n",
    "          fontsize=12,\n",
    "          ncol=1,\n",
    "          title_fontsize=14,\n",
    "          borderpad=1)\n",
    "\n",
    "\n",
    "ax.xaxis.grid(True)\n",
    "ynew = 0\n",
    "ax.axhline(ynew, color='black')\n",
    "plt.grid(True)\n",
    "\n",
    "plt.title(\"Covid's impact on the French household economy\", size=20)\n",
    "plt.show()\n"
   ]
  },
  {
   "cell_type": "code",
   "execution_count": null,
   "id": "accredited-uganda",
   "metadata": {},
   "outputs": [],
   "source": []
  }
 ],
 "metadata": {
  "kernelspec": {
   "display_name": "Python 3",
   "language": "python",
   "name": "python3"
  },
  "language_info": {
   "codemirror_mode": {
    "name": "ipython",
    "version": 3
   },
   "file_extension": ".py",
   "mimetype": "text/x-python",
   "name": "python",
   "nbconvert_exporter": "python",
   "pygments_lexer": "ipython3",
   "version": "3.7.3"
  }
 },
 "nbformat": 4,
 "nbformat_minor": 5
}
