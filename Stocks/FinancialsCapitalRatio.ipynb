{
 "cells": [
  {
   "cell_type": "markdown",
   "id": "8faa2a34",
   "metadata": {},
   "source": [
    "## Companies Capital's Ratio"
   ]
  },
  {
   "cell_type": "markdown",
   "id": "c84a1e9d",
   "metadata": {},
   "source": [
    "#### Importing Dependencies"
   ]
  },
  {
   "cell_type": "code",
   "execution_count": 1,
   "id": "a8ae3a6b",
   "metadata": {},
   "outputs": [],
   "source": [
    "import tradingeconomics as te\n",
    "import pandas as pd\n",
    "import matplotlib.pyplot as plt\n",
    "import numpy as np"
   ]
  },
  {
   "cell_type": "markdown",
   "id": "2039cb1c",
   "metadata": {},
   "source": [
    "#### API login"
   ]
  },
  {
   "cell_type": "code",
   "execution_count": 2,
   "id": "191af0fb",
   "metadata": {},
   "outputs": [],
   "source": [
    "te.login(); # Signup for a free API key at https://developer.tradingeconomics.com/"
   ]
  },
  {
   "cell_type": "markdown",
   "id": "58d5d015",
   "metadata": {},
   "source": [
    "### Importing data"
   ]
  },
  {
   "cell_type": "code",
   "execution_count": 3,
   "id": "bed15d68",
   "metadata": {},
   "outputs": [],
   "source": [
    "raw_data_microsoft = te.getFinancialsData(symbol='msft:us',output_type= 'df')\n",
    "raw_data_apple = te.getFinancialsData(symbol='aapl:us',output_type= 'df')\n",
    "raw_data_amazon = te.getFinancialsData(symbol='amzn:us',output_type= 'df')\n",
    "raw_data_google = te.getFinancialsData(symbol='goog:us',output_type= 'df')\n",
    "raw_data_facebook = te.getFinancialsData(symbol='aapl:us',output_type= 'df')\n"
   ]
  },
  {
   "cell_type": "markdown",
   "id": "a5c3f368",
   "metadata": {},
   "source": [
    "### Manipulating data"
   ]
  },
  {
   "cell_type": "code",
   "execution_count": 4,
   "id": "2f304bd1-3cd4-4683-ae84-24a824a97417",
   "metadata": {},
   "outputs": [],
   "source": [
    "current_assets_microsoft = raw_data_microsoft['last'][3]\n",
    "current_liabilities_microsoft = raw_data_microsoft['last'][4]\n",
    "capital_ratio_microsoft = current_assets_microsoft / current_liabilities_microsoft\n",
    "\n",
    "current_assets_google = raw_data_google['last'][3]\n",
    "current_liabilities_google = raw_data_google['last'][4]\n",
    "capital_ratio_google = current_assets_google / current_liabilities_google\n",
    "\n",
    "current_assets_amazon = raw_data_amazon['last'][3]\n",
    "current_liabilities_amazon = raw_data_amazon['last'][4]\n",
    "capital_ratio_amazon = current_assets_amazon / current_liabilities_amazon\n",
    "\n",
    "current_assets_apple = raw_data_apple['last'][3]\n",
    "current_liabilities_apple = raw_data_apple['last'][4]\n",
    "capital_ratio_apple = current_assets_apple / current_liabilities_apple\n",
    "\n",
    "current_assets_facebook = raw_data_facebook['last'][3]\n",
    "current_liabilities_facebook = raw_data_facebook['last'][4]\n",
    "capital_ratio_facebook = current_assets_facebook / current_liabilities_facebook\n"
   ]
  },
  {
   "cell_type": "markdown",
   "id": "b197ef3f-6911-469c-a0ce-f8c928d5b873",
   "metadata": {},
   "source": [
    "### Plotting"
   ]
  },
  {
   "cell_type": "code",
   "execution_count": 5,
   "id": "3ce9a6ec-8ca4-4dac-a159-c2984ad5d156",
   "metadata": {},
   "outputs": [
    {
     "data": {
      "text/plain": [
       "<matplotlib.legend.Legend at 0x7f4c3cea9f28>"
      ]
     },
     "execution_count": 5,
     "metadata": {},
     "output_type": "execute_result"
    },
    {
     "data": {
      "image/png": "[encoded data removed]",
      "text/plain": [
       "<Figure size 1080x360 with 1 Axes>"
      ]
     },
     "metadata": {
      "needs_background": "light"
     },
     "output_type": "display_data"
    }
   ],
   "source": [
    "fig, ax = plt.subplots(figsize=(15,5))\n",
    "\n",
    "\n",
    "ax.bar('Microsoft', capital_ratio_microsoft, label= 'Microsoft')\n",
    "ax.bar('Amazon', capital_ratio_amazon, label='Amazon')\n",
    "ax.bar('Facebook', capital_ratio_facebook, label = 'Facebook')\n",
    "ax.bar('Google', capital_ratio_google, label='Google')\n",
    "ax.bar('Apple', capital_ratio_apple, label ='Apple')\n",
    "plt.style.use('bmh')\n",
    "ax.set(ylim=[0.5, 4], title='Working Capital Ratio')\n",
    "\n",
    "ax.legend()\n",
    "\n"
   ]
  },
  {
   "cell_type": "code",
   "execution_count": null,
   "id": "0bd79e37-42fd-49d5-80ab-be8392dd0e02",
   "metadata": {},
   "outputs": [],
   "source": []
  }
 ],
 "metadata": {
  "kernelspec": {
   "display_name": "Python 3",
   "language": "python",
   "name": "python3"
  },
  "language_info": {
   "codemirror_mode": {
    "name": "ipython",
    "version": 3
   },
   "file_extension": ".py",
   "mimetype": "text/x-python",
   "name": "python",
   "nbconvert_exporter": "python",
   "pygments_lexer": "ipython3",
   "version": "3.7.3"
  }
 },
 "nbformat": 4,
 "nbformat_minor": 5
}
