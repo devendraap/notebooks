{
 "cells": [
  {
   "cell_type": "raw",
   "id": "respiratory-costa",
   "metadata": {},
   "source": [
    "Importing dependencies"
   ]
  },
  {
   "cell_type": "code",
   "execution_count": 1,
   "id": "rental-energy",
   "metadata": {},
   "outputs": [],
   "source": [
    "import tradingeconomics as te\n",
    "import pandas as pd\n",
    "import numpy as np\n",
    "import matplotlib.pyplot as plt"
   ]
  },
  {
   "cell_type": "raw",
   "id": "listed-cemetery",
   "metadata": {},
   "source": [
    "API login"
   ]
  },
  {
   "cell_type": "code",
   "execution_count": 2,
   "id": "sunset-establishment",
   "metadata": {},
   "outputs": [
    {
     "data": {
      "text/plain": [
       ""
      ]
     },
     "execution_count": 2,
     "metadata": {},
     "output_type": "execute_result"
    }
   ],
   "source": [
    "te.login(); # Signup for a free API key at https://developer.tradingeconomics.com/"
   ]
  },
  {
   "cell_type": "raw",
   "id": "engaging-contact",
   "metadata": {},
   "source": [
    "Importing data"
   ]
  },
  {
   "cell_type": "code",
   "execution_count": 3,
   "id": "committed-triumph",
   "metadata": {},
   "outputs": [],
   "source": [
    "first_date = '2019-01-01'\n",
    "last_date = '2021-01-01'\n",
    "raw_data = te.fetchMarkets(symbol=['btcusd:cur', 'ethusd:cur','xrpusd:cur','ltcusd:cur'], initDate=first_date, endDate= last_date, output_type='df')"
   ]
  },
  {
   "cell_type": "raw",
   "id": "certain-principal",
   "metadata": {},
   "source": [
    "Data Manipulating"
   ]
  },
  {
   "cell_type": "code",
   "execution_count": 4,
   "id": "dedicated-tuition",
   "metadata": {},
   "outputs": [
    {
     "data": {
      "text/html": [
       "<div>\n",
       "<style scoped>\n",
       "    .dataframe tbody tr th:only-of-type {\n",
       "        vertical-align: middle;\n",
       "    }\n",
       "\n",
       "    .dataframe tbody tr th {\n",
       "        vertical-align: top;\n",
       "    }\n",
       "\n",
       "    .dataframe thead th {\n",
       "        text-align: right;\n",
       "    }\n",
       "</style>\n",
       "<table border=\"1\" class=\"dataframe\">\n",
       "  <thead>\n",
       "    <tr style=\"text-align: right;\">\n",
       "      <th></th>\n",
       "      <th>Bitcoin</th>\n",
       "      <th>Ethereum</th>\n",
       "      <th>XRP</th>\n",
       "      <th>Litecoin</th>\n",
       "    </tr>\n",
       "    <tr>\n",
       "      <th>Date</th>\n",
       "      <th></th>\n",
       "      <th></th>\n",
       "      <th></th>\n",
       "      <th></th>\n",
       "    </tr>\n",
       "  </thead>\n",
       "  <tbody>\n",
       "    <tr>\n",
       "      <th>2019-01-01 00:00:00</th>\n",
       "      <td>3823.44</td>\n",
       "      <td>138.64</td>\n",
       "      <td>0.3617</td>\n",
       "      <td>31.59</td>\n",
       "    </tr>\n",
       "    <tr>\n",
       "      <th>2021-01-01 00:00:00</th>\n",
       "      <td>29402.64</td>\n",
       "      <td>730.94</td>\n",
       "      <td>0.2355</td>\n",
       "      <td>126.24</td>\n",
       "    </tr>\n",
       "    <tr>\n",
       "      <th>Growth Rate(%)</th>\n",
       "      <td>669.00</td>\n",
       "      <td>427.00</td>\n",
       "      <td>-35.0000</td>\n",
       "      <td>300.00</td>\n",
       "    </tr>\n",
       "  </tbody>\n",
       "</table>\n",
       "</div>"
      ],
      "text/plain": [
       "                      Bitcoin  Ethereum      XRP  Litecoin\n",
       "Date                                                      \n",
       "2019-01-01 00:00:00   3823.44    138.64   0.3617     31.59\n",
       "2021-01-01 00:00:00  29402.64    730.94   0.2355    126.24\n",
       "Growth Rate(%)         669.00    427.00 -35.0000    300.00"
      ]
     },
     "execution_count": 4,
     "metadata": {},
     "output_type": "execute_result"
    }
   ],
   "source": [
    "\n",
    "btcusd = raw_data.loc[raw_data['symbol'] == 'BTCUSD:CUR']\n",
    "ethusd = raw_data.loc[raw_data['symbol'] == 'ETHUSD:CUR']\n",
    "xrpusd = raw_data.loc[raw_data['symbol'] == 'XRPUSD:CUR']\n",
    "ltcusd = raw_data.loc[raw_data['symbol'] == 'LTCUSD:CUR']\n",
    "\n",
    "btc = btcusd[['close']].rename(columns={'close': 'Bitcoin'})\n",
    "btc.index.name = 'Date'\n",
    "eth = ethusd[['close']].rename(columns={'close': 'Ethereum'})\n",
    "eth.index.name = 'Date'\n",
    "xrp = xrpusd[['close']].rename(columns={'close': 'XRP'})\n",
    "xrp.index.name = 'Date'\n",
    "ltc = ltcusd[['close']].rename(columns={'close': 'Litecoin'})\n",
    "ltc.index.name = 'Date'\n",
    "\n",
    "df = pd.merge(pd.merge(pd.merge(btc,eth, on='Date'),xrp, on='Date'),ltc, on ='Date')\n",
    "df = df.loc[[first_date, last_date]]\n",
    "df.loc['Growth Rate(%)']= round((((df.iloc[1]-df.iloc[0])*100)/ df.iloc[0]),0)\n",
    "df"
   ]
  },
  {
   "cell_type": "code",
   "execution_count": 5,
   "id": "architectural-headquarters",
   "metadata": {},
   "outputs": [
    {
     "data": {
      "image/png": "[encoded data removed]",
      "text/plain": [
       "<Figure size 864x576 with 1 Axes>"
      ]
     },
     "metadata": {
      "needs_background": "light"
     },
     "output_type": "display_data"
    }
   ],
   "source": [
    "\n",
    "names = list(df.keys())\n",
    "values = list(df.iloc[2])\n",
    "colors = ['blue', 'orange','green','purple']\n",
    "\n",
    "fig, axs = plt.subplots( figsize=(12, 8), sharey=True)\n",
    "\n",
    "for index in range(len(names)):\n",
    "    axs.scatter(names[index], values[index], c=colors[index], s=500, label=names[index],\n",
    "               alpha=0.3, edgecolors='none')\n",
    "\n",
    "plt.title(\"Cryptocurrencies Growth Rate (2019 - 2021)\", size=20)\n",
    "plt.yticks(list(df.iloc[2]) + [0])\n",
    "axs.set_xlabel('Cryptocurrency', size=12)\n",
    "axs.set_ylabel('Percentage(%)', size=12)\n",
    "axs.legend(borderpad=2)\n",
    "plt.grid()"
   ]
  },
  {
   "cell_type": "code",
   "execution_count": null,
   "id": "acd6f8b4-fb82-499f-8e5e-f23ae52f5baf",
   "metadata": {},
   "outputs": [],
   "source": []
  },
  {
   "cell_type": "code",
   "execution_count": null,
   "id": "1385a1e8-dfd4-4ee9-a6eb-eea8c18a91cd",
   "metadata": {},
   "outputs": [],
   "source": []
  }
 ],
 "metadata": {
  "kernelspec": {
   "display_name": "Python 3",
   "language": "python",
   "name": "python3"
  },
  "language_info": {
   "codemirror_mode": {
    "name": "ipython",
    "version": 3
   },
   "file_extension": ".py",
   "mimetype": "text/x-python",
   "name": "python",
   "nbconvert_exporter": "python",
   "pygments_lexer": "ipython3",
   "version": "3.7.3"
  },
  "metadata": {
   "interpreter": {
    "hash": "aee8b7b246df8f9039afb4144a1f6fd8d2ca17a180786b69acc140d282b71a49"
   }
  }
 },
 "nbformat": 4,
 "nbformat_minor": 5
}
