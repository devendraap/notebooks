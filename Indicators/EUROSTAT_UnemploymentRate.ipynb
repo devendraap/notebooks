{
 "cells": [
  {
   "cell_type": "raw",
   "id": "circular-fossil",
   "metadata": {},
   "source": [
    "Importing dependencies"
   ]
  },
  {
   "cell_type": "code",
   "execution_count": 1,
   "id": "norman-diabetes",
   "metadata": {},
   "outputs": [],
   "source": [
    "import tradingeconomics as te\n",
    "import pandas as pd\n",
    "import matplotlib.pyplot as plt"
   ]
  },
  {
   "cell_type": "raw",
   "id": "least-strain",
   "metadata": {},
   "source": [
    "API login"
   ]
  },
  {
   "cell_type": "code",
   "execution_count": 2,
   "id": "northern-record",
   "metadata": {},
   "outputs": [],
   "source": [
    "te.login(); # Signup for a free API key at https://developer.tradingeconomics.com/"
   ]
  },
  {
   "cell_type": "raw",
   "id": "abandoned-franklin",
   "metadata": {},
   "source": [
    "Importing data"
   ]
  },
  {
   "cell_type": "code",
   "execution_count": 3,
   "id": "harmful-forth",
   "metadata": {},
   "outputs": [],
   "source": [
    "\n",
    "raw_tertiary_educ = te.getEurostatData(country = 'portugal', category = 'Unemployment rate: Tertiary education (levels 5-8)', output_type = 'df')\n",
    "raw_upper_secondary_educ = te.getEurostatData(country = 'portugal', category = 'Unemployment rate: Upper secondary and post-secondary non-tertiary education (levels 3 and 4)', output_type = 'df')\n",
    "raw_males = te.getEurostatData(country = 'portugal', category = 'Unemployment rate: Males', output_type = 'df')\n",
    "raw_females = te.getEurostatData(country = 'portugal', category = 'Unemployment rate: Females', output_type = 'df')\n",
    "raw_lower_secondary_educ = te.getEurostatData(country = 'portugal', category = 'Unemployment rates of the population aged 25-64: Less than primary, primary and lower secondary education (levels 0-2)', output_type = 'df')\n"
   ]
  },
  {
   "cell_type": "raw",
   "id": "liable-andrew",
   "metadata": {},
   "source": [
    "Data manipulation"
   ]
  },
  {
   "cell_type": "code",
   "execution_count": 4,
   "id": "automotive-waste",
   "metadata": {},
   "outputs": [
    {
     "data": {
      "text/html": [
       "<div>\n",
       "<style scoped>\n",
       "    .dataframe tbody tr th:only-of-type {\n",
       "        vertical-align: middle;\n",
       "    }\n",
       "\n",
       "    .dataframe tbody tr th {\n",
       "        vertical-align: top;\n",
       "    }\n",
       "\n",
       "    .dataframe thead th {\n",
       "        text-align: right;\n",
       "    }\n",
       "</style>\n",
       "<table border=\"1\" class=\"dataframe\">\n",
       "  <thead>\n",
       "    <tr style=\"text-align: right;\">\n",
       "      <th></th>\n",
       "      <th>LatestValue</th>\n",
       "      <th>PreviousValue</th>\n",
       "      <th>Difference</th>\n",
       "    </tr>\n",
       "    <tr>\n",
       "      <th>Category Name</th>\n",
       "      <th></th>\n",
       "      <th></th>\n",
       "      <th></th>\n",
       "    </tr>\n",
       "  </thead>\n",
       "  <tbody>\n",
       "    <tr>\n",
       "      <th>Less than Secondary</th>\n",
       "      <td>6.2</td>\n",
       "      <td>6.4</td>\n",
       "      <td>-0.2</td>\n",
       "    </tr>\n",
       "    <tr>\n",
       "      <th>Upper Secondary and more</th>\n",
       "      <td>8.4</td>\n",
       "      <td>7.2</td>\n",
       "      <td>1.2</td>\n",
       "    </tr>\n",
       "    <tr>\n",
       "      <th>Tertiary</th>\n",
       "      <td>5.8</td>\n",
       "      <td>5.3</td>\n",
       "      <td>0.5</td>\n",
       "    </tr>\n",
       "    <tr>\n",
       "      <th>Males</th>\n",
       "      <td>6.6</td>\n",
       "      <td>5.9</td>\n",
       "      <td>0.7</td>\n",
       "    </tr>\n",
       "    <tr>\n",
       "      <th>Females</th>\n",
       "      <td>7.1</td>\n",
       "      <td>7.2</td>\n",
       "      <td>-0.1</td>\n",
       "    </tr>\n",
       "  </tbody>\n",
       "</table>\n",
       "</div>"
      ],
      "text/plain": [
       "                          LatestValue  PreviousValue  Difference\n",
       "Category Name                                                   \n",
       "Less than Secondary               6.2            6.4        -0.2\n",
       "Upper Secondary and more          8.4            7.2         1.2\n",
       "Tertiary                          5.8            5.3         0.5\n",
       "Males                             6.6            5.9         0.7\n",
       "Females                           7.1            7.2        -0.1"
      ]
     },
     "execution_count": 4,
     "metadata": {},
     "output_type": "execute_result"
    }
   ],
   "source": [
    "frames = [raw_lower_secondary_educ[[ 'LatestValue','PreviousValue']],raw_upper_secondary_educ[['LatestValue','PreviousValue']], raw_tertiary_educ[['LatestValue','PreviousValue']],raw_males[['LatestValue','PreviousValue']], raw_females[['LatestValue','PreviousValue']]]\n",
    "\n",
    "df = pd.concat(frames)\n",
    "df['Difference'] = df['LatestValue'] - df['PreviousValue']\n",
    "\n",
    "new_title = ['Less than Secondary', 'Upper Secondary and more', 'Tertiary', 'Males', 'Females']\n",
    "df['Category Name'] = new_title\n",
    "\n",
    "df.set_index('Category Name')"
   ]
  },
  {
   "cell_type": "raw",
   "id": "center-function",
   "metadata": {},
   "source": [
    "Plotting"
   ]
  },
  {
   "cell_type": "code",
   "execution_count": 5,
   "id": "resident-primary",
   "metadata": {},
   "outputs": [
    {
     "data": {
      "image/png": "[encoded data removed]",
      "text/plain": [
       "<Figure size 1080x648 with 1 Axes>"
      ]
     },
     "metadata": {
      "needs_background": "light"
     },
     "output_type": "display_data"
    }
   ],
   "source": [
    "labels = new_title\n",
    "before_values = df['PreviousValue'].values.tolist()\n",
    "difference_values = df['Difference'].values.tolist()\n",
    "\n",
    "width = 0.45    \n",
    "\n",
    "fig, ax = plt.subplots(figsize=(15, 9))\n",
    "\n",
    "ax.bar(labels, before_values, width, label='Latest Value',color='steelblue')\n",
    "ax.bar(labels, difference_values, width, bottom=before_values,\n",
    "       label='Previous Value', color='lightsteelblue')\n",
    "\n",
    "ax.set_ylabel('Percentage(%)', size=16)\n",
    "ax.set_title('Unemployment rate by education and gender', color='black', size=20)\n",
    "\n",
    "plt.legend(\n",
    "          title=\"Legend:\",\n",
    "          loc=\"center left\",\n",
    "          bbox_to_anchor=(1, 0, 0.5, 1),\n",
    "          fontsize=10,\n",
    "          ncol=1,\n",
    "          title_fontsize=13,\n",
    "          borderpad=1)\n",
    "#plt.grid(True)\n",
    "\n",
    "for index,data in enumerate(difference_values):\n",
    "        plt.text(x=index-0.07 , y =before_values[index]+difference_values[index]+0.05 , s=f\"{round(data,2)}%\" , fontdict=dict(fontsize=11, color='black'))\n",
    "ax.yaxis.grid(zorder=0)\n",
    "plt.show()"
   ]
  }
 ],
 "metadata": {
  "kernelspec": {
   "display_name": "Python 3",
   "language": "python",
   "name": "python3"
  },
  "language_info": {
   "codemirror_mode": {
    "name": "ipython",
    "version": 3
   },
   "file_extension": ".py",
   "mimetype": "text/x-python",
   "name": "python",
   "nbconvert_exporter": "python",
   "pygments_lexer": "ipython3",
   "version": "3.7.3"
  },
  "metadata": {
   "interpreter": {
    "hash": "aee8b7b246df8f9039afb4144a1f6fd8d2ca17a180786b69acc140d282b71a49"
   }
  }
 },
 "nbformat": 4,
 "nbformat_minor": 5
}
