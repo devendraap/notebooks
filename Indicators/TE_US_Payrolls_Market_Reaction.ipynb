{
 "cells": [
  {
   "cell_type": "markdown",
   "id": "6d474fb0-d745-495b-8bb7-07f29c8d61eb",
   "metadata": {},
   "source": [
    "# Market Reaction to US Nonfarm payrolls release"
   ]
  },
  {
   "cell_type": "code",
   "execution_count": 1,
   "id": "c738cc5f-9c7d-45d9-bbc1-da2fae3d977f",
   "metadata": {},
   "outputs": [],
   "source": [
    "import tradingeconomics as te\n",
    "import pandas as pd\n",
    "import plotly.express as px\n",
    "from datetime import datetime, timedelta, date\n",
    "import plotly.graph_objects as go"
   ]
  },
  {
   "cell_type": "code",
   "execution_count": 2,
   "id": "48d7eefe-260a-4998-ada1-7f607b6cc113",
   "metadata": {},
   "outputs": [
    {
     "data": {
      "text/plain": [
       "'You are logged in as a jupyter:jupyter'"
      ]
     },
     "execution_count": 2,
     "metadata": {},
     "output_type": "execute_result"
    }
   ],
   "source": [
    "te.login()"
   ]
  },
  {
   "cell_type": "markdown",
   "id": "884bcab9-b5e0-4e84-b82c-c3e26e2cbaa4",
   "metadata": {},
   "source": [
    "### Getting US Non Farm Payroll historical symbol"
   ]
  },
  {
   "cell_type": "code",
   "execution_count": 3,
   "id": "32c49150-8c0e-40d0-bf6b-5b1b80648a38",
   "metadata": {},
   "outputs": [],
   "source": [
    "us_non_farm_payroll = te.getIndicatorData(country='united states', output_type='df')"
   ]
  },
  {
   "cell_type": "code",
   "execution_count": 4,
   "id": "0220c1ea-7a9e-427f-b9a7-02a2674ca3cb",
   "metadata": {},
   "outputs": [
    {
     "data": {
      "text/html": [
       "<div>\n",
       "<style scoped>\n",
       "    .dataframe tbody tr th:only-of-type {\n",
       "        vertical-align: middle;\n",
       "    }\n",
       "\n",
       "    .dataframe tbody tr th {\n",
       "        vertical-align: top;\n",
       "    }\n",
       "\n",
       "    .dataframe thead th {\n",
       "        text-align: right;\n",
       "    }\n",
       "</style>\n",
       "<table border=\"1\" class=\"dataframe\">\n",
       "  <thead>\n",
       "    <tr style=\"text-align: right;\">\n",
       "      <th></th>\n",
       "      <th>Category</th>\n",
       "      <th>HistoricalDataSymbol</th>\n",
       "    </tr>\n",
       "  </thead>\n",
       "  <tbody>\n",
       "    <tr>\n",
       "      <th>220</th>\n",
       "      <td>Non Farm Payrolls</td>\n",
       "      <td>NFP TCH</td>\n",
       "    </tr>\n",
       "  </tbody>\n",
       "</table>\n",
       "</div>"
      ],
      "text/plain": [
       "              Category HistoricalDataSymbol\n",
       "220  Non Farm Payrolls              NFP TCH"
      ]
     },
     "execution_count": 4,
     "metadata": {},
     "output_type": "execute_result"
    }
   ],
   "source": [
    "us_non_farm_payroll[['Category','HistoricalDataSymbol']].query('Category == \"Non Farm Payrolls\"')"
   ]
  },
  {
   "cell_type": "markdown",
   "id": "5dc9d7af-0e18-4b89-8435-971019a78043",
   "metadata": {},
   "source": [
    "### Getting Historical Data"
   ]
  },
  {
   "cell_type": "markdown",
   "id": "22acac32-991f-44fa-b770-a31c89732a92",
   "metadata": {},
   "source": [
    "#### Forecast"
   ]
  },
  {
   "cell_type": "code",
   "execution_count": 5,
   "id": "04084066-584f-493d-b438-4861e6640467",
   "metadata": {},
   "outputs": [
    {
     "name": "stdout",
     "output_type": "stream",
     "text": [
      "https://api.tradingeconomics.com/forecast/ticker/NFP%20TCH?c=jupyter:jupyter\n"
     ]
    }
   ],
   "source": [
    "us_non_farm_payroll_forecast = te.getForecastByTicker(ticker= 'NFP TCH', output_type='df')"
   ]
  },
  {
   "cell_type": "code",
   "execution_count": 6,
   "id": "467e977b-94d3-44e6-8231-8134bfd321ee",
   "metadata": {},
   "outputs": [
    {
     "data": {
      "text/html": [
       "<div>\n",
       "<style scoped>\n",
       "    .dataframe tbody tr th:only-of-type {\n",
       "        vertical-align: middle;\n",
       "    }\n",
       "\n",
       "    .dataframe tbody tr th {\n",
       "        vertical-align: top;\n",
       "    }\n",
       "\n",
       "    .dataframe thead th {\n",
       "        text-align: right;\n",
       "    }\n",
       "</style>\n",
       "<table border=\"1\" class=\"dataframe\">\n",
       "  <thead>\n",
       "    <tr style=\"text-align: right;\">\n",
       "      <th></th>\n",
       "      <th>Country</th>\n",
       "      <th>Category</th>\n",
       "      <th>Title</th>\n",
       "      <th>LatestValue</th>\n",
       "      <th>LatestValueDate</th>\n",
       "      <th>q1</th>\n",
       "      <th>q2</th>\n",
       "      <th>q3</th>\n",
       "      <th>q4</th>\n",
       "      <th>YearEnd</th>\n",
       "      <th>YearEnd2</th>\n",
       "      <th>YearEnd3</th>\n",
       "      <th>q1_date</th>\n",
       "      <th>q2_date</th>\n",
       "      <th>q3_date</th>\n",
       "      <th>q4_date</th>\n",
       "      <th>Frequency</th>\n",
       "      <th>HistoricalDataSymbol</th>\n",
       "    </tr>\n",
       "  </thead>\n",
       "  <tbody>\n",
       "    <tr>\n",
       "      <th>0</th>\n",
       "      <td>United States</td>\n",
       "      <td>Non Farm Payrolls</td>\n",
       "      <td>United States Non Farm Payrolls</td>\n",
       "      <td>531.0</td>\n",
       "      <td>2021-10-31T00:00:00</td>\n",
       "      <td>550.0</td>\n",
       "      <td>350.0</td>\n",
       "      <td>500.0</td>\n",
       "      <td>400.0</td>\n",
       "      <td>550.0</td>\n",
       "      <td>280.0</td>\n",
       "      <td>280.0</td>\n",
       "      <td>2021-12-31T00:00:00</td>\n",
       "      <td>2022-03-31T00:00:00</td>\n",
       "      <td>2022-06-30T00:00:00</td>\n",
       "      <td>2022-09-30T00:00:00</td>\n",
       "      <td>Monthly</td>\n",
       "      <td>NFP TCH</td>\n",
       "    </tr>\n",
       "  </tbody>\n",
       "</table>\n",
       "</div>"
      ],
      "text/plain": [
       "         Country           Category                            Title  \\\n",
       "0  United States  Non Farm Payrolls  United States Non Farm Payrolls   \n",
       "\n",
       "   LatestValue      LatestValueDate     q1     q2     q3     q4  YearEnd  \\\n",
       "0        531.0  2021-10-31T00:00:00  550.0  350.0  500.0  400.0    550.0   \n",
       "\n",
       "   YearEnd2  YearEnd3              q1_date              q2_date  \\\n",
       "0     280.0     280.0  2021-12-31T00:00:00  2022-03-31T00:00:00   \n",
       "\n",
       "               q3_date              q4_date Frequency HistoricalDataSymbol  \n",
       "0  2022-06-30T00:00:00  2022-09-30T00:00:00   Monthly              NFP TCH  "
      ]
     },
     "execution_count": 6,
     "metadata": {},
     "output_type": "execute_result"
    }
   ],
   "source": [
    "us_non_farm_payroll_forecast"
   ]
  },
  {
   "cell_type": "markdown",
   "id": "9968f4fb-235a-4e7d-b69c-2a5d31a8066a",
   "metadata": {},
   "source": [
    "### Us non farm payroll Historical data"
   ]
  },
  {
   "cell_type": "code",
   "execution_count": 7,
   "id": "12b51a4b-770e-4be6-ab7c-5888b37413d9",
   "metadata": {},
   "outputs": [],
   "source": [
    "us_non_farm_payroll_historical = te.getHistoricalByTicker(ticker = 'NFP TCH', start_date = '2021-01-01',output_type='df')  "
   ]
  },
  {
   "cell_type": "code",
   "execution_count": 8,
   "id": "eb91ebda-1918-4fb8-b83b-8ea5d5ebfea4",
   "metadata": {},
   "outputs": [
    {
     "data": {
      "text/html": [
       "<div>\n",
       "<style scoped>\n",
       "    .dataframe tbody tr th:only-of-type {\n",
       "        vertical-align: middle;\n",
       "    }\n",
       "\n",
       "    .dataframe tbody tr th {\n",
       "        vertical-align: top;\n",
       "    }\n",
       "\n",
       "    .dataframe thead th {\n",
       "        text-align: right;\n",
       "    }\n",
       "</style>\n",
       "<table border=\"1\" class=\"dataframe\">\n",
       "  <thead>\n",
       "    <tr style=\"text-align: right;\">\n",
       "      <th></th>\n",
       "      <th>Country</th>\n",
       "      <th>Category</th>\n",
       "      <th>DateTime</th>\n",
       "      <th>Value</th>\n",
       "      <th>Frequency</th>\n",
       "      <th>HistoricalDataSymbol</th>\n",
       "      <th>LastUpdate</th>\n",
       "    </tr>\n",
       "  </thead>\n",
       "  <tbody>\n",
       "    <tr>\n",
       "      <th>0</th>\n",
       "      <td>United States</td>\n",
       "      <td>Non Farm Payrolls</td>\n",
       "      <td>2021-01-31T00:00:00</td>\n",
       "      <td>233.0</td>\n",
       "      <td>Monthly</td>\n",
       "      <td>NFP TCH</td>\n",
       "      <td>2021-04-02T12:42:00</td>\n",
       "    </tr>\n",
       "    <tr>\n",
       "      <th>1</th>\n",
       "      <td>United States</td>\n",
       "      <td>Non Farm Payrolls</td>\n",
       "      <td>2021-02-28T00:00:00</td>\n",
       "      <td>536.0</td>\n",
       "      <td>Monthly</td>\n",
       "      <td>NFP TCH</td>\n",
       "      <td>2021-05-07T12:37:00</td>\n",
       "    </tr>\n",
       "    <tr>\n",
       "      <th>2</th>\n",
       "      <td>United States</td>\n",
       "      <td>Non Farm Payrolls</td>\n",
       "      <td>2021-03-31T00:00:00</td>\n",
       "      <td>785.0</td>\n",
       "      <td>Monthly</td>\n",
       "      <td>NFP TCH</td>\n",
       "      <td>2021-06-04T12:58:00</td>\n",
       "    </tr>\n",
       "    <tr>\n",
       "      <th>3</th>\n",
       "      <td>United States</td>\n",
       "      <td>Non Farm Payrolls</td>\n",
       "      <td>2021-04-30T00:00:00</td>\n",
       "      <td>269.0</td>\n",
       "      <td>Monthly</td>\n",
       "      <td>NFP TCH</td>\n",
       "      <td>2021-07-02T12:37:00</td>\n",
       "    </tr>\n",
       "    <tr>\n",
       "      <th>4</th>\n",
       "      <td>United States</td>\n",
       "      <td>Non Farm Payrolls</td>\n",
       "      <td>2021-05-31T00:00:00</td>\n",
       "      <td>614.0</td>\n",
       "      <td>Monthly</td>\n",
       "      <td>NFP TCH</td>\n",
       "      <td>2021-08-06T12:39:00</td>\n",
       "    </tr>\n",
       "    <tr>\n",
       "      <th>5</th>\n",
       "      <td>United States</td>\n",
       "      <td>Non Farm Payrolls</td>\n",
       "      <td>2021-06-30T00:00:00</td>\n",
       "      <td>962.0</td>\n",
       "      <td>Monthly</td>\n",
       "      <td>NFP TCH</td>\n",
       "      <td>2021-09-03T12:37:00</td>\n",
       "    </tr>\n",
       "    <tr>\n",
       "      <th>6</th>\n",
       "      <td>United States</td>\n",
       "      <td>Non Farm Payrolls</td>\n",
       "      <td>2021-07-31T00:00:00</td>\n",
       "      <td>1091.0</td>\n",
       "      <td>Monthly</td>\n",
       "      <td>NFP TCH</td>\n",
       "      <td>2021-10-08T12:54:00</td>\n",
       "    </tr>\n",
       "    <tr>\n",
       "      <th>7</th>\n",
       "      <td>United States</td>\n",
       "      <td>Non Farm Payrolls</td>\n",
       "      <td>2021-08-31T00:00:00</td>\n",
       "      <td>483.0</td>\n",
       "      <td>Monthly</td>\n",
       "      <td>NFP TCH</td>\n",
       "      <td>2021-11-05T12:34:00</td>\n",
       "    </tr>\n",
       "    <tr>\n",
       "      <th>8</th>\n",
       "      <td>United States</td>\n",
       "      <td>Non Farm Payrolls</td>\n",
       "      <td>2021-09-30T00:00:00</td>\n",
       "      <td>312.0</td>\n",
       "      <td>Monthly</td>\n",
       "      <td>NFP TCH</td>\n",
       "      <td>2021-11-05T12:30:00</td>\n",
       "    </tr>\n",
       "    <tr>\n",
       "      <th>9</th>\n",
       "      <td>United States</td>\n",
       "      <td>Non Farm Payrolls</td>\n",
       "      <td>2021-10-31T00:00:00</td>\n",
       "      <td>531.0</td>\n",
       "      <td>Monthly</td>\n",
       "      <td>NFP TCH</td>\n",
       "      <td>2021-11-05T12:30:00</td>\n",
       "    </tr>\n",
       "  </tbody>\n",
       "</table>\n",
       "</div>"
      ],
      "text/plain": [
       "         Country           Category             DateTime   Value Frequency  \\\n",
       "0  United States  Non Farm Payrolls  2021-01-31T00:00:00   233.0   Monthly   \n",
       "1  United States  Non Farm Payrolls  2021-02-28T00:00:00   536.0   Monthly   \n",
       "2  United States  Non Farm Payrolls  2021-03-31T00:00:00   785.0   Monthly   \n",
       "3  United States  Non Farm Payrolls  2021-04-30T00:00:00   269.0   Monthly   \n",
       "4  United States  Non Farm Payrolls  2021-05-31T00:00:00   614.0   Monthly   \n",
       "5  United States  Non Farm Payrolls  2021-06-30T00:00:00   962.0   Monthly   \n",
       "6  United States  Non Farm Payrolls  2021-07-31T00:00:00  1091.0   Monthly   \n",
       "7  United States  Non Farm Payrolls  2021-08-31T00:00:00   483.0   Monthly   \n",
       "8  United States  Non Farm Payrolls  2021-09-30T00:00:00   312.0   Monthly   \n",
       "9  United States  Non Farm Payrolls  2021-10-31T00:00:00   531.0   Monthly   \n",
       "\n",
       "  HistoricalDataSymbol           LastUpdate  \n",
       "0              NFP TCH  2021-04-02T12:42:00  \n",
       "1              NFP TCH  2021-05-07T12:37:00  \n",
       "2              NFP TCH  2021-06-04T12:58:00  \n",
       "3              NFP TCH  2021-07-02T12:37:00  \n",
       "4              NFP TCH  2021-08-06T12:39:00  \n",
       "5              NFP TCH  2021-09-03T12:37:00  \n",
       "6              NFP TCH  2021-10-08T12:54:00  \n",
       "7              NFP TCH  2021-11-05T12:34:00  \n",
       "8              NFP TCH  2021-11-05T12:30:00  \n",
       "9              NFP TCH  2021-11-05T12:30:00  "
      ]
     },
     "execution_count": 8,
     "metadata": {},
     "output_type": "execute_result"
    }
   ],
   "source": [
    "us_non_farm_payroll_historical"
   ]
  },
  {
   "cell_type": "code",
   "execution_count": 9,
   "id": "62cf56d3-1f1d-4e49-9ea8-86fccac82c80",
   "metadata": {},
   "outputs": [],
   "source": [
    "us_non_farm_09_10_11_20201 = us_non_farm_payroll_historical[['Value','LastUpdate']][5:10]"
   ]
  },
  {
   "cell_type": "code",
   "execution_count": 10,
   "id": "a3a7b6fc-0edf-4811-93bb-2e47a369bebc",
   "metadata": {},
   "outputs": [
    {
     "data": {
      "text/html": [
       "<div>\n",
       "<style scoped>\n",
       "    .dataframe tbody tr th:only-of-type {\n",
       "        vertical-align: middle;\n",
       "    }\n",
       "\n",
       "    .dataframe tbody tr th {\n",
       "        vertical-align: top;\n",
       "    }\n",
       "\n",
       "    .dataframe thead th {\n",
       "        text-align: right;\n",
       "    }\n",
       "</style>\n",
       "<table border=\"1\" class=\"dataframe\">\n",
       "  <thead>\n",
       "    <tr style=\"text-align: right;\">\n",
       "      <th></th>\n",
       "      <th>Value</th>\n",
       "      <th>LastUpdate</th>\n",
       "    </tr>\n",
       "  </thead>\n",
       "  <tbody>\n",
       "    <tr>\n",
       "      <th>5</th>\n",
       "      <td>962.0</td>\n",
       "      <td>2021-09-03T12:37:00</td>\n",
       "    </tr>\n",
       "    <tr>\n",
       "      <th>6</th>\n",
       "      <td>1091.0</td>\n",
       "      <td>2021-10-08T12:54:00</td>\n",
       "    </tr>\n",
       "    <tr>\n",
       "      <th>7</th>\n",
       "      <td>483.0</td>\n",
       "      <td>2021-11-05T12:34:00</td>\n",
       "    </tr>\n",
       "    <tr>\n",
       "      <th>8</th>\n",
       "      <td>312.0</td>\n",
       "      <td>2021-11-05T12:30:00</td>\n",
       "    </tr>\n",
       "    <tr>\n",
       "      <th>9</th>\n",
       "      <td>531.0</td>\n",
       "      <td>2021-11-05T12:30:00</td>\n",
       "    </tr>\n",
       "  </tbody>\n",
       "</table>\n",
       "</div>"
      ],
      "text/plain": [
       "    Value           LastUpdate\n",
       "5   962.0  2021-09-03T12:37:00\n",
       "6  1091.0  2021-10-08T12:54:00\n",
       "7   483.0  2021-11-05T12:34:00\n",
       "8   312.0  2021-11-05T12:30:00\n",
       "9   531.0  2021-11-05T12:30:00"
      ]
     },
     "execution_count": 10,
     "metadata": {},
     "output_type": "execute_result"
    }
   ],
   "source": [
    "us_non_farm_09_10_11_20201"
   ]
  },
  {
   "cell_type": "code",
   "execution_count": 11,
   "id": "7a508d18-88e4-4463-9cee-f8b4797171fa",
   "metadata": {},
   "outputs": [],
   "source": [
    "us_non_farm_09_10_11_20201 = us_non_farm_09_10_11_20201.drop(index=[7,8])"
   ]
  },
  {
   "cell_type": "code",
   "execution_count": 12,
   "id": "764b3e0a-fb3f-4afc-bdc2-b2da21f264fe",
   "metadata": {},
   "outputs": [],
   "source": [
    "us_non_farm_09_10_11_20201['forecast'] = [1,2,3]"
   ]
  },
  {
   "cell_type": "code",
   "execution_count": 13,
   "id": "4d05208d-b6aa-4dd7-b2cd-9bff217cb32b",
   "metadata": {},
   "outputs": [
    {
     "data": {
      "text/html": [
       "<div>\n",
       "<style scoped>\n",
       "    .dataframe tbody tr th:only-of-type {\n",
       "        vertical-align: middle;\n",
       "    }\n",
       "\n",
       "    .dataframe tbody tr th {\n",
       "        vertical-align: top;\n",
       "    }\n",
       "\n",
       "    .dataframe thead th {\n",
       "        text-align: right;\n",
       "    }\n",
       "</style>\n",
       "<table border=\"1\" class=\"dataframe\">\n",
       "  <thead>\n",
       "    <tr style=\"text-align: right;\">\n",
       "      <th></th>\n",
       "      <th>Value</th>\n",
       "      <th>LastUpdate</th>\n",
       "      <th>forecast</th>\n",
       "    </tr>\n",
       "  </thead>\n",
       "  <tbody>\n",
       "    <tr>\n",
       "      <th>5</th>\n",
       "      <td>962.0</td>\n",
       "      <td>2021-09-03T12:37:00</td>\n",
       "      <td>1</td>\n",
       "    </tr>\n",
       "    <tr>\n",
       "      <th>6</th>\n",
       "      <td>1091.0</td>\n",
       "      <td>2021-10-08T12:54:00</td>\n",
       "      <td>2</td>\n",
       "    </tr>\n",
       "    <tr>\n",
       "      <th>9</th>\n",
       "      <td>531.0</td>\n",
       "      <td>2021-11-05T12:30:00</td>\n",
       "      <td>3</td>\n",
       "    </tr>\n",
       "  </tbody>\n",
       "</table>\n",
       "</div>"
      ],
      "text/plain": [
       "    Value           LastUpdate  forecast\n",
       "5   962.0  2021-09-03T12:37:00         1\n",
       "6  1091.0  2021-10-08T12:54:00         2\n",
       "9   531.0  2021-11-05T12:30:00         3"
      ]
     },
     "execution_count": 13,
     "metadata": {},
     "output_type": "execute_result"
    }
   ],
   "source": [
    "us_non_farm_09_10_11_20201"
   ]
  },
  {
   "cell_type": "code",
   "execution_count": 14,
   "id": "49a915c5-dfca-42a7-9118-680b3f4dd634",
   "metadata": {},
   "outputs": [],
   "source": [
    "us_indexes = te.getMarketsData(marketsField = 'index', output_type = 'df')"
   ]
  },
  {
   "cell_type": "code",
   "execution_count": 15,
   "id": "f669dade-ea37-4737-9444-6808f0f76b9a",
   "metadata": {},
   "outputs": [
    {
     "data": {
      "text/plain": [
       "['W5000:IND',\n",
       " 'CCMP:IND',\n",
       " 'MID:IND',\n",
       " 'RTY:IND',\n",
       " 'VIX:IND',\n",
       " 'INDU:IND',\n",
       " 'SPX:IND',\n",
       " 'NDX:IND']"
      ]
     },
     "execution_count": 15,
     "metadata": {},
     "output_type": "execute_result"
    }
   ],
   "source": [
    "us_indexes = us_indexes[['Symbol','Country']].query('Country == \"United States\"')\n",
    "us_indexes_list = us_indexes.Symbol.to_list()\n",
    "us_indexes_list"
   ]
  },
  {
   "cell_type": "markdown",
   "id": "b4e1f105-bc04-48bd-a745-40609790535d",
   "metadata": {},
   "source": [
    "## Reactions at September 2021 "
   ]
  },
  {
   "cell_type": "markdown",
   "id": "32af0b49-9e6d-4557-a8f2-54fde6ea5a01",
   "metadata": {},
   "source": [
    "### Euro Usd Reaction"
   ]
  },
  {
   "cell_type": "code",
   "execution_count": 16,
   "id": "7c464a25-b2e2-426a-b159-17ee55c2e27d",
   "metadata": {},
   "outputs": [],
   "source": [
    "eur_usd_intraday = te.getMarketsIntraday(symbols = ['eurusd:cur'], initDate='2021-09-03', endDate='2021-09-04', output_type = 'df')"
   ]
  },
  {
   "cell_type": "code",
   "execution_count": 17,
   "id": "b53c6041-4df3-4ac7-a59e-554a72308838",
   "metadata": {},
   "outputs": [
    {
     "data": {
      "text/html": [
       "<div>\n",
       "<style scoped>\n",
       "    .dataframe tbody tr th:only-of-type {\n",
       "        vertical-align: middle;\n",
       "    }\n",
       "\n",
       "    .dataframe tbody tr th {\n",
       "        vertical-align: top;\n",
       "    }\n",
       "\n",
       "    .dataframe thead th {\n",
       "        text-align: right;\n",
       "    }\n",
       "</style>\n",
       "<table border=\"1\" class=\"dataframe\">\n",
       "  <thead>\n",
       "    <tr style=\"text-align: right;\">\n",
       "      <th></th>\n",
       "      <th>Symbol</th>\n",
       "      <th>Date</th>\n",
       "      <th>Open</th>\n",
       "      <th>High</th>\n",
       "      <th>Low</th>\n",
       "      <th>Close</th>\n",
       "    </tr>\n",
       "  </thead>\n",
       "  <tbody>\n",
       "    <tr>\n",
       "      <th>521</th>\n",
       "      <td>EURUSD:CUR</td>\n",
       "      <td>2021-09-03T12:00:00</td>\n",
       "      <td>1.18736</td>\n",
       "      <td>1.18736</td>\n",
       "      <td>1.18703</td>\n",
       "      <td>1.18716</td>\n",
       "    </tr>\n",
       "  </tbody>\n",
       "</table>\n",
       "</div>"
      ],
      "text/plain": [
       "         Symbol                 Date     Open     High      Low    Close\n",
       "521  EURUSD:CUR  2021-09-03T12:00:00  1.18736  1.18736  1.18703  1.18716"
      ]
     },
     "execution_count": 17,
     "metadata": {},
     "output_type": "execute_result"
    }
   ],
   "source": [
    "eur_usd_intraday.query('Date == \"2021-09-03T12:00:00\"')"
   ]
  },
  {
   "cell_type": "code",
   "execution_count": 18,
   "id": "0c7e3af8-779e-45b6-a739-4c19307b06c5",
   "metadata": {},
   "outputs": [
    {
     "data": {
      "text/html": [
       "<div>\n",
       "<style scoped>\n",
       "    .dataframe tbody tr th:only-of-type {\n",
       "        vertical-align: middle;\n",
       "    }\n",
       "\n",
       "    .dataframe tbody tr th {\n",
       "        vertical-align: top;\n",
       "    }\n",
       "\n",
       "    .dataframe thead th {\n",
       "        text-align: right;\n",
       "    }\n",
       "</style>\n",
       "<table border=\"1\" class=\"dataframe\">\n",
       "  <thead>\n",
       "    <tr style=\"text-align: right;\">\n",
       "      <th></th>\n",
       "      <th>Symbol</th>\n",
       "      <th>Date</th>\n",
       "      <th>Open</th>\n",
       "      <th>High</th>\n",
       "      <th>Low</th>\n",
       "      <th>Close</th>\n",
       "    </tr>\n",
       "  </thead>\n",
       "  <tbody>\n",
       "    <tr>\n",
       "      <th>461</th>\n",
       "      <td>EURUSD:CUR</td>\n",
       "      <td>2021-09-03T13:00:00</td>\n",
       "      <td>1.18914</td>\n",
       "      <td>1.18937</td>\n",
       "      <td>1.18894</td>\n",
       "      <td>1.18912</td>\n",
       "    </tr>\n",
       "  </tbody>\n",
       "</table>\n",
       "</div>"
      ],
      "text/plain": [
       "         Symbol                 Date     Open     High      Low    Close\n",
       "461  EURUSD:CUR  2021-09-03T13:00:00  1.18914  1.18937  1.18894  1.18912"
      ]
     },
     "execution_count": 18,
     "metadata": {},
     "output_type": "execute_result"
    }
   ],
   "source": [
    "eur_usd_intraday.query('Date == \"2021-09-03T13:00:00\"')"
   ]
  },
  {
   "cell_type": "code",
   "execution_count": 19,
   "id": "9175facf-6c60-459b-9c4a-1f073742032d",
   "metadata": {},
   "outputs": [
    {
     "data": {
      "application/vnd.plotly.v1+json": {
       "config": {
        "plotlyServerURL": "https://plot.ly"
       },
       "data": [
        {
         "close": [
          1.18912,
          1.18912,
          1.1892,
          1.18927,
          1.18973,
          1.18946,
          1.18915,
          1.18929,
          1.18858,
          1.18852,
          1.18867,
          1.18853,
          1.18814,
          1.18807,
          1.18807,
          1.18754,
          1.18732,
          1.18771,
          1.18768,
          1.18698,
          1.18695,
          1.18754,
          1.18841,
          1.18846,
          1.18892,
          1.18905,
          1.18959,
          1.19056,
          1.19081,
          1.19054,
          1.18994,
          1.18709,
          1.18706,
          1.1871,
          1.18701,
          1.18707,
          1.18732,
          1.18752,
          1.1875,
          1.18744,
          1.18742,
          1.1875,
          1.18742,
          1.18747,
          1.18732,
          1.18732,
          1.18718,
          1.18726,
          1.18709,
          1.18749,
          1.18751,
          1.18744,
          1.1874,
          1.18736,
          1.18753,
          1.18736,
          1.18725,
          1.18723,
          1.18714,
          1.18714,
          1.18716,
          1.18732,
          1.18724,
          1.1873,
          1.18748
         ],
         "high": [
          1.18937,
          1.1895,
          1.18943,
          1.18985,
          1.18984,
          1.18972,
          1.18937,
          1.18935,
          1.18862,
          1.18891,
          1.18894,
          1.18858,
          1.18827,
          1.18824,
          1.18809,
          1.18754,
          1.18768,
          1.18792,
          1.18783,
          1.18736,
          1.18773,
          1.18862,
          1.18892,
          1.18917,
          1.18916,
          1.18994,
          1.19057,
          1.1909,
          1.19083,
          1.1906,
          1.19001,
          1.1871,
          1.18713,
          1.1871,
          1.18704,
          1.18731,
          1.18751,
          1.18754,
          1.18752,
          1.18754,
          1.18758,
          1.18752,
          1.18754,
          1.1875,
          1.18732,
          1.18733,
          1.18728,
          1.18728,
          1.18752,
          1.18756,
          1.18754,
          1.18748,
          1.18742,
          1.18752,
          1.18754,
          1.18736,
          1.18734,
          1.18726,
          1.18721,
          1.18727,
          1.18736,
          1.18745,
          1.18738,
          1.18753,
          1.18749
         ],
         "low": [
          1.18894,
          1.1891,
          1.18912,
          1.18921,
          1.1894,
          1.18916,
          1.18907,
          1.1885,
          1.18841,
          1.18833,
          1.18844,
          1.18813,
          1.18801,
          1.18783,
          1.18749,
          1.18697,
          1.18727,
          1.18743,
          1.18657,
          1.18685,
          1.18684,
          1.18741,
          1.18813,
          1.18837,
          1.18843,
          1.18903,
          1.18953,
          1.19052,
          1.19032,
          1.18986,
          1.18705,
          1.18701,
          1.18704,
          1.18698,
          1.18699,
          1.18701,
          1.18731,
          1.18736,
          1.18733,
          1.1874,
          1.18738,
          1.1874,
          1.18742,
          1.18721,
          1.18708,
          1.18716,
          1.18716,
          1.18714,
          1.18699,
          1.18747,
          1.18743,
          1.1874,
          1.18735,
          1.18732,
          1.18727,
          1.18724,
          1.18721,
          1.18704,
          1.18713,
          1.18703,
          1.18703,
          1.18725,
          1.18719,
          1.18725,
          1.18738
         ],
         "open": [
          1.18914,
          1.18919,
          1.18925,
          1.18972,
          1.1895,
          1.18916,
          1.18933,
          1.18856,
          1.1885,
          1.18866,
          1.1885,
          1.18813,
          1.18806,
          1.18804,
          1.18757,
          1.18733,
          1.18768,
          1.18766,
          1.18695,
          1.18697,
          1.18757,
          1.18842,
          1.18847,
          1.18893,
          1.18906,
          1.18965,
          1.19057,
          1.19083,
          1.19055,
          1.18993,
          1.18705,
          1.18707,
          1.18712,
          1.187,
          1.18704,
          1.18731,
          1.18751,
          1.18748,
          1.18745,
          1.18743,
          1.18749,
          1.18743,
          1.18749,
          1.18733,
          1.18729,
          1.18719,
          1.18727,
          1.18715,
          1.1875,
          1.18752,
          1.18743,
          1.18741,
          1.18735,
          1.18752,
          1.18738,
          1.18726,
          1.18721,
          1.18715,
          1.18716,
          1.18719,
          1.18736,
          1.18725,
          1.18731,
          1.18749,
          1.18747
         ],
         "type": "candlestick",
         "x": [
          "2021-09-03T13:00:00",
          "2021-09-03T12:59:00",
          "2021-09-03T12:58:00",
          "2021-09-03T12:57:00",
          "2021-09-03T12:56:00",
          "2021-09-03T12:55:00",
          "2021-09-03T12:54:00",
          "2021-09-03T12:53:00",
          "2021-09-03T12:52:00",
          "2021-09-03T12:51:00",
          "2021-09-03T12:50:00",
          "2021-09-03T12:49:00",
          "2021-09-03T12:48:00",
          "2021-09-03T12:47:00",
          "2021-09-03T12:46:00",
          "2021-09-03T12:45:00",
          "2021-09-03T12:44:00",
          "2021-09-03T12:43:00",
          "2021-09-03T12:42:00",
          "2021-09-03T12:41:00",
          "2021-09-03T12:40:00",
          "2021-09-03T12:39:00",
          "2021-09-03T12:38:00",
          "2021-09-03T12:37:00",
          "2021-09-03T12:36:00",
          "2021-09-03T12:35:00",
          "2021-09-03T12:34:00",
          "2021-09-03T12:33:00",
          "2021-09-03T12:32:00",
          "2021-09-03T12:31:00",
          "2021-09-03T12:30:00",
          "2021-09-03T12:29:00",
          "2021-09-03T12:28:00",
          "2021-09-03T12:27:00",
          "2021-09-03T12:26:00",
          "2021-09-03T12:25:00",
          "2021-09-03T12:24:00",
          "2021-09-03T12:23:00",
          "2021-09-03T12:22:00",
          "2021-09-03T12:21:00",
          "2021-09-03T12:20:00",
          "2021-09-03T12:19:00",
          "2021-09-03T12:18:00",
          "2021-09-03T12:17:00",
          "2021-09-03T12:16:00",
          "2021-09-03T12:15:00",
          "2021-09-03T12:14:00",
          "2021-09-03T12:13:00",
          "2021-09-03T12:12:00",
          "2021-09-03T12:11:00",
          "2021-09-03T12:10:00",
          "2021-09-03T12:09:00",
          "2021-09-03T12:08:00",
          "2021-09-03T12:07:00",
          "2021-09-03T12:06:00",
          "2021-09-03T12:05:00",
          "2021-09-03T12:04:00",
          "2021-09-03T12:03:00",
          "2021-09-03T12:02:00",
          "2021-09-03T12:01:00",
          "2021-09-03T12:00:00",
          "2021-09-03T11:59:00",
          "2021-09-03T11:58:00",
          "2021-09-03T11:57:00",
          "2021-09-03T11:56:00"
         ]
        }
       ],
       "layout": {
        "annotations": [
         {
          "showarrow": false,
          "text": "US non Payrolls Release",
          "x": "2021-09-03T12:37:00",
          "xanchor": "left",
          "xref": "x",
          "y": 1,
          "yref": "paper"
         }
        ],
        "autosize": true,
        "shapes": [
         {
          "line": {
           "width": 2
          },
          "x0": "2021-09-03T12:37:00",
          "x1": "2021-09-03T12:37:00",
          "xref": "x",
          "y0": 0,
          "y1": 1,
          "yref": "paper"
         }
        ],
        "template": {
         "data": {
          "bar": [
           {
            "error_x": {
             "color": "#2a3f5f"
            },
            "error_y": {
             "color": "#2a3f5f"
            },
            "marker": {
             "line": {
              "color": "#E5ECF6",
              "width": 0.5
             },
             "pattern": {
              "fillmode": "overlay",
              "size": 10,
              "solidity": 0.2
             }
            },
            "type": "bar"
           }
          ],
          "barpolar": [
           {
            "marker": {
             "line": {
              "color": "#E5ECF6",
              "width": 0.5
             },
             "pattern": {
              "fillmode": "overlay",
              "size": 10,
              "solidity": 0.2
             }
            },
            "type": "barpolar"
           }
          ],
          "carpet": [
           {
            "aaxis": {
             "endlinecolor": "#2a3f5f",
             "gridcolor": "white",
             "linecolor": "white",
             "minorgridcolor": "white",
             "startlinecolor": "#2a3f5f"
            },
            "baxis": {
             "endlinecolor": "#2a3f5f",
             "gridcolor": "white",
             "linecolor": "white",
             "minorgridcolor": "white",
             "startlinecolor": "#2a3f5f"
            },
            "type": "carpet"
           }
          ],
          "choropleth": [
           {
            "colorbar": {
             "outlinewidth": 0,
             "ticks": ""
            },
            "type": "choropleth"
           }
          ],
          "contour": [
           {
            "colorbar": {
             "outlinewidth": 0,
             "ticks": ""
            },
            "colorscale": [
             [
              0,
              "#0d0887"
             ],
             [
              0.1111111111111111,
              "#46039f"
             ],
             [
              0.2222222222222222,
              "#7201a8"
             ],
             [
              0.3333333333333333,
              "#9c179e"
             ],
             [
              0.4444444444444444,
              "#bd3786"
             ],
             [
              0.5555555555555556,
              "#d8576b"
             ],
             [
              0.6666666666666666,
              "#ed7953"
             ],
             [
              0.7777777777777778,
              "#fb9f3a"
             ],
             [
              0.8888888888888888,
              "#fdca26"
             ],
             [
              1,
              "#f0f921"
             ]
            ],
            "type": "contour"
           }
          ],
          "contourcarpet": [
           {
            "colorbar": {
             "outlinewidth": 0,
             "ticks": ""
            },
            "type": "contourcarpet"
           }
          ],
          "heatmap": [
           {
            "colorbar": {
             "outlinewidth": 0,
             "ticks": ""
            },
            "colorscale": [
             [
              0,
              "#0d0887"
             ],
             [
              0.1111111111111111,
              "#46039f"
             ],
             [
              0.2222222222222222,
              "#7201a8"
             ],
             [
              0.3333333333333333,
              "#9c179e"
             ],
             [
              0.4444444444444444,
              "#bd3786"
             ],
             [
              0.5555555555555556,
              "#d8576b"
             ],
             [
              0.6666666666666666,
              "#ed7953"
             ],
             [
              0.7777777777777778,
              "#fb9f3a"
             ],
             [
              0.8888888888888888,
              "#fdca26"
             ],
             [
              1,
              "#f0f921"
             ]
            ],
            "type": "heatmap"
           }
          ],
          "heatmapgl": [
           {
            "colorbar": {
             "outlinewidth": 0,
             "ticks": ""
            },
            "colorscale": [
             [
              0,
              "#0d0887"
             ],
             [
              0.1111111111111111,
              "#46039f"
             ],
             [
              0.2222222222222222,
              "#7201a8"
             ],
             [
              0.3333333333333333,
              "#9c179e"
             ],
             [
              0.4444444444444444,
              "#bd3786"
             ],
             [
              0.5555555555555556,
              "#d8576b"
             ],
             [
              0.6666666666666666,
              "#ed7953"
             ],
             [
              0.7777777777777778,
              "#fb9f3a"
             ],
             [
              0.8888888888888888,
              "#fdca26"
             ],
             [
              1,
              "#f0f921"
             ]
            ],
            "type": "heatmapgl"
           }
          ],
          "histogram": [
           {
            "marker": {
             "pattern": {
              "fillmode": "overlay",
              "size": 10,
              "solidity": 0.2
             }
            },
            "type": "histogram"
           }
          ],
          "histogram2d": [
           {
            "colorbar": {
             "outlinewidth": 0,
             "ticks": ""
            },
            "colorscale": [
             [
              0,
              "#0d0887"
             ],
             [
              0.1111111111111111,
              "#46039f"
             ],
             [
              0.2222222222222222,
              "#7201a8"
             ],
             [
              0.3333333333333333,
              "#9c179e"
             ],
             [
              0.4444444444444444,
              "#bd3786"
             ],
             [
              0.5555555555555556,
              "#d8576b"
             ],
             [
              0.6666666666666666,
              "#ed7953"
             ],
             [
              0.7777777777777778,
              "#fb9f3a"
             ],
             [
              0.8888888888888888,
              "#fdca26"
             ],
             [
              1,
              "#f0f921"
             ]
            ],
            "type": "histogram2d"
           }
          ],
          "histogram2dcontour": [
           {
            "colorbar": {
             "outlinewidth": 0,
             "ticks": ""
            },
            "colorscale": [
             [
              0,
              "#0d0887"
             ],
             [
              0.1111111111111111,
              "#46039f"
             ],
             [
              0.2222222222222222,
              "#7201a8"
             ],
             [
              0.3333333333333333,
              "#9c179e"
             ],
             [
              0.4444444444444444,
              "#bd3786"
             ],
             [
              0.5555555555555556,
              "#d8576b"
             ],
             [
              0.6666666666666666,
              "#ed7953"
             ],
             [
              0.7777777777777778,
              "#fb9f3a"
             ],
             [
              0.8888888888888888,
              "#fdca26"
             ],
             [
              1,
              "#f0f921"
             ]
            ],
            "type": "histogram2dcontour"
           }
          ],
          "mesh3d": [
           {
            "colorbar": {
             "outlinewidth": 0,
             "ticks": ""
            },
            "type": "mesh3d"
           }
          ],
          "parcoords": [
           {
            "line": {
             "colorbar": {
              "outlinewidth": 0,
              "ticks": ""
             }
            },
            "type": "parcoords"
           }
          ],
          "pie": [
           {
            "automargin": true,
            "type": "pie"
           }
          ],
          "scatter": [
           {
            "marker": {
             "colorbar": {
              "outlinewidth": 0,
              "ticks": ""
             }
            },
            "type": "scatter"
           }
          ],
          "scatter3d": [
           {
            "line": {
             "colorbar": {
              "outlinewidth": 0,
              "ticks": ""
             }
            },
            "marker": {
             "colorbar": {
              "outlinewidth": 0,
              "ticks": ""
             }
            },
            "type": "scatter3d"
           }
          ],
          "scattercarpet": [
           {
            "marker": {
             "colorbar": {
              "outlinewidth": 0,
              "ticks": ""
             }
            },
            "type": "scattercarpet"
           }
          ],
          "scattergeo": [
           {
            "marker": {
             "colorbar": {
              "outlinewidth": 0,
              "ticks": ""
             }
            },
            "type": "scattergeo"
           }
          ],
          "scattergl": [
           {
            "marker": {
             "colorbar": {
              "outlinewidth": 0,
              "ticks": ""
             }
            },
            "type": "scattergl"
           }
          ],
          "scattermapbox": [
           {
            "marker": {
             "colorbar": {
              "outlinewidth": 0,
              "ticks": ""
             }
            },
            "type": "scattermapbox"
           }
          ],
          "scatterpolar": [
           {
            "marker": {
             "colorbar": {
              "outlinewidth": 0,
              "ticks": ""
             }
            },
            "type": "scatterpolar"
           }
          ],
          "scatterpolargl": [
           {
            "marker": {
             "colorbar": {
              "outlinewidth": 0,
              "ticks": ""
             }
            },
            "type": "scatterpolargl"
           }
          ],
          "scatterternary": [
           {
            "marker": {
             "colorbar": {
              "outlinewidth": 0,
              "ticks": ""
             }
            },
            "type": "scatterternary"
           }
          ],
          "surface": [
           {
            "colorbar": {
             "outlinewidth": 0,
             "ticks": ""
            },
            "colorscale": [
             [
              0,
              "#0d0887"
             ],
             [
              0.1111111111111111,
              "#46039f"
             ],
             [
              0.2222222222222222,
              "#7201a8"
             ],
             [
              0.3333333333333333,
              "#9c179e"
             ],
             [
              0.4444444444444444,
              "#bd3786"
             ],
             [
              0.5555555555555556,
              "#d8576b"
             ],
             [
              0.6666666666666666,
              "#ed7953"
             ],
             [
              0.7777777777777778,
              "#fb9f3a"
             ],
             [
              0.8888888888888888,
              "#fdca26"
             ],
             [
              1,
              "#f0f921"
             ]
            ],
            "type": "surface"
           }
          ],
          "table": [
           {
            "cells": {
             "fill": {
              "color": "#EBF0F8"
             },
             "line": {
              "color": "white"
             }
            },
            "header": {
             "fill": {
              "color": "#C8D4E3"
             },
             "line": {
              "color": "white"
             }
            },
            "type": "table"
           }
          ]
         },
         "layout": {
          "annotationdefaults": {
           "arrowcolor": "#2a3f5f",
           "arrowhead": 0,
           "arrowwidth": 1
          },
          "autotypenumbers": "strict",
          "coloraxis": {
           "colorbar": {
            "outlinewidth": 0,
            "ticks": ""
           }
          },
          "colorscale": {
           "diverging": [
            [
             0,
             "#8e0152"
            ],
            [
             0.1,
             "#c51b7d"
            ],
            [
             0.2,
             "#de77ae"
            ],
            [
             0.3,
             "#f1b6da"
            ],
            [
             0.4,
             "#fde0ef"
            ],
            [
             0.5,
             "#f7f7f7"
            ],
            [
             0.6,
             "#e6f5d0"
            ],
            [
             0.7,
             "#b8e186"
            ],
            [
             0.8,
             "#7fbc41"
            ],
            [
             0.9,
             "#4d9221"
            ],
            [
             1,
             "#276419"
            ]
           ],
           "sequential": [
            [
             0,
             "#0d0887"
            ],
            [
             0.1111111111111111,
             "#46039f"
            ],
            [
             0.2222222222222222,
             "#7201a8"
            ],
            [
             0.3333333333333333,
             "#9c179e"
            ],
            [
             0.4444444444444444,
             "#bd3786"
            ],
            [
             0.5555555555555556,
             "#d8576b"
            ],
            [
             0.6666666666666666,
             "#ed7953"
            ],
            [
             0.7777777777777778,
             "#fb9f3a"
            ],
            [
             0.8888888888888888,
             "#fdca26"
            ],
            [
             1,
             "#f0f921"
            ]
           ],
           "sequentialminus": [
            [
             0,
             "#0d0887"
            ],
            [
             0.1111111111111111,
             "#46039f"
            ],
            [
             0.2222222222222222,
             "#7201a8"
            ],
            [
             0.3333333333333333,
             "#9c179e"
            ],
            [
             0.4444444444444444,
             "#bd3786"
            ],
            [
             0.5555555555555556,
             "#d8576b"
            ],
            [
             0.6666666666666666,
             "#ed7953"
            ],
            [
             0.7777777777777778,
             "#fb9f3a"
            ],
            [
             0.8888888888888888,
             "#fdca26"
            ],
            [
             1,
             "#f0f921"
            ]
           ]
          },
          "colorway": [
           "#636efa",
           "#EF553B",
           "#00cc96",
           "#ab63fa",
           "#FFA15A",
           "#19d3f3",
           "#FF6692",
           "#B6E880",
           "#FF97FF",
           "#FECB52"
          ],
          "font": {
           "color": "#2a3f5f"
          },
          "geo": {
           "bgcolor": "white",
           "lakecolor": "white",
           "landcolor": "#E5ECF6",
           "showlakes": true,
           "showland": true,
           "subunitcolor": "white"
          },
          "hoverlabel": {
           "align": "left"
          },
          "hovermode": "closest",
          "mapbox": {
           "style": "light"
          },
          "paper_bgcolor": "white",
          "plot_bgcolor": "#E5ECF6",
          "polar": {
           "angularaxis": {
            "gridcolor": "white",
            "linecolor": "white",
            "ticks": ""
           },
           "bgcolor": "#E5ECF6",
           "radialaxis": {
            "gridcolor": "white",
            "linecolor": "white",
            "ticks": ""
           }
          },
          "scene": {
           "xaxis": {
            "backgroundcolor": "#E5ECF6",
            "gridcolor": "white",
            "gridwidth": 2,
            "linecolor": "white",
            "showbackground": true,
            "ticks": "",
            "zerolinecolor": "white"
           },
           "yaxis": {
            "backgroundcolor": "#E5ECF6",
            "gridcolor": "white",
            "gridwidth": 2,
            "linecolor": "white",
            "showbackground": true,
            "ticks": "",
            "zerolinecolor": "white"
           },
           "zaxis": {
            "backgroundcolor": "#E5ECF6",
            "gridcolor": "white",
            "gridwidth": 2,
            "linecolor": "white",
            "showbackground": true,
            "ticks": "",
            "zerolinecolor": "white"
           }
          },
          "shapedefaults": {
           "line": {
            "color": "#2a3f5f"
           }
          },
          "ternary": {
           "aaxis": {
            "gridcolor": "white",
            "linecolor": "white",
            "ticks": ""
           },
           "baxis": {
            "gridcolor": "white",
            "linecolor": "white",
            "ticks": ""
           },
           "bgcolor": "#E5ECF6",
           "caxis": {
            "gridcolor": "white",
            "linecolor": "white",
            "ticks": ""
           }
          },
          "title": {
           "x": 0.05
          },
          "xaxis": {
           "automargin": true,
           "gridcolor": "white",
           "linecolor": "white",
           "ticks": "",
           "title": {
            "standoff": 15
           },
           "zerolinecolor": "white",
           "zerolinewidth": 2
          },
          "yaxis": {
           "automargin": true,
           "gridcolor": "white",
           "linecolor": "white",
           "ticks": "",
           "title": {
            "standoff": 15
           },
           "zerolinecolor": "white",
           "zerolinewidth": 2
          }
         }
        },
        "title": {
         "text": "US non Payrolls Release influence on Euro Usd Reaction"
        },
        "xaxis": {
         "autorange": true,
         "range": [
          "2021-09-03 11:55:30",
          "2021-09-03 13:00:30"
         ],
         "rangeslider": {
          "autorange": true,
          "range": [
           "2021-09-03 11:55:30",
           "2021-09-03 13:00:30"
          ],
          "yaxis": {
           "_template": null,
           "rangemode": "match"
          }
         },
         "type": "date"
        },
        "yaxis": {
         "autorange": true,
         "range": [
          1.1863294444444443,
          1.1911405555555556
         ],
         "title": {
          "text": "EURUSD"
         }
        }
       }
      },
      "image/png": "[encoded data removed]"
     },
     "metadata": {},
     "output_type": "display_data"
    }
   ],
   "source": [
    "df1 = eur_usd_intraday[461:526]\n",
    "\n",
    "fig = go.Figure(data=[go.Candlestick(x=df1['Date'],\n",
    "                open=df1['Open'], high=df1['High'],\n",
    "                low=df1['Low'], close=df1['Close'])\n",
    "                      ])\n",
    "\n",
    "fig.update_layout(\n",
    "    title='US non Payrolls Release influence on Euro Usd Reaction',\n",
    "    yaxis_title='EURUSD',\n",
    "    shapes = [dict(\n",
    "        x0='2021-09-03T12:37:00', x1='2021-09-03T12:37:00', y0=0, y1=1, xref='x', yref='paper',\n",
    "        line_width=2)],\n",
    "    annotations=[dict(\n",
    "        x='2021-09-03T12:37:00', y=1.00, xref='x', yref='paper',\n",
    "        showarrow=False, xanchor='left', text='US non Payrolls Release')]\n",
    ")\n",
    "\n",
    "fig.show(renderer='plotly_mimetype')"
   ]
  },
  {
   "cell_type": "markdown",
   "id": "fbe785d9-13ec-4ae0-9793-35ec3f17109d",
   "metadata": {},
   "source": [
    "### Dow Jones Industrial Average Reaction"
   ]
  },
  {
   "cell_type": "code",
   "execution_count": 20,
   "id": "7ce54710-7f5f-4a60-a9f4-003001058931",
   "metadata": {},
   "outputs": [],
   "source": [
    "indu_ind_intraday = te.getMarketsIntraday(symbols = ['indu:ind'], initDate='2021-09-03', endDate='2021-09-04', output_type = 'df')"
   ]
  },
  {
   "cell_type": "code",
   "execution_count": 21,
   "id": "279aa16e-b6a0-4c0c-b8e0-fd2959a240c4",
   "metadata": {},
   "outputs": [
    {
     "data": {
      "application/vnd.plotly.v1+json": {
       "config": {
        "plotlyServerURL": "https://plot.ly"
       },
       "data": [
        {
         "close": [
          35461.66016,
          35448.64844,
          35442.64844,
          35436.64844,
          35444.64844,
          35435.64844,
          35435.64844,
          35439.64844,
          35437.64844,
          35436.64844,
          35422.64063,
          35425.64063,
          35425.64063,
          35426.64063,
          35423.64063,
          35420.64063,
          35415.64063,
          35426.64063,
          35425.64063,
          35419.64063,
          35393.62891,
          35418.64063,
          35434.64844,
          35426.64063,
          35464.66016,
          35465.66016,
          35441.64844,
          35440.64844,
          35408.62891,
          35403.62891,
          35423.64063,
          35484.67188,
          35481.67188,
          35486.67188,
          35483.67188,
          35480.67188,
          35482.67188,
          35482.67188,
          35481.67188,
          35478.67188,
          35477.67188,
          35479.67188,
          35476.67188,
          35477.67188,
          35474.67188,
          35480.67188,
          35482.67188,
          35474.67188,
          35471.66016,
          35469.66016,
          35471.66016,
          35467.66016,
          35471.66016,
          35476.67188,
          35476.67188,
          35475.67188,
          35476.67188,
          35473.66016,
          35475.67188,
          35473.66016
         ],
         "high": [
          35464.66016,
          35450.64844,
          35442.64844,
          35443.64844,
          35445.64844,
          35439.64844,
          35441.64844,
          35439.64844,
          35442.64844,
          35436.64844,
          35426.64063,
          35432.64844,
          35427.64063,
          35429.64063,
          35430.64063,
          35420.64063,
          35428.64063,
          35426.64063,
          35425.64063,
          35425.64063,
          35419.64063,
          35445.64844,
          35434.64844,
          35463.66016,
          35467.66016,
          35469.66016,
          35441.64844,
          35441.64844,
          35412.64063,
          35448.64844,
          35504.67969,
          35486.67188,
          35489.67188,
          35487.67188,
          35483.67188,
          35481.67188,
          35484.67188,
          35485.67188,
          35481.67188,
          35478.67188,
          35480.67188,
          35479.67188,
          35476.67188,
          35477.67188,
          35480.67188,
          35485.67188,
          35482.67188,
          35474.67188,
          35471.66016,
          35470.66016,
          35471.66016,
          35473.66016,
          35476.67188,
          35477.67188,
          35478.67188,
          35476.67188,
          35476.67188,
          35476.67188,
          35475.67188,
          35478.67188
         ],
         "low": [
          35447.64844,
          35442.64844,
          35438.64844,
          35435.64844,
          35436.64844,
          35433.64844,
          35434.64844,
          35432.64844,
          35434.64844,
          35422.64063,
          35418.64063,
          35423.64063,
          35416.64063,
          35421.64063,
          35418.64063,
          35403.62891,
          35415.64063,
          35414.64063,
          35415.64063,
          35383.62109,
          35381.62109,
          35413.64063,
          35414.64063,
          35422.64063,
          35451.64844,
          35439.64844,
          35420.64063,
          35406.62891,
          35385.62109,
          35386.62109,
          35412.64063,
          35478.67188,
          35481.67188,
          35483.67188,
          35480.67188,
          35479.67188,
          35481.67188,
          35481.67188,
          35477.67188,
          35476.67188,
          35476.67188,
          35474.67188,
          35473.66016,
          35472.66016,
          35474.67188,
          35480.67188,
          35473.66016,
          35472.66016,
          35467.66016,
          35469.66016,
          35464.66016,
          35467.66016,
          35471.66016,
          35474.67188,
          35475.67188,
          35475.67188,
          35474.67188,
          35473.66016,
          35472.66016,
          35473.66016
         ],
         "open": [
          35449.64844,
          35443.64844,
          35438.64844,
          35442.64844,
          35437.64844,
          35434.64844,
          35441.64844,
          35436.64844,
          35435.64844,
          35423.64063,
          35424.64063,
          35424.64063,
          35425.64063,
          35424.64063,
          35418.64063,
          35416.64063,
          35427.64063,
          35423.64063,
          35418.64063,
          35391.62891,
          35419.64063,
          35433.64844,
          35427.64063,
          35463.66016,
          35464.66016,
          35439.64844,
          35439.64844,
          35412.64063,
          35404.62891,
          35424.64063,
          35479.67188,
          35486.67188,
          35485.67188,
          35485.67188,
          35481.67188,
          35481.67188,
          35483.67188,
          35482.67188,
          35477.67188,
          35478.67188,
          35480.67188,
          35475.67188,
          35476.67188,
          35473.66016,
          35479.67188,
          35481.67188,
          35473.66016,
          35472.66016,
          35467.66016,
          35470.66016,
          35466.66016,
          35472.66016,
          35475.67188,
          35475.67188,
          35476.67188,
          35475.67188,
          35474.67188,
          35476.67188,
          35474.67188,
          35477.67188
         ],
         "type": "candlestick",
         "x": [
          "2021-09-03T13:00:00",
          "2021-09-03T12:59:00",
          "2021-09-03T12:58:00",
          "2021-09-03T12:57:00",
          "2021-09-03T12:56:00",
          "2021-09-03T12:55:00",
          "2021-09-03T12:54:00",
          "2021-09-03T12:53:00",
          "2021-09-03T12:52:00",
          "2021-09-03T12:51:00",
          "2021-09-03T12:50:00",
          "2021-09-03T12:49:00",
          "2021-09-03T12:48:00",
          "2021-09-03T12:47:00",
          "2021-09-03T12:46:00",
          "2021-09-03T12:45:00",
          "2021-09-03T12:44:00",
          "2021-09-03T12:43:00",
          "2021-09-03T12:42:00",
          "2021-09-03T12:41:00",
          "2021-09-03T12:40:00",
          "2021-09-03T12:39:00",
          "2021-09-03T12:38:00",
          "2021-09-03T12:37:00",
          "2021-09-03T12:36:00",
          "2021-09-03T12:35:00",
          "2021-09-03T12:34:00",
          "2021-09-03T12:33:00",
          "2021-09-03T12:32:00",
          "2021-09-03T12:31:00",
          "2021-09-03T12:30:00",
          "2021-09-03T12:29:00",
          "2021-09-03T12:28:00",
          "2021-09-03T12:27:00",
          "2021-09-03T12:26:00",
          "2021-09-03T12:25:00",
          "2021-09-03T12:24:00",
          "2021-09-03T12:23:00",
          "2021-09-03T12:22:00",
          "2021-09-03T12:21:00",
          "2021-09-03T12:20:00",
          "2021-09-03T12:19:00",
          "2021-09-03T12:18:00",
          "2021-09-03T12:17:00",
          "2021-09-03T12:16:00",
          "2021-09-03T12:15:00",
          "2021-09-03T12:14:00",
          "2021-09-03T12:13:00",
          "2021-09-03T12:12:00",
          "2021-09-03T12:11:00",
          "2021-09-03T12:10:00",
          "2021-09-03T12:09:00",
          "2021-09-03T12:08:00",
          "2021-09-03T12:07:00",
          "2021-09-03T12:06:00",
          "2021-09-03T12:05:00",
          "2021-09-03T12:04:00",
          "2021-09-03T12:03:00",
          "2021-09-03T12:02:00",
          "2021-09-03T12:01:00"
         ]
        }
       ],
       "layout": {
        "annotations": [
         {
          "showarrow": false,
          "text": "US non Payrolls Release",
          "x": "2021-09-03T12:37:00",
          "xanchor": "left",
          "xref": "x",
          "y": 1,
          "yref": "paper"
         }
        ],
        "autosize": true,
        "shapes": [
         {
          "line": {
           "width": 2
          },
          "x0": "2021-09-03T12:37:00",
          "x1": "2021-09-03T12:37:00",
          "xref": "x",
          "y0": 0,
          "y1": 1,
          "yref": "paper"
         }
        ],
        "template": {
         "data": {
          "bar": [
           {
            "error_x": {
             "color": "#2a3f5f"
            },
            "error_y": {
             "color": "#2a3f5f"
            },
            "marker": {
             "line": {
              "color": "#E5ECF6",
              "width": 0.5
             },
             "pattern": {
              "fillmode": "overlay",
              "size": 10,
              "solidity": 0.2
             }
            },
            "type": "bar"
           }
          ],
          "barpolar": [
           {
            "marker": {
             "line": {
              "color": "#E5ECF6",
              "width": 0.5
             },
             "pattern": {
              "fillmode": "overlay",
              "size": 10,
              "solidity": 0.2
             }
            },
            "type": "barpolar"
           }
          ],
          "carpet": [
           {
            "aaxis": {
             "endlinecolor": "#2a3f5f",
             "gridcolor": "white",
             "linecolor": "white",
             "minorgridcolor": "white",
             "startlinecolor": "#2a3f5f"
            },
            "baxis": {
             "endlinecolor": "#2a3f5f",
             "gridcolor": "white",
             "linecolor": "white",
             "minorgridcolor": "white",
             "startlinecolor": "#2a3f5f"
            },
            "type": "carpet"
           }
          ],
          "choropleth": [
           {
            "colorbar": {
             "outlinewidth": 0,
             "ticks": ""
            },
            "type": "choropleth"
           }
          ],
          "contour": [
           {
            "colorbar": {
             "outlinewidth": 0,
             "ticks": ""
            },
            "colorscale": [
             [
              0,
              "#0d0887"
             ],
             [
              0.1111111111111111,
              "#46039f"
             ],
             [
              0.2222222222222222,
              "#7201a8"
             ],
             [
              0.3333333333333333,
              "#9c179e"
             ],
             [
              0.4444444444444444,
              "#bd3786"
             ],
             [
              0.5555555555555556,
              "#d8576b"
             ],
             [
              0.6666666666666666,
              "#ed7953"
             ],
             [
              0.7777777777777778,
              "#fb9f3a"
             ],
             [
              0.8888888888888888,
              "#fdca26"
             ],
             [
              1,
              "#f0f921"
             ]
            ],
            "type": "contour"
           }
          ],
          "contourcarpet": [
           {
            "colorbar": {
             "outlinewidth": 0,
             "ticks": ""
            },
            "type": "contourcarpet"
           }
          ],
          "heatmap": [
           {
            "colorbar": {
             "outlinewidth": 0,
             "ticks": ""
            },
            "colorscale": [
             [
              0,
              "#0d0887"
             ],
             [
              0.1111111111111111,
              "#46039f"
             ],
             [
              0.2222222222222222,
              "#7201a8"
             ],
             [
              0.3333333333333333,
              "#9c179e"
             ],
             [
              0.4444444444444444,
              "#bd3786"
             ],
             [
              0.5555555555555556,
              "#d8576b"
             ],
             [
              0.6666666666666666,
              "#ed7953"
             ],
             [
              0.7777777777777778,
              "#fb9f3a"
             ],
             [
              0.8888888888888888,
              "#fdca26"
             ],
             [
              1,
              "#f0f921"
             ]
            ],
            "type": "heatmap"
           }
          ],
          "heatmapgl": [
           {
            "colorbar": {
             "outlinewidth": 0,
             "ticks": ""
            },
            "colorscale": [
             [
              0,
              "#0d0887"
             ],
             [
              0.1111111111111111,
              "#46039f"
             ],
             [
              0.2222222222222222,
              "#7201a8"
             ],
             [
              0.3333333333333333,
              "#9c179e"
             ],
             [
              0.4444444444444444,
              "#bd3786"
             ],
             [
              0.5555555555555556,
              "#d8576b"
             ],
             [
              0.6666666666666666,
              "#ed7953"
             ],
             [
              0.7777777777777778,
              "#fb9f3a"
             ],
             [
              0.8888888888888888,
              "#fdca26"
             ],
             [
              1,
              "#f0f921"
             ]
            ],
            "type": "heatmapgl"
           }
          ],
          "histogram": [
           {
            "marker": {
             "pattern": {
              "fillmode": "overlay",
              "size": 10,
              "solidity": 0.2
             }
            },
            "type": "histogram"
           }
          ],
          "histogram2d": [
           {
            "colorbar": {
             "outlinewidth": 0,
             "ticks": ""
            },
            "colorscale": [
             [
              0,
              "#0d0887"
             ],
             [
              0.1111111111111111,
              "#46039f"
             ],
             [
              0.2222222222222222,
              "#7201a8"
             ],
             [
              0.3333333333333333,
              "#9c179e"
             ],
             [
              0.4444444444444444,
              "#bd3786"
             ],
             [
              0.5555555555555556,
              "#d8576b"
             ],
             [
              0.6666666666666666,
              "#ed7953"
             ],
             [
              0.7777777777777778,
              "#fb9f3a"
             ],
             [
              0.8888888888888888,
              "#fdca26"
             ],
             [
              1,
              "#f0f921"
             ]
            ],
            "type": "histogram2d"
           }
          ],
          "histogram2dcontour": [
           {
            "colorbar": {
             "outlinewidth": 0,
             "ticks": ""
            },
            "colorscale": [
             [
              0,
              "#0d0887"
             ],
             [
              0.1111111111111111,
              "#46039f"
             ],
             [
              0.2222222222222222,
              "#7201a8"
             ],
             [
              0.3333333333333333,
              "#9c179e"
             ],
             [
              0.4444444444444444,
              "#bd3786"
             ],
             [
              0.5555555555555556,
              "#d8576b"
             ],
             [
              0.6666666666666666,
              "#ed7953"
             ],
             [
              0.7777777777777778,
              "#fb9f3a"
             ],
             [
              0.8888888888888888,
              "#fdca26"
             ],
             [
              1,
              "#f0f921"
             ]
            ],
            "type": "histogram2dcontour"
           }
          ],
          "mesh3d": [
           {
            "colorbar": {
             "outlinewidth": 0,
             "ticks": ""
            },
            "type": "mesh3d"
           }
          ],
          "parcoords": [
           {
            "line": {
             "colorbar": {
              "outlinewidth": 0,
              "ticks": ""
             }
            },
            "type": "parcoords"
           }
          ],
          "pie": [
           {
            "automargin": true,
            "type": "pie"
           }
          ],
          "scatter": [
           {
            "marker": {
             "colorbar": {
              "outlinewidth": 0,
              "ticks": ""
             }
            },
            "type": "scatter"
           }
          ],
          "scatter3d": [
           {
            "line": {
             "colorbar": {
              "outlinewidth": 0,
              "ticks": ""
             }
            },
            "marker": {
             "colorbar": {
              "outlinewidth": 0,
              "ticks": ""
             }
            },
            "type": "scatter3d"
           }
          ],
          "scattercarpet": [
           {
            "marker": {
             "colorbar": {
              "outlinewidth": 0,
              "ticks": ""
             }
            },
            "type": "scattercarpet"
           }
          ],
          "scattergeo": [
           {
            "marker": {
             "colorbar": {
              "outlinewidth": 0,
              "ticks": ""
             }
            },
            "type": "scattergeo"
           }
          ],
          "scattergl": [
           {
            "marker": {
             "colorbar": {
              "outlinewidth": 0,
              "ticks": ""
             }
            },
            "type": "scattergl"
           }
          ],
          "scattermapbox": [
           {
            "marker": {
             "colorbar": {
              "outlinewidth": 0,
              "ticks": ""
             }
            },
            "type": "scattermapbox"
           }
          ],
          "scatterpolar": [
           {
            "marker": {
             "colorbar": {
              "outlinewidth": 0,
              "ticks": ""
             }
            },
            "type": "scatterpolar"
           }
          ],
          "scatterpolargl": [
           {
            "marker": {
             "colorbar": {
              "outlinewidth": 0,
              "ticks": ""
             }
            },
            "type": "scatterpolargl"
           }
          ],
          "scatterternary": [
           {
            "marker": {
             "colorbar": {
              "outlinewidth": 0,
              "ticks": ""
             }
            },
            "type": "scatterternary"
           }
          ],
          "surface": [
           {
            "colorbar": {
             "outlinewidth": 0,
             "ticks": ""
            },
            "colorscale": [
             [
              0,
              "#0d0887"
             ],
             [
              0.1111111111111111,
              "#46039f"
             ],
             [
              0.2222222222222222,
              "#7201a8"
             ],
             [
              0.3333333333333333,
              "#9c179e"
             ],
             [
              0.4444444444444444,
              "#bd3786"
             ],
             [
              0.5555555555555556,
              "#d8576b"
             ],
             [
              0.6666666666666666,
              "#ed7953"
             ],
             [
              0.7777777777777778,
              "#fb9f3a"
             ],
             [
              0.8888888888888888,
              "#fdca26"
             ],
             [
              1,
              "#f0f921"
             ]
            ],
            "type": "surface"
           }
          ],
          "table": [
           {
            "cells": {
             "fill": {
              "color": "#EBF0F8"
             },
             "line": {
              "color": "white"
             }
            },
            "header": {
             "fill": {
              "color": "#C8D4E3"
             },
             "line": {
              "color": "white"
             }
            },
            "type": "table"
           }
          ]
         },
         "layout": {
          "annotationdefaults": {
           "arrowcolor": "#2a3f5f",
           "arrowhead": 0,
           "arrowwidth": 1
          },
          "autotypenumbers": "strict",
          "coloraxis": {
           "colorbar": {
            "outlinewidth": 0,
            "ticks": ""
           }
          },
          "colorscale": {
           "diverging": [
            [
             0,
             "#8e0152"
            ],
            [
             0.1,
             "#c51b7d"
            ],
            [
             0.2,
             "#de77ae"
            ],
            [
             0.3,
             "#f1b6da"
            ],
            [
             0.4,
             "#fde0ef"
            ],
            [
             0.5,
             "#f7f7f7"
            ],
            [
             0.6,
             "#e6f5d0"
            ],
            [
             0.7,
             "#b8e186"
            ],
            [
             0.8,
             "#7fbc41"
            ],
            [
             0.9,
             "#4d9221"
            ],
            [
             1,
             "#276419"
            ]
           ],
           "sequential": [
            [
             0,
             "#0d0887"
            ],
            [
             0.1111111111111111,
             "#46039f"
            ],
            [
             0.2222222222222222,
             "#7201a8"
            ],
            [
             0.3333333333333333,
             "#9c179e"
            ],
            [
             0.4444444444444444,
             "#bd3786"
            ],
            [
             0.5555555555555556,
             "#d8576b"
            ],
            [
             0.6666666666666666,
             "#ed7953"
            ],
            [
             0.7777777777777778,
             "#fb9f3a"
            ],
            [
             0.8888888888888888,
             "#fdca26"
            ],
            [
             1,
             "#f0f921"
            ]
           ],
           "sequentialminus": [
            [
             0,
             "#0d0887"
            ],
            [
             0.1111111111111111,
             "#46039f"
            ],
            [
             0.2222222222222222,
             "#7201a8"
            ],
            [
             0.3333333333333333,
             "#9c179e"
            ],
            [
             0.4444444444444444,
             "#bd3786"
            ],
            [
             0.5555555555555556,
             "#d8576b"
            ],
            [
             0.6666666666666666,
             "#ed7953"
            ],
            [
             0.7777777777777778,
             "#fb9f3a"
            ],
            [
             0.8888888888888888,
             "#fdca26"
            ],
            [
             1,
             "#f0f921"
            ]
           ]
          },
          "colorway": [
           "#636efa",
           "#EF553B",
           "#00cc96",
           "#ab63fa",
           "#FFA15A",
           "#19d3f3",
           "#FF6692",
           "#B6E880",
           "#FF97FF",
           "#FECB52"
          ],
          "font": {
           "color": "#2a3f5f"
          },
          "geo": {
           "bgcolor": "white",
           "lakecolor": "white",
           "landcolor": "#E5ECF6",
           "showlakes": true,
           "showland": true,
           "subunitcolor": "white"
          },
          "hoverlabel": {
           "align": "left"
          },
          "hovermode": "closest",
          "mapbox": {
           "style": "light"
          },
          "paper_bgcolor": "white",
          "plot_bgcolor": "#E5ECF6",
          "polar": {
           "angularaxis": {
            "gridcolor": "white",
            "linecolor": "white",
            "ticks": ""
           },
           "bgcolor": "#E5ECF6",
           "radialaxis": {
            "gridcolor": "white",
            "linecolor": "white",
            "ticks": ""
           }
          },
          "scene": {
           "xaxis": {
            "backgroundcolor": "#E5ECF6",
            "gridcolor": "white",
            "gridwidth": 2,
            "linecolor": "white",
            "showbackground": true,
            "ticks": "",
            "zerolinecolor": "white"
           },
           "yaxis": {
            "backgroundcolor": "#E5ECF6",
            "gridcolor": "white",
            "gridwidth": 2,
            "linecolor": "white",
            "showbackground": true,
            "ticks": "",
            "zerolinecolor": "white"
           },
           "zaxis": {
            "backgroundcolor": "#E5ECF6",
            "gridcolor": "white",
            "gridwidth": 2,
            "linecolor": "white",
            "showbackground": true,
            "ticks": "",
            "zerolinecolor": "white"
           }
          },
          "shapedefaults": {
           "line": {
            "color": "#2a3f5f"
           }
          },
          "ternary": {
           "aaxis": {
            "gridcolor": "white",
            "linecolor": "white",
            "ticks": ""
           },
           "baxis": {
            "gridcolor": "white",
            "linecolor": "white",
            "ticks": ""
           },
           "bgcolor": "#E5ECF6",
           "caxis": {
            "gridcolor": "white",
            "linecolor": "white",
            "ticks": ""
           }
          },
          "title": {
           "x": 0.05
          },
          "xaxis": {
           "automargin": true,
           "gridcolor": "white",
           "linecolor": "white",
           "ticks": "",
           "title": {
            "standoff": 15
           },
           "zerolinecolor": "white",
           "zerolinewidth": 2
          },
          "yaxis": {
           "automargin": true,
           "gridcolor": "white",
           "linecolor": "white",
           "ticks": "",
           "title": {
            "standoff": 15
           },
           "zerolinecolor": "white",
           "zerolinewidth": 2
          }
         }
        },
        "title": {
         "text": "US non Payrolls Release influence on Dow Jones Industrial Average - (INDU)"
        },
        "xaxis": {
         "autorange": true,
         "range": [
          "2021-09-03 12:00:30",
          "2021-09-03 13:00:30"
         ],
         "rangeslider": {
          "autorange": true,
          "range": [
           "2021-09-03 12:00:30",
           "2021-09-03 13:00:30"
          ],
          "yaxis": {
           "_template": null,
           "rangemode": "match"
          }
         },
         "type": "date"
        },
        "yaxis": {
         "autorange": true,
         "range": [
          35374.78450111111,
          35511.516278888885
         ],
         "title": {
          "text": "INDU:IND"
         }
        }
       }
      },
      "image/png": "[encoded data removed]"
     },
     "metadata": {},
     "output_type": "display_data"
    }
   ],
   "source": [
    "\n",
    "df2 = indu_ind_intraday[466:526]\n",
    "\n",
    "fig = go.Figure(data=[go.Candlestick(x=df2['Date'],\n",
    "                open=df2['Open'], high=df2['High'],\n",
    "                low=df2['Low'], close=df2['Close'])\n",
    "                      ])\n",
    "\n",
    "fig.update_layout(\n",
    "    title='US non Payrolls Release influence on Dow Jones Industrial Average - (INDU)',\n",
    "    yaxis_title='INDU:IND',\n",
    "    shapes = [dict(\n",
    "        x0='2021-09-03T12:37:00', x1='2021-09-03T12:37:00', y0=0, y1=1, xref='x', yref='paper',\n",
    "        line_width=2)],\n",
    "    annotations=[dict(\n",
    "        x='2021-09-03T12:37:00', y=1.00, xref='x', yref='paper',\n",
    "        showarrow=False, xanchor='left', text='US non Payrolls Release')]\n",
    ")\n",
    "\n",
    "fig.show(renderer='plotly_mimetype')"
   ]
  },
  {
   "cell_type": "markdown",
   "id": "2077c01e-f417-454d-9d6e-bb3fda60b898",
   "metadata": {},
   "source": [
    "### S&P 500 Reaction "
   ]
  },
  {
   "cell_type": "code",
   "execution_count": 22,
   "id": "f1453835-3208-484b-ba78-b674c087795d",
   "metadata": {},
   "outputs": [],
   "source": [
    "s_p_intraday = te.getMarketsIntraday(symbols = ['SPX:IND'], initDate='2021-09-03', endDate='2021-09-04', output_type = 'df')"
   ]
  },
  {
   "cell_type": "code",
   "execution_count": 23,
   "id": "18d085e2-074d-460a-adc6-072bff8f29cd",
   "metadata": {},
   "outputs": [
    {
     "data": {
      "text/html": [
       "<div>\n",
       "<style scoped>\n",
       "    .dataframe tbody tr th:only-of-type {\n",
       "        vertical-align: middle;\n",
       "    }\n",
       "\n",
       "    .dataframe tbody tr th {\n",
       "        vertical-align: top;\n",
       "    }\n",
       "\n",
       "    .dataframe thead th {\n",
       "        text-align: right;\n",
       "    }\n",
       "</style>\n",
       "<table border=\"1\" class=\"dataframe\">\n",
       "  <thead>\n",
       "    <tr style=\"text-align: right;\">\n",
       "      <th></th>\n",
       "      <th>Symbol</th>\n",
       "      <th>Date</th>\n",
       "      <th>Open</th>\n",
       "      <th>High</th>\n",
       "      <th>Low</th>\n",
       "      <th>Close</th>\n",
       "    </tr>\n",
       "  </thead>\n",
       "  <tbody>\n",
       "    <tr>\n",
       "      <th>527</th>\n",
       "      <td>SPX:IND</td>\n",
       "      <td>2021-09-03T12:00:00</td>\n",
       "      <td>4543.4502</td>\n",
       "      <td>4543.7002</td>\n",
       "      <td>4543.2002</td>\n",
       "      <td>4543.4502</td>\n",
       "    </tr>\n",
       "  </tbody>\n",
       "</table>\n",
       "</div>"
      ],
      "text/plain": [
       "      Symbol                 Date       Open       High        Low      Close\n",
       "527  SPX:IND  2021-09-03T12:00:00  4543.4502  4543.7002  4543.2002  4543.4502"
      ]
     },
     "execution_count": 23,
     "metadata": {},
     "output_type": "execute_result"
    }
   ],
   "source": [
    "s_p_intraday.query('Date == \"2021-09-03T12:00:00\"')"
   ]
  },
  {
   "cell_type": "code",
   "execution_count": 24,
   "id": "98dfd3f9-6c89-4a7b-9d37-d822b669b76c",
   "metadata": {},
   "outputs": [
    {
     "data": {
      "text/html": [
       "<div>\n",
       "<style scoped>\n",
       "    .dataframe tbody tr th:only-of-type {\n",
       "        vertical-align: middle;\n",
       "    }\n",
       "\n",
       "    .dataframe tbody tr th {\n",
       "        vertical-align: top;\n",
       "    }\n",
       "\n",
       "    .dataframe thead th {\n",
       "        text-align: right;\n",
       "    }\n",
       "</style>\n",
       "<table border=\"1\" class=\"dataframe\">\n",
       "  <thead>\n",
       "    <tr style=\"text-align: right;\">\n",
       "      <th></th>\n",
       "      <th>Symbol</th>\n",
       "      <th>Date</th>\n",
       "      <th>Open</th>\n",
       "      <th>High</th>\n",
       "      <th>Low</th>\n",
       "      <th>Close</th>\n",
       "    </tr>\n",
       "  </thead>\n",
       "  <tbody>\n",
       "    <tr>\n",
       "      <th>470</th>\n",
       "      <td>SPX:IND</td>\n",
       "      <td>2021-09-03T13:00:00</td>\n",
       "      <td>4540.2002</td>\n",
       "      <td>4541.4502</td>\n",
       "      <td>4539.7002</td>\n",
       "      <td>4540.7002</td>\n",
       "    </tr>\n",
       "  </tbody>\n",
       "</table>\n",
       "</div>"
      ],
      "text/plain": [
       "      Symbol                 Date       Open       High        Low      Close\n",
       "470  SPX:IND  2021-09-03T13:00:00  4540.2002  4541.4502  4539.7002  4540.7002"
      ]
     },
     "execution_count": 24,
     "metadata": {},
     "output_type": "execute_result"
    }
   ],
   "source": [
    "s_p_intraday.query('Date == \"2021-09-03T13:00:00\"')"
   ]
  },
  {
   "cell_type": "code",
   "execution_count": 25,
   "id": "675deb62-dab7-4999-8737-bf0135a11177",
   "metadata": {},
   "outputs": [
    {
     "data": {
      "application/vnd.plotly.v1+json": {
       "config": {
        "plotlyServerURL": "https://plot.ly"
       },
       "data": [
        {
         "close": [
          4540.7002,
          4539.9502,
          4539.7002,
          4539.2002,
          4540.4502,
          4539.7002,
          4539.2002,
          4539.2002,
          4538.9502,
          4538.4502,
          4537.4502,
          4538.4502,
          4537.9502,
          4537.4502,
          4536.9502,
          4536.2002,
          4536.2002,
          4537.2002,
          4536.7002,
          4535.7002,
          4531.7002,
          4537.2002,
          4538.2002,
          4539.9502,
          4544.9502,
          4545.2002,
          4543.4502,
          4544.7002,
          4540.9502,
          4539.7002,
          4541.4502,
          4544.9502,
          4544.4502,
          4544.7002,
          4544.4502,
          4544.2002,
          4544.4502,
          4544.4502,
          4543.9502,
          4543.9502,
          4544.4502,
          4544.2002,
          4544.2002,
          4543.9502,
          4544.4502,
          4544.2002,
          4543.2002,
          4542.4502,
          4542.7002,
          4542.4502,
          4542.7002,
          4543.2002,
          4543.4502,
          4543.7002,
          4543.4502,
          4543.4502,
          4543.2002
         ],
         "high": [
          4541.4502,
          4540.4502,
          4539.7002,
          4540.9502,
          4540.9502,
          4540.4502,
          4539.9502,
          4539.2002,
          4539.4502,
          4538.7002,
          4538.4502,
          4538.9502,
          4538.2002,
          4538.2002,
          4537.9502,
          4536.2002,
          4537.2002,
          4537.2002,
          4536.7002,
          4536.2002,
          4537.4502,
          4539.9502,
          4539.9502,
          4544.7002,
          4545.7002,
          4545.7002,
          4544.9502,
          4544.7002,
          4541.4502,
          4544.4502,
          4551.20996,
          4544.9502,
          4544.9502,
          4544.7002,
          4544.7002,
          4544.4502,
          4544.7002,
          4544.9502,
          4544.2002,
          4544.4502,
          4544.4502,
          4544.2002,
          4544.2002,
          4544.4502,
          4544.9502,
          4544.7002,
          4543.4502,
          4542.9502,
          4542.9502,
          4542.9502,
          4542.9502,
          4543.2002,
          4543.7002,
          4543.7002,
          4543.7002,
          4543.4502,
          4543.7002
         ],
         "low": [
          4539.7002,
          4539.7002,
          4539.2002,
          4539.2002,
          4539.9502,
          4539.4502,
          4538.7002,
          4538.2002,
          4538.7002,
          4537.2002,
          4537.4502,
          4537.4502,
          4536.4502,
          4536.9502,
          4536.2002,
          4534.4502,
          4535.7002,
          4535.4502,
          4534.9502,
          4530.4502,
          4530.7002,
          4536.7002,
          4535.7002,
          4539.4502,
          4543.2002,
          4543.4502,
          4541.7002,
          4540.9502,
          4538.2002,
          4537.4502,
          4539.4502,
          4543.9502,
          4544.4502,
          4544.2002,
          4544.4502,
          4543.9502,
          4544.4502,
          4544.2002,
          4543.9502,
          4543.9502,
          4543.9502,
          4543.9502,
          4543.7002,
          4543.7002,
          4544.4502,
          4543.2002,
          4542.9502,
          4542.4502,
          4542.2002,
          4542.4502,
          4542.7002,
          4543.2002,
          4543.2002,
          4543.4502,
          4543.2002,
          4543.2002,
          4543.2002
         ],
         "open": [
          4540.2002,
          4539.9502,
          4539.4502,
          4540.9502,
          4540.2002,
          4539.4502,
          4539.4502,
          4538.7002,
          4538.7002,
          4537.2002,
          4538.2002,
          4537.7002,
          4537.2002,
          4537.2002,
          4536.4502,
          4535.9502,
          4536.9502,
          4536.4502,
          4535.4502,
          4531.9502,
          4537.4502,
          4537.9502,
          4539.7002,
          4544.7002,
          4544.9502,
          4543.7002,
          4544.9502,
          4541.2002,
          4539.9502,
          4541.9502,
          4544.4502,
          4544.7002,
          4544.4502,
          4544.7002,
          4544.4502,
          4544.2002,
          4544.7002,
          4544.9502,
          4544.2002,
          4544.4502,
          4543.9502,
          4543.9502,
          4543.7002,
          4544.2002,
          4544.4502,
          4543.4502,
          4543.2002,
          4542.7002,
          4542.4502,
          4542.9502,
          4542.9502,
          4543.2002,
          4543.4502,
          4543.7002,
          4543.7002,
          4543.4502,
          4543.7002
         ],
         "type": "candlestick",
         "x": [
          "2021-09-03T13:00:00",
          "2021-09-03T12:59:00",
          "2021-09-03T12:58:00",
          "2021-09-03T12:57:00",
          "2021-09-03T12:56:00",
          "2021-09-03T12:55:00",
          "2021-09-03T12:54:00",
          "2021-09-03T12:53:00",
          "2021-09-03T12:52:00",
          "2021-09-03T12:51:00",
          "2021-09-03T12:50:00",
          "2021-09-03T12:49:00",
          "2021-09-03T12:48:00",
          "2021-09-03T12:47:00",
          "2021-09-03T12:46:00",
          "2021-09-03T12:45:00",
          "2021-09-03T12:44:00",
          "2021-09-03T12:43:00",
          "2021-09-03T12:42:00",
          "2021-09-03T12:41:00",
          "2021-09-03T12:40:00",
          "2021-09-03T12:39:00",
          "2021-09-03T12:38:00",
          "2021-09-03T12:37:00",
          "2021-09-03T12:36:00",
          "2021-09-03T12:35:00",
          "2021-09-03T12:34:00",
          "2021-09-03T12:33:00",
          "2021-09-03T12:32:00",
          "2021-09-03T12:31:00",
          "2021-09-03T12:30:00",
          "2021-09-03T12:29:00",
          "2021-09-03T12:28:00",
          "2021-09-03T12:27:00",
          "2021-09-03T12:26:00",
          "2021-09-03T12:25:00",
          "2021-09-03T12:24:00",
          "2021-09-03T12:23:00",
          "2021-09-03T12:21:00",
          "2021-09-03T12:20:00",
          "2021-09-03T12:19:00",
          "2021-09-03T12:18:00",
          "2021-09-03T12:17:00",
          "2021-09-03T12:16:00",
          "2021-09-03T12:15:00",
          "2021-09-03T12:14:00",
          "2021-09-03T12:13:00",
          "2021-09-03T12:11:00",
          "2021-09-03T12:10:00",
          "2021-09-03T12:09:00",
          "2021-09-03T12:08:00",
          "2021-09-03T12:07:00",
          "2021-09-03T12:06:00",
          "2021-09-03T12:05:00",
          "2021-09-03T12:03:00",
          "2021-09-03T12:02:00",
          "2021-09-03T12:01:00"
         ]
        }
       ],
       "layout": {
        "annotations": [
         {
          "showarrow": false,
          "text": "US non Payrolls Release",
          "x": "2021-09-03T12:37:00",
          "xanchor": "left",
          "xref": "x",
          "y": 1,
          "yref": "paper"
         }
        ],
        "autosize": true,
        "shapes": [
         {
          "line": {
           "width": 2
          },
          "x0": "2021-09-03T12:37:00",
          "x1": "2021-09-03T12:37:00",
          "xref": "x",
          "y0": 0,
          "y1": 1,
          "yref": "paper"
         }
        ],
        "template": {
         "data": {
          "bar": [
           {
            "error_x": {
             "color": "#2a3f5f"
            },
            "error_y": {
             "color": "#2a3f5f"
            },
            "marker": {
             "line": {
              "color": "#E5ECF6",
              "width": 0.5
             },
             "pattern": {
              "fillmode": "overlay",
              "size": 10,
              "solidity": 0.2
             }
            },
            "type": "bar"
           }
          ],
          "barpolar": [
           {
            "marker": {
             "line": {
              "color": "#E5ECF6",
              "width": 0.5
             },
             "pattern": {
              "fillmode": "overlay",
              "size": 10,
              "solidity": 0.2
             }
            },
            "type": "barpolar"
           }
          ],
          "carpet": [
           {
            "aaxis": {
             "endlinecolor": "#2a3f5f",
             "gridcolor": "white",
             "linecolor": "white",
             "minorgridcolor": "white",
             "startlinecolor": "#2a3f5f"
            },
            "baxis": {
             "endlinecolor": "#2a3f5f",
             "gridcolor": "white",
             "linecolor": "white",
             "minorgridcolor": "white",
             "startlinecolor": "#2a3f5f"
            },
            "type": "carpet"
           }
          ],
          "choropleth": [
           {
            "colorbar": {
             "outlinewidth": 0,
             "ticks": ""
            },
            "type": "choropleth"
           }
          ],
          "contour": [
           {
            "colorbar": {
             "outlinewidth": 0,
             "ticks": ""
            },
            "colorscale": [
             [
              0,
              "#0d0887"
             ],
             [
              0.1111111111111111,
              "#46039f"
             ],
             [
              0.2222222222222222,
              "#7201a8"
             ],
             [
              0.3333333333333333,
              "#9c179e"
             ],
             [
              0.4444444444444444,
              "#bd3786"
             ],
             [
              0.5555555555555556,
              "#d8576b"
             ],
             [
              0.6666666666666666,
              "#ed7953"
             ],
             [
              0.7777777777777778,
              "#fb9f3a"
             ],
             [
              0.8888888888888888,
              "#fdca26"
             ],
             [
              1,
              "#f0f921"
             ]
            ],
            "type": "contour"
           }
          ],
          "contourcarpet": [
           {
            "colorbar": {
             "outlinewidth": 0,
             "ticks": ""
            },
            "type": "contourcarpet"
           }
          ],
          "heatmap": [
           {
            "colorbar": {
             "outlinewidth": 0,
             "ticks": ""
            },
            "colorscale": [
             [
              0,
              "#0d0887"
             ],
             [
              0.1111111111111111,
              "#46039f"
             ],
             [
              0.2222222222222222,
              "#7201a8"
             ],
             [
              0.3333333333333333,
              "#9c179e"
             ],
             [
              0.4444444444444444,
              "#bd3786"
             ],
             [
              0.5555555555555556,
              "#d8576b"
             ],
             [
              0.6666666666666666,
              "#ed7953"
             ],
             [
              0.7777777777777778,
              "#fb9f3a"
             ],
             [
              0.8888888888888888,
              "#fdca26"
             ],
             [
              1,
              "#f0f921"
             ]
            ],
            "type": "heatmap"
           }
          ],
          "heatmapgl": [
           {
            "colorbar": {
             "outlinewidth": 0,
             "ticks": ""
            },
            "colorscale": [
             [
              0,
              "#0d0887"
             ],
             [
              0.1111111111111111,
              "#46039f"
             ],
             [
              0.2222222222222222,
              "#7201a8"
             ],
             [
              0.3333333333333333,
              "#9c179e"
             ],
             [
              0.4444444444444444,
              "#bd3786"
             ],
             [
              0.5555555555555556,
              "#d8576b"
             ],
             [
              0.6666666666666666,
              "#ed7953"
             ],
             [
              0.7777777777777778,
              "#fb9f3a"
             ],
             [
              0.8888888888888888,
              "#fdca26"
             ],
             [
              1,
              "#f0f921"
             ]
            ],
            "type": "heatmapgl"
           }
          ],
          "histogram": [
           {
            "marker": {
             "pattern": {
              "fillmode": "overlay",
              "size": 10,
              "solidity": 0.2
             }
            },
            "type": "histogram"
           }
          ],
          "histogram2d": [
           {
            "colorbar": {
             "outlinewidth": 0,
             "ticks": ""
            },
            "colorscale": [
             [
              0,
              "#0d0887"
             ],
             [
              0.1111111111111111,
              "#46039f"
             ],
             [
              0.2222222222222222,
              "#7201a8"
             ],
             [
              0.3333333333333333,
              "#9c179e"
             ],
             [
              0.4444444444444444,
              "#bd3786"
             ],
             [
              0.5555555555555556,
              "#d8576b"
             ],
             [
              0.6666666666666666,
              "#ed7953"
             ],
             [
              0.7777777777777778,
              "#fb9f3a"
             ],
             [
              0.8888888888888888,
              "#fdca26"
             ],
             [
              1,
              "#f0f921"
             ]
            ],
            "type": "histogram2d"
           }
          ],
          "histogram2dcontour": [
           {
            "colorbar": {
             "outlinewidth": 0,
             "ticks": ""
            },
            "colorscale": [
             [
              0,
              "#0d0887"
             ],
             [
              0.1111111111111111,
              "#46039f"
             ],
             [
              0.2222222222222222,
              "#7201a8"
             ],
             [
              0.3333333333333333,
              "#9c179e"
             ],
             [
              0.4444444444444444,
              "#bd3786"
             ],
             [
              0.5555555555555556,
              "#d8576b"
             ],
             [
              0.6666666666666666,
              "#ed7953"
             ],
             [
              0.7777777777777778,
              "#fb9f3a"
             ],
             [
              0.8888888888888888,
              "#fdca26"
             ],
             [
              1,
              "#f0f921"
             ]
            ],
            "type": "histogram2dcontour"
           }
          ],
          "mesh3d": [
           {
            "colorbar": {
             "outlinewidth": 0,
             "ticks": ""
            },
            "type": "mesh3d"
           }
          ],
          "parcoords": [
           {
            "line": {
             "colorbar": {
              "outlinewidth": 0,
              "ticks": ""
             }
            },
            "type": "parcoords"
           }
          ],
          "pie": [
           {
            "automargin": true,
            "type": "pie"
           }
          ],
          "scatter": [
           {
            "marker": {
             "colorbar": {
              "outlinewidth": 0,
              "ticks": ""
             }
            },
            "type": "scatter"
           }
          ],
          "scatter3d": [
           {
            "line": {
             "colorbar": {
              "outlinewidth": 0,
              "ticks": ""
             }
            },
            "marker": {
             "colorbar": {
              "outlinewidth": 0,
              "ticks": ""
             }
            },
            "type": "scatter3d"
           }
          ],
          "scattercarpet": [
           {
            "marker": {
             "colorbar": {
              "outlinewidth": 0,
              "ticks": ""
             }
            },
            "type": "scattercarpet"
           }
          ],
          "scattergeo": [
           {
            "marker": {
             "colorbar": {
              "outlinewidth": 0,
              "ticks": ""
             }
            },
            "type": "scattergeo"
           }
          ],
          "scattergl": [
           {
            "marker": {
             "colorbar": {
              "outlinewidth": 0,
              "ticks": ""
             }
            },
            "type": "scattergl"
           }
          ],
          "scattermapbox": [
           {
            "marker": {
             "colorbar": {
              "outlinewidth": 0,
              "ticks": ""
             }
            },
            "type": "scattermapbox"
           }
          ],
          "scatterpolar": [
           {
            "marker": {
             "colorbar": {
              "outlinewidth": 0,
              "ticks": ""
             }
            },
            "type": "scatterpolar"
           }
          ],
          "scatterpolargl": [
           {
            "marker": {
             "colorbar": {
              "outlinewidth": 0,
              "ticks": ""
             }
            },
            "type": "scatterpolargl"
           }
          ],
          "scatterternary": [
           {
            "marker": {
             "colorbar": {
              "outlinewidth": 0,
              "ticks": ""
             }
            },
            "type": "scatterternary"
           }
          ],
          "surface": [
           {
            "colorbar": {
             "outlinewidth": 0,
             "ticks": ""
            },
            "colorscale": [
             [
              0,
              "#0d0887"
             ],
             [
              0.1111111111111111,
              "#46039f"
             ],
             [
              0.2222222222222222,
              "#7201a8"
             ],
             [
              0.3333333333333333,
              "#9c179e"
             ],
             [
              0.4444444444444444,
              "#bd3786"
             ],
             [
              0.5555555555555556,
              "#d8576b"
             ],
             [
              0.6666666666666666,
              "#ed7953"
             ],
             [
              0.7777777777777778,
              "#fb9f3a"
             ],
             [
              0.8888888888888888,
              "#fdca26"
             ],
             [
              1,
              "#f0f921"
             ]
            ],
            "type": "surface"
           }
          ],
          "table": [
           {
            "cells": {
             "fill": {
              "color": "#EBF0F8"
             },
             "line": {
              "color": "white"
             }
            },
            "header": {
             "fill": {
              "color": "#C8D4E3"
             },
             "line": {
              "color": "white"
             }
            },
            "type": "table"
           }
          ]
         },
         "layout": {
          "annotationdefaults": {
           "arrowcolor": "#2a3f5f",
           "arrowhead": 0,
           "arrowwidth": 1
          },
          "autotypenumbers": "strict",
          "coloraxis": {
           "colorbar": {
            "outlinewidth": 0,
            "ticks": ""
           }
          },
          "colorscale": {
           "diverging": [
            [
             0,
             "#8e0152"
            ],
            [
             0.1,
             "#c51b7d"
            ],
            [
             0.2,
             "#de77ae"
            ],
            [
             0.3,
             "#f1b6da"
            ],
            [
             0.4,
             "#fde0ef"
            ],
            [
             0.5,
             "#f7f7f7"
            ],
            [
             0.6,
             "#e6f5d0"
            ],
            [
             0.7,
             "#b8e186"
            ],
            [
             0.8,
             "#7fbc41"
            ],
            [
             0.9,
             "#4d9221"
            ],
            [
             1,
             "#276419"
            ]
           ],
           "sequential": [
            [
             0,
             "#0d0887"
            ],
            [
             0.1111111111111111,
             "#46039f"
            ],
            [
             0.2222222222222222,
             "#7201a8"
            ],
            [
             0.3333333333333333,
             "#9c179e"
            ],
            [
             0.4444444444444444,
             "#bd3786"
            ],
            [
             0.5555555555555556,
             "#d8576b"
            ],
            [
             0.6666666666666666,
             "#ed7953"
            ],
            [
             0.7777777777777778,
             "#fb9f3a"
            ],
            [
             0.8888888888888888,
             "#fdca26"
            ],
            [
             1,
             "#f0f921"
            ]
           ],
           "sequentialminus": [
            [
             0,
             "#0d0887"
            ],
            [
             0.1111111111111111,
             "#46039f"
            ],
            [
             0.2222222222222222,
             "#7201a8"
            ],
            [
             0.3333333333333333,
             "#9c179e"
            ],
            [
             0.4444444444444444,
             "#bd3786"
            ],
            [
             0.5555555555555556,
             "#d8576b"
            ],
            [
             0.6666666666666666,
             "#ed7953"
            ],
            [
             0.7777777777777778,
             "#fb9f3a"
            ],
            [
             0.8888888888888888,
             "#fdca26"
            ],
            [
             1,
             "#f0f921"
            ]
           ]
          },
          "colorway": [
           "#636efa",
           "#EF553B",
           "#00cc96",
           "#ab63fa",
           "#FFA15A",
           "#19d3f3",
           "#FF6692",
           "#B6E880",
           "#FF97FF",
           "#FECB52"
          ],
          "font": {
           "color": "#2a3f5f"
          },
          "geo": {
           "bgcolor": "white",
           "lakecolor": "white",
           "landcolor": "#E5ECF6",
           "showlakes": true,
           "showland": true,
           "subunitcolor": "white"
          },
          "hoverlabel": {
           "align": "left"
          },
          "hovermode": "closest",
          "mapbox": {
           "style": "light"
          },
          "paper_bgcolor": "white",
          "plot_bgcolor": "#E5ECF6",
          "polar": {
           "angularaxis": {
            "gridcolor": "white",
            "linecolor": "white",
            "ticks": ""
           },
           "bgcolor": "#E5ECF6",
           "radialaxis": {
            "gridcolor": "white",
            "linecolor": "white",
            "ticks": ""
           }
          },
          "scene": {
           "xaxis": {
            "backgroundcolor": "#E5ECF6",
            "gridcolor": "white",
            "gridwidth": 2,
            "linecolor": "white",
            "showbackground": true,
            "ticks": "",
            "zerolinecolor": "white"
           },
           "yaxis": {
            "backgroundcolor": "#E5ECF6",
            "gridcolor": "white",
            "gridwidth": 2,
            "linecolor": "white",
            "showbackground": true,
            "ticks": "",
            "zerolinecolor": "white"
           },
           "zaxis": {
            "backgroundcolor": "#E5ECF6",
            "gridcolor": "white",
            "gridwidth": 2,
            "linecolor": "white",
            "showbackground": true,
            "ticks": "",
            "zerolinecolor": "white"
           }
          },
          "shapedefaults": {
           "line": {
            "color": "#2a3f5f"
           }
          },
          "ternary": {
           "aaxis": {
            "gridcolor": "white",
            "linecolor": "white",
            "ticks": ""
           },
           "baxis": {
            "gridcolor": "white",
            "linecolor": "white",
            "ticks": ""
           },
           "bgcolor": "#E5ECF6",
           "caxis": {
            "gridcolor": "white",
            "linecolor": "white",
            "ticks": ""
           }
          },
          "title": {
           "x": 0.05
          },
          "xaxis": {
           "automargin": true,
           "gridcolor": "white",
           "linecolor": "white",
           "ticks": "",
           "title": {
            "standoff": 15
           },
           "zerolinecolor": "white",
           "zerolinewidth": 2
          },
          "yaxis": {
           "automargin": true,
           "gridcolor": "white",
           "linecolor": "white",
           "ticks": "",
           "title": {
            "standoff": 15
           },
           "zerolinecolor": "white",
           "zerolinewidth": 2
          }
         }
        },
        "title": {
         "text": "US non Payrolls Release influence on S&P 500 - (SPX)"
        },
        "xaxis": {
         "autorange": true,
         "range": [
          "2021-09-03 12:00:30",
          "2021-09-03 13:00:30"
         ],
         "rangeslider": {
          "autorange": true,
          "range": [
           "2021-09-03 12:00:30",
           "2021-09-03 13:00:30"
          ],
          "yaxis": {
           "_template": null,
           "rangemode": "match"
          }
         },
         "type": "date"
        },
        "yaxis": {
         "autorange": true,
         "range": [
          4529.29688,
          4552.3632800000005
         ],
         "title": {
          "text": "SPX:IND"
         }
        }
       }
      },
      "image/png": "[encoded data removed]"
     },
     "metadata": {},
     "output_type": "display_data"
    }
   ],
   "source": [
    "\n",
    "df3 = s_p_intraday[470:527]\n",
    "\n",
    "fig = go.Figure(data=[go.Candlestick(x=df3['Date'],\n",
    "                open=df3['Open'], high=df3['High'],\n",
    "                low=df3['Low'], close=df3['Close'])\n",
    "                      ])\n",
    "\n",
    "fig.update_layout(\n",
    "    title='US non Payrolls Release influence on S&P 500 - (SPX)',\n",
    "    yaxis_title='SPX:IND',\n",
    "    shapes = [dict(\n",
    "        x0='2021-09-03T12:37:00', x1='2021-09-03T12:37:00', y0=0, y1=1, xref='x', yref='paper',\n",
    "        line_width=2)],\n",
    "    annotations=[dict(\n",
    "        x='2021-09-03T12:37:00', y=1.00, xref='x', yref='paper',\n",
    "        showarrow=False, xanchor='left', text='US non Payrolls Release')]\n",
    ")\n",
    "\n",
    "fig.show(renderer='plotly_mimetype')"
   ]
  },
  {
   "cell_type": "markdown",
   "id": "d31693aa-b14f-4967-89d7-e29fe642b4a8",
   "metadata": {},
   "source": [
    "## Reactions at October 2021 "
   ]
  },
  {
   "cell_type": "markdown",
   "id": "e3a45bac-6193-44d6-9315-44f1ad24f01e",
   "metadata": {},
   "source": [
    "### Euro USD Reaction"
   ]
  },
  {
   "cell_type": "code",
   "execution_count": 26,
   "id": "d141b13c-7498-4408-b017-050db37b7dd0",
   "metadata": {},
   "outputs": [],
   "source": [
    "eur_usd_intraday = te.getMarketsIntraday(symbols = ['eurusd:cur'], initDate='2021-10-08', endDate='2021-10-09', output_type = 'df')"
   ]
  },
  {
   "cell_type": "code",
   "execution_count": 27,
   "id": "7c8a0b53-5f24-4d75-a171-1f7e2f2f8f73",
   "metadata": {},
   "outputs": [
    {
     "data": {
      "text/html": [
       "<div>\n",
       "<style scoped>\n",
       "    .dataframe tbody tr th:only-of-type {\n",
       "        vertical-align: middle;\n",
       "    }\n",
       "\n",
       "    .dataframe tbody tr th {\n",
       "        vertical-align: top;\n",
       "    }\n",
       "\n",
       "    .dataframe thead th {\n",
       "        text-align: right;\n",
       "    }\n",
       "</style>\n",
       "<table border=\"1\" class=\"dataframe\">\n",
       "  <thead>\n",
       "    <tr style=\"text-align: right;\">\n",
       "      <th></th>\n",
       "      <th>Symbol</th>\n",
       "      <th>Date</th>\n",
       "      <th>Open</th>\n",
       "      <th>High</th>\n",
       "      <th>Low</th>\n",
       "      <th>Close</th>\n",
       "    </tr>\n",
       "  </thead>\n",
       "  <tbody>\n",
       "    <tr>\n",
       "      <th>485</th>\n",
       "      <td>EURUSD:CUR</td>\n",
       "      <td>2021-10-08T12:30:00</td>\n",
       "      <td>1.15649</td>\n",
       "      <td>1.15848</td>\n",
       "      <td>1.15649</td>\n",
       "      <td>1.1576</td>\n",
       "    </tr>\n",
       "  </tbody>\n",
       "</table>\n",
       "</div>"
      ],
      "text/plain": [
       "         Symbol                 Date     Open     High      Low   Close\n",
       "485  EURUSD:CUR  2021-10-08T12:30:00  1.15649  1.15848  1.15649  1.1576"
      ]
     },
     "execution_count": 27,
     "metadata": {},
     "output_type": "execute_result"
    }
   ],
   "source": [
    "eur_usd_intraday.query('Date == \"2021-10-08T12:30:00\"')"
   ]
  },
  {
   "cell_type": "code",
   "execution_count": 28,
   "id": "2f5e6129-609f-4f23-8023-f9a902dca721",
   "metadata": {},
   "outputs": [
    {
     "data": {
      "text/html": [
       "<div>\n",
       "<style scoped>\n",
       "    .dataframe tbody tr th:only-of-type {\n",
       "        vertical-align: middle;\n",
       "    }\n",
       "\n",
       "    .dataframe tbody tr th {\n",
       "        vertical-align: top;\n",
       "    }\n",
       "\n",
       "    .dataframe thead th {\n",
       "        text-align: right;\n",
       "    }\n",
       "</style>\n",
       "<table border=\"1\" class=\"dataframe\">\n",
       "  <thead>\n",
       "    <tr style=\"text-align: right;\">\n",
       "      <th></th>\n",
       "      <th>Symbol</th>\n",
       "      <th>Date</th>\n",
       "      <th>Open</th>\n",
       "      <th>High</th>\n",
       "      <th>Low</th>\n",
       "      <th>Close</th>\n",
       "    </tr>\n",
       "  </thead>\n",
       "  <tbody>\n",
       "    <tr>\n",
       "      <th>426</th>\n",
       "      <td>EURUSD:CUR</td>\n",
       "      <td>2021-10-08T13:30:00</td>\n",
       "      <td>1.15648</td>\n",
       "      <td>1.15655</td>\n",
       "      <td>1.15632</td>\n",
       "      <td>1.15633</td>\n",
       "    </tr>\n",
       "  </tbody>\n",
       "</table>\n",
       "</div>"
      ],
      "text/plain": [
       "         Symbol                 Date     Open     High      Low    Close\n",
       "426  EURUSD:CUR  2021-10-08T13:30:00  1.15648  1.15655  1.15632  1.15633"
      ]
     },
     "execution_count": 28,
     "metadata": {},
     "output_type": "execute_result"
    }
   ],
   "source": [
    "eur_usd_intraday.query('Date == \"2021-10-08T13:30:00\"')"
   ]
  },
  {
   "cell_type": "code",
   "execution_count": 29,
   "id": "16abfe10-11d2-45e4-a559-07e036469049",
   "metadata": {},
   "outputs": [
    {
     "data": {
      "application/vnd.plotly.v1+json": {
       "config": {
        "plotlyServerURL": "https://plot.ly"
       },
       "data": [
        {
         "close": [
          1.15633,
          1.15646,
          1.15655,
          1.15685,
          1.15689,
          1.15684,
          1.15681,
          1.15655,
          1.15636,
          1.15636,
          1.15662,
          1.15692,
          1.15714,
          1.15699,
          1.15694,
          1.15719,
          1.15743,
          1.1574,
          1.15734,
          1.1576,
          1.15758,
          1.15742,
          1.15766,
          1.15769,
          1.1576,
          1.15747,
          1.15711,
          1.15725,
          1.15703,
          1.15708,
          1.15708,
          1.15725,
          1.15739,
          1.15739,
          1.15732,
          1.1571,
          1.15723,
          1.15718,
          1.15708,
          1.15702,
          1.15699,
          1.15723,
          1.15755,
          1.15776,
          1.15762,
          1.15755,
          1.15765,
          1.15794,
          1.15785,
          1.15769,
          1.1584,
          1.15836,
          1.158,
          1.15797,
          1.15759,
          1.15715,
          1.15703,
          1.15664,
          1.15713
         ],
         "high": [
          1.15655,
          1.15664,
          1.15688,
          1.15688,
          1.15695,
          1.1569,
          1.15682,
          1.15658,
          1.1565,
          1.15664,
          1.15693,
          1.15723,
          1.15723,
          1.1571,
          1.15722,
          1.15748,
          1.15759,
          1.15749,
          1.15759,
          1.15773,
          1.15758,
          1.15769,
          1.15782,
          1.15787,
          1.15768,
          1.15752,
          1.15734,
          1.15731,
          1.1573,
          1.15727,
          1.15727,
          1.15743,
          1.15742,
          1.15763,
          1.15732,
          1.15725,
          1.15725,
          1.15732,
          1.15727,
          1.15719,
          1.15743,
          1.15766,
          1.15801,
          1.15791,
          1.15778,
          1.15794,
          1.15778,
          1.15804,
          1.15813,
          1.15811,
          1.15848,
          1.1586,
          1.15813,
          1.15804,
          1.15773,
          1.15734,
          1.15714,
          1.15715,
          1.15762
         ],
         "low": [
          1.15632,
          1.15645,
          1.15646,
          1.15669,
          1.15679,
          1.15678,
          1.15639,
          1.15636,
          1.15633,
          1.15614,
          1.15654,
          1.15692,
          1.15697,
          1.15695,
          1.15693,
          1.15719,
          1.15741,
          1.15734,
          1.15732,
          1.15753,
          1.15741,
          1.15733,
          1.15753,
          1.15757,
          1.15724,
          1.15712,
          1.15708,
          1.15701,
          1.15701,
          1.15702,
          1.15699,
          1.15725,
          1.15731,
          1.15736,
          1.15698,
          1.15702,
          1.15701,
          1.15708,
          1.1568,
          1.15697,
          1.1569,
          1.1572,
          1.15754,
          1.1576,
          1.15728,
          1.15755,
          1.15741,
          1.15781,
          1.15765,
          1.15767,
          1.15832,
          1.1579,
          1.1578,
          1.15752,
          1.15697,
          1.15685,
          1.15651,
          1.15639,
          1.15712
         ],
         "open": [
          1.15648,
          1.15654,
          1.15683,
          1.15669,
          1.15683,
          1.15682,
          1.15648,
          1.15638,
          1.15638,
          1.15661,
          1.1569,
          1.15711,
          1.15697,
          1.15695,
          1.1572,
          1.15745,
          1.15742,
          1.15738,
          1.15759,
          1.15761,
          1.15743,
          1.15767,
          1.15771,
          1.15758,
          1.15748,
          1.15712,
          1.15727,
          1.15705,
          1.15714,
          1.15712,
          1.15727,
          1.1574,
          1.15741,
          1.15747,
          1.15711,
          1.15721,
          1.15711,
          1.15712,
          1.15701,
          1.15698,
          1.15724,
          1.15757,
          1.15782,
          1.15761,
          1.15754,
          1.15766,
          1.15763,
          1.15783,
          1.15773,
          1.15811,
          1.15837,
          1.15802,
          1.15798,
          1.15756,
          1.1571,
          1.15701,
          1.15667,
          1.15714,
          1.15759
         ],
         "type": "candlestick",
         "x": [
          "2021-10-08T13:30:00",
          "2021-10-08T13:29:00",
          "2021-10-08T13:28:00",
          "2021-10-08T13:27:00",
          "2021-10-08T13:25:00",
          "2021-10-08T13:24:00",
          "2021-10-08T13:23:00",
          "2021-10-08T13:22:00",
          "2021-10-08T13:21:00",
          "2021-10-08T13:20:00",
          "2021-10-08T13:19:00",
          "2021-10-08T13:18:00",
          "2021-10-08T13:17:00",
          "2021-10-08T13:16:00",
          "2021-10-08T13:15:00",
          "2021-10-08T13:14:00",
          "2021-10-08T13:13:00",
          "2021-10-08T13:12:00",
          "2021-10-08T13:11:00",
          "2021-10-08T13:10:00",
          "2021-10-08T13:09:00",
          "2021-10-08T13:08:00",
          "2021-10-08T13:07:00",
          "2021-10-08T13:06:00",
          "2021-10-08T13:05:00",
          "2021-10-08T13:04:00",
          "2021-10-08T13:03:00",
          "2021-10-08T13:02:00",
          "2021-10-08T13:01:00",
          "2021-10-08T13:00:00",
          "2021-10-08T12:59:00",
          "2021-10-08T12:58:00",
          "2021-10-08T12:57:00",
          "2021-10-08T12:56:00",
          "2021-10-08T12:55:00",
          "2021-10-08T12:54:00",
          "2021-10-08T12:53:00",
          "2021-10-08T12:52:00",
          "2021-10-08T12:51:00",
          "2021-10-08T12:50:00",
          "2021-10-08T12:49:00",
          "2021-10-08T12:48:00",
          "2021-10-08T12:47:00",
          "2021-10-08T12:46:00",
          "2021-10-08T12:45:00",
          "2021-10-08T12:44:00",
          "2021-10-08T12:43:00",
          "2021-10-08T12:42:00",
          "2021-10-08T12:41:00",
          "2021-10-08T12:40:00",
          "2021-10-08T12:39:00",
          "2021-10-08T12:38:00",
          "2021-10-08T12:37:00",
          "2021-10-08T12:36:00",
          "2021-10-08T12:35:00",
          "2021-10-08T12:34:00",
          "2021-10-08T12:33:00",
          "2021-10-08T12:32:00",
          "2021-10-08T12:31:00"
         ]
        }
       ],
       "layout": {
        "annotations": [
         {
          "showarrow": false,
          "text": "US non Payrolls Release",
          "x": "2021-10-08T12:54:00",
          "xanchor": "left",
          "xref": "x",
          "y": 1,
          "yref": "paper"
         }
        ],
        "autosize": true,
        "shapes": [
         {
          "line": {
           "width": 2
          },
          "x0": "2021-10-08T12:54:00",
          "x1": "2021-10-08T12:54:00",
          "xref": "x",
          "y0": 0,
          "y1": 1,
          "yref": "paper"
         }
        ],
        "template": {
         "data": {
          "bar": [
           {
            "error_x": {
             "color": "#2a3f5f"
            },
            "error_y": {
             "color": "#2a3f5f"
            },
            "marker": {
             "line": {
              "color": "#E5ECF6",
              "width": 0.5
             },
             "pattern": {
              "fillmode": "overlay",
              "size": 10,
              "solidity": 0.2
             }
            },
            "type": "bar"
           }
          ],
          "barpolar": [
           {
            "marker": {
             "line": {
              "color": "#E5ECF6",
              "width": 0.5
             },
             "pattern": {
              "fillmode": "overlay",
              "size": 10,
              "solidity": 0.2
             }
            },
            "type": "barpolar"
           }
          ],
          "carpet": [
           {
            "aaxis": {
             "endlinecolor": "#2a3f5f",
             "gridcolor": "white",
             "linecolor": "white",
             "minorgridcolor": "white",
             "startlinecolor": "#2a3f5f"
            },
            "baxis": {
             "endlinecolor": "#2a3f5f",
             "gridcolor": "white",
             "linecolor": "white",
             "minorgridcolor": "white",
             "startlinecolor": "#2a3f5f"
            },
            "type": "carpet"
           }
          ],
          "choropleth": [
           {
            "colorbar": {
             "outlinewidth": 0,
             "ticks": ""
            },
            "type": "choropleth"
           }
          ],
          "contour": [
           {
            "colorbar": {
             "outlinewidth": 0,
             "ticks": ""
            },
            "colorscale": [
             [
              0,
              "#0d0887"
             ],
             [
              0.1111111111111111,
              "#46039f"
             ],
             [
              0.2222222222222222,
              "#7201a8"
             ],
             [
              0.3333333333333333,
              "#9c179e"
             ],
             [
              0.4444444444444444,
              "#bd3786"
             ],
             [
              0.5555555555555556,
              "#d8576b"
             ],
             [
              0.6666666666666666,
              "#ed7953"
             ],
             [
              0.7777777777777778,
              "#fb9f3a"
             ],
             [
              0.8888888888888888,
              "#fdca26"
             ],
             [
              1,
              "#f0f921"
             ]
            ],
            "type": "contour"
           }
          ],
          "contourcarpet": [
           {
            "colorbar": {
             "outlinewidth": 0,
             "ticks": ""
            },
            "type": "contourcarpet"
           }
          ],
          "heatmap": [
           {
            "colorbar": {
             "outlinewidth": 0,
             "ticks": ""
            },
            "colorscale": [
             [
              0,
              "#0d0887"
             ],
             [
              0.1111111111111111,
              "#46039f"
             ],
             [
              0.2222222222222222,
              "#7201a8"
             ],
             [
              0.3333333333333333,
              "#9c179e"
             ],
             [
              0.4444444444444444,
              "#bd3786"
             ],
             [
              0.5555555555555556,
              "#d8576b"
             ],
             [
              0.6666666666666666,
              "#ed7953"
             ],
             [
              0.7777777777777778,
              "#fb9f3a"
             ],
             [
              0.8888888888888888,
              "#fdca26"
             ],
             [
              1,
              "#f0f921"
             ]
            ],
            "type": "heatmap"
           }
          ],
          "heatmapgl": [
           {
            "colorbar": {
             "outlinewidth": 0,
             "ticks": ""
            },
            "colorscale": [
             [
              0,
              "#0d0887"
             ],
             [
              0.1111111111111111,
              "#46039f"
             ],
             [
              0.2222222222222222,
              "#7201a8"
             ],
             [
              0.3333333333333333,
              "#9c179e"
             ],
             [
              0.4444444444444444,
              "#bd3786"
             ],
             [
              0.5555555555555556,
              "#d8576b"
             ],
             [
              0.6666666666666666,
              "#ed7953"
             ],
             [
              0.7777777777777778,
              "#fb9f3a"
             ],
             [
              0.8888888888888888,
              "#fdca26"
             ],
             [
              1,
              "#f0f921"
             ]
            ],
            "type": "heatmapgl"
           }
          ],
          "histogram": [
           {
            "marker": {
             "pattern": {
              "fillmode": "overlay",
              "size": 10,
              "solidity": 0.2
             }
            },
            "type": "histogram"
           }
          ],
          "histogram2d": [
           {
            "colorbar": {
             "outlinewidth": 0,
             "ticks": ""
            },
            "colorscale": [
             [
              0,
              "#0d0887"
             ],
             [
              0.1111111111111111,
              "#46039f"
             ],
             [
              0.2222222222222222,
              "#7201a8"
             ],
             [
              0.3333333333333333,
              "#9c179e"
             ],
             [
              0.4444444444444444,
              "#bd3786"
             ],
             [
              0.5555555555555556,
              "#d8576b"
             ],
             [
              0.6666666666666666,
              "#ed7953"
             ],
             [
              0.7777777777777778,
              "#fb9f3a"
             ],
             [
              0.8888888888888888,
              "#fdca26"
             ],
             [
              1,
              "#f0f921"
             ]
            ],
            "type": "histogram2d"
           }
          ],
          "histogram2dcontour": [
           {
            "colorbar": {
             "outlinewidth": 0,
             "ticks": ""
            },
            "colorscale": [
             [
              0,
              "#0d0887"
             ],
             [
              0.1111111111111111,
              "#46039f"
             ],
             [
              0.2222222222222222,
              "#7201a8"
             ],
             [
              0.3333333333333333,
              "#9c179e"
             ],
             [
              0.4444444444444444,
              "#bd3786"
             ],
             [
              0.5555555555555556,
              "#d8576b"
             ],
             [
              0.6666666666666666,
              "#ed7953"
             ],
             [
              0.7777777777777778,
              "#fb9f3a"
             ],
             [
              0.8888888888888888,
              "#fdca26"
             ],
             [
              1,
              "#f0f921"
             ]
            ],
            "type": "histogram2dcontour"
           }
          ],
          "mesh3d": [
           {
            "colorbar": {
             "outlinewidth": 0,
             "ticks": ""
            },
            "type": "mesh3d"
           }
          ],
          "parcoords": [
           {
            "line": {
             "colorbar": {
              "outlinewidth": 0,
              "ticks": ""
             }
            },
            "type": "parcoords"
           }
          ],
          "pie": [
           {
            "automargin": true,
            "type": "pie"
           }
          ],
          "scatter": [
           {
            "marker": {
             "colorbar": {
              "outlinewidth": 0,
              "ticks": ""
             }
            },
            "type": "scatter"
           }
          ],
          "scatter3d": [
           {
            "line": {
             "colorbar": {
              "outlinewidth": 0,
              "ticks": ""
             }
            },
            "marker": {
             "colorbar": {
              "outlinewidth": 0,
              "ticks": ""
             }
            },
            "type": "scatter3d"
           }
          ],
          "scattercarpet": [
           {
            "marker": {
             "colorbar": {
              "outlinewidth": 0,
              "ticks": ""
             }
            },
            "type": "scattercarpet"
           }
          ],
          "scattergeo": [
           {
            "marker": {
             "colorbar": {
              "outlinewidth": 0,
              "ticks": ""
             }
            },
            "type": "scattergeo"
           }
          ],
          "scattergl": [
           {
            "marker": {
             "colorbar": {
              "outlinewidth": 0,
              "ticks": ""
             }
            },
            "type": "scattergl"
           }
          ],
          "scattermapbox": [
           {
            "marker": {
             "colorbar": {
              "outlinewidth": 0,
              "ticks": ""
             }
            },
            "type": "scattermapbox"
           }
          ],
          "scatterpolar": [
           {
            "marker": {
             "colorbar": {
              "outlinewidth": 0,
              "ticks": ""
             }
            },
            "type": "scatterpolar"
           }
          ],
          "scatterpolargl": [
           {
            "marker": {
             "colorbar": {
              "outlinewidth": 0,
              "ticks": ""
             }
            },
            "type": "scatterpolargl"
           }
          ],
          "scatterternary": [
           {
            "marker": {
             "colorbar": {
              "outlinewidth": 0,
              "ticks": ""
             }
            },
            "type": "scatterternary"
           }
          ],
          "surface": [
           {
            "colorbar": {
             "outlinewidth": 0,
             "ticks": ""
            },
            "colorscale": [
             [
              0,
              "#0d0887"
             ],
             [
              0.1111111111111111,
              "#46039f"
             ],
             [
              0.2222222222222222,
              "#7201a8"
             ],
             [
              0.3333333333333333,
              "#9c179e"
             ],
             [
              0.4444444444444444,
              "#bd3786"
             ],
             [
              0.5555555555555556,
              "#d8576b"
             ],
             [
              0.6666666666666666,
              "#ed7953"
             ],
             [
              0.7777777777777778,
              "#fb9f3a"
             ],
             [
              0.8888888888888888,
              "#fdca26"
             ],
             [
              1,
              "#f0f921"
             ]
            ],
            "type": "surface"
           }
          ],
          "table": [
           {
            "cells": {
             "fill": {
              "color": "#EBF0F8"
             },
             "line": {
              "color": "white"
             }
            },
            "header": {
             "fill": {
              "color": "#C8D4E3"
             },
             "line": {
              "color": "white"
             }
            },
            "type": "table"
           }
          ]
         },
         "layout": {
          "annotationdefaults": {
           "arrowcolor": "#2a3f5f",
           "arrowhead": 0,
           "arrowwidth": 1
          },
          "autotypenumbers": "strict",
          "coloraxis": {
           "colorbar": {
            "outlinewidth": 0,
            "ticks": ""
           }
          },
          "colorscale": {
           "diverging": [
            [
             0,
             "#8e0152"
            ],
            [
             0.1,
             "#c51b7d"
            ],
            [
             0.2,
             "#de77ae"
            ],
            [
             0.3,
             "#f1b6da"
            ],
            [
             0.4,
             "#fde0ef"
            ],
            [
             0.5,
             "#f7f7f7"
            ],
            [
             0.6,
             "#e6f5d0"
            ],
            [
             0.7,
             "#b8e186"
            ],
            [
             0.8,
             "#7fbc41"
            ],
            [
             0.9,
             "#4d9221"
            ],
            [
             1,
             "#276419"
            ]
           ],
           "sequential": [
            [
             0,
             "#0d0887"
            ],
            [
             0.1111111111111111,
             "#46039f"
            ],
            [
             0.2222222222222222,
             "#7201a8"
            ],
            [
             0.3333333333333333,
             "#9c179e"
            ],
            [
             0.4444444444444444,
             "#bd3786"
            ],
            [
             0.5555555555555556,
             "#d8576b"
            ],
            [
             0.6666666666666666,
             "#ed7953"
            ],
            [
             0.7777777777777778,
             "#fb9f3a"
            ],
            [
             0.8888888888888888,
             "#fdca26"
            ],
            [
             1,
             "#f0f921"
            ]
           ],
           "sequentialminus": [
            [
             0,
             "#0d0887"
            ],
            [
             0.1111111111111111,
             "#46039f"
            ],
            [
             0.2222222222222222,
             "#7201a8"
            ],
            [
             0.3333333333333333,
             "#9c179e"
            ],
            [
             0.4444444444444444,
             "#bd3786"
            ],
            [
             0.5555555555555556,
             "#d8576b"
            ],
            [
             0.6666666666666666,
             "#ed7953"
            ],
            [
             0.7777777777777778,
             "#fb9f3a"
            ],
            [
             0.8888888888888888,
             "#fdca26"
            ],
            [
             1,
             "#f0f921"
            ]
           ]
          },
          "colorway": [
           "#636efa",
           "#EF553B",
           "#00cc96",
           "#ab63fa",
           "#FFA15A",
           "#19d3f3",
           "#FF6692",
           "#B6E880",
           "#FF97FF",
           "#FECB52"
          ],
          "font": {
           "color": "#2a3f5f"
          },
          "geo": {
           "bgcolor": "white",
           "lakecolor": "white",
           "landcolor": "#E5ECF6",
           "showlakes": true,
           "showland": true,
           "subunitcolor": "white"
          },
          "hoverlabel": {
           "align": "left"
          },
          "hovermode": "closest",
          "mapbox": {
           "style": "light"
          },
          "paper_bgcolor": "white",
          "plot_bgcolor": "#E5ECF6",
          "polar": {
           "angularaxis": {
            "gridcolor": "white",
            "linecolor": "white",
            "ticks": ""
           },
           "bgcolor": "#E5ECF6",
           "radialaxis": {
            "gridcolor": "white",
            "linecolor": "white",
            "ticks": ""
           }
          },
          "scene": {
           "xaxis": {
            "backgroundcolor": "#E5ECF6",
            "gridcolor": "white",
            "gridwidth": 2,
            "linecolor": "white",
            "showbackground": true,
            "ticks": "",
            "zerolinecolor": "white"
           },
           "yaxis": {
            "backgroundcolor": "#E5ECF6",
            "gridcolor": "white",
            "gridwidth": 2,
            "linecolor": "white",
            "showbackground": true,
            "ticks": "",
            "zerolinecolor": "white"
           },
           "zaxis": {
            "backgroundcolor": "#E5ECF6",
            "gridcolor": "white",
            "gridwidth": 2,
            "linecolor": "white",
            "showbackground": true,
            "ticks": "",
            "zerolinecolor": "white"
           }
          },
          "shapedefaults": {
           "line": {
            "color": "#2a3f5f"
           }
          },
          "ternary": {
           "aaxis": {
            "gridcolor": "white",
            "linecolor": "white",
            "ticks": ""
           },
           "baxis": {
            "gridcolor": "white",
            "linecolor": "white",
            "ticks": ""
           },
           "bgcolor": "#E5ECF6",
           "caxis": {
            "gridcolor": "white",
            "linecolor": "white",
            "ticks": ""
           }
          },
          "title": {
           "x": 0.05
          },
          "xaxis": {
           "automargin": true,
           "gridcolor": "white",
           "linecolor": "white",
           "ticks": "",
           "title": {
            "standoff": 15
           },
           "zerolinecolor": "white",
           "zerolinewidth": 2
          },
          "yaxis": {
           "automargin": true,
           "gridcolor": "white",
           "linecolor": "white",
           "ticks": "",
           "title": {
            "standoff": 15
           },
           "zerolinecolor": "white",
           "zerolinewidth": 2
          }
         }
        },
        "title": {
         "text": "US non Payrolls Release influence on EURO USD - (EURUSD)"
        },
        "xaxis": {
         "autorange": true,
         "range": [
          "2021-10-08 12:30:30",
          "2021-10-08 13:30:30"
         ],
         "rangeslider": {
          "autorange": true,
          "range": [
           "2021-10-08 12:30:30",
           "2021-10-08 13:30:30"
          ],
          "yaxis": {
           "_template": null,
           "rangemode": "match"
          }
         },
         "type": "date"
        },
        "yaxis": {
         "autorange": true,
         "range": [
          1.1560033333333333,
          1.1587366666666667
         ],
         "title": {
          "text": "EURUSD:CUR"
         }
        }
       }
      },
      "image/png": "[encoded data removed]"
     },
     "metadata": {},
     "output_type": "display_data"
    }
   ],
   "source": [
    "\n",
    "df4 = eur_usd_intraday[426:485]\n",
    "\n",
    "fig = go.Figure(data=[go.Candlestick(x=df4['Date'],\n",
    "                open=df4['Open'], high=df4['High'],\n",
    "                low=df4['Low'], close=df4['Close'])\n",
    "                      ])\n",
    "\n",
    "fig.update_layout(\n",
    "    title='US non Payrolls Release influence on EURO USD - (EURUSD)',\n",
    "    yaxis_title='EURUSD:CUR',\n",
    "    shapes = [dict(\n",
    "        x0='2021-10-08T12:54:00', x1='2021-10-08T12:54:00', y0=0, y1=1, xref='x', yref='paper',\n",
    "        line_width=2)],\n",
    "    annotations=[dict(\n",
    "        x='2021-10-08T12:54:00', y=1.00, xref='x', yref='paper',\n",
    "        showarrow=False, xanchor='left', text='US non Payrolls Release')]\n",
    ")\n",
    "\n",
    "fig.show(renderer='plotly_mimetype')"
   ]
  },
  {
   "cell_type": "code",
   "execution_count": null,
   "id": "9c4730aa-66d3-4d3d-87d2-78bdbae11f54",
   "metadata": {},
   "outputs": [],
   "source": []
  },
  {
   "cell_type": "markdown",
   "id": "aff639e4-129c-4fa9-9f2a-795f12c2666e",
   "metadata": {},
   "source": [
    "### Dow Jones Industrial Average Reaction"
   ]
  },
  {
   "cell_type": "code",
   "execution_count": 30,
   "id": "26ebb317-e1fb-4111-b22b-69b096cb4afd",
   "metadata": {},
   "outputs": [],
   "source": [
    "indu_ind_intraday_october = te.getMarketsIntraday(symbols = ['indu:ind'], initDate='2021-10-08', endDate='2021-10-09', output_type = 'df')"
   ]
  },
  {
   "cell_type": "code",
   "execution_count": 31,
   "id": "d36dc378-a98a-477a-a550-a5d200196b7f",
   "metadata": {},
   "outputs": [
    {
     "data": {
      "text/html": [
       "<div>\n",
       "<style scoped>\n",
       "    .dataframe tbody tr th:only-of-type {\n",
       "        vertical-align: middle;\n",
       "    }\n",
       "\n",
       "    .dataframe tbody tr th {\n",
       "        vertical-align: top;\n",
       "    }\n",
       "\n",
       "    .dataframe thead th {\n",
       "        text-align: right;\n",
       "    }\n",
       "</style>\n",
       "<table border=\"1\" class=\"dataframe\">\n",
       "  <thead>\n",
       "    <tr style=\"text-align: right;\">\n",
       "      <th></th>\n",
       "      <th>Symbol</th>\n",
       "      <th>Date</th>\n",
       "      <th>Open</th>\n",
       "      <th>High</th>\n",
       "      <th>Low</th>\n",
       "      <th>Close</th>\n",
       "    </tr>\n",
       "  </thead>\n",
       "  <tbody>\n",
       "    <tr>\n",
       "      <th>509</th>\n",
       "      <td>INDU:IND</td>\n",
       "      <td>2021-10-08T12:30:00</td>\n",
       "      <td>34832.91016</td>\n",
       "      <td>34832.91016</td>\n",
       "      <td>34691.41016</td>\n",
       "      <td>34756.64063</td>\n",
       "    </tr>\n",
       "  </tbody>\n",
       "</table>\n",
       "</div>"
      ],
      "text/plain": [
       "       Symbol                 Date         Open         High          Low  \\\n",
       "509  INDU:IND  2021-10-08T12:30:00  34832.91016  34832.91016  34691.41016   \n",
       "\n",
       "           Close  \n",
       "509  34756.64063  "
      ]
     },
     "execution_count": 31,
     "metadata": {},
     "output_type": "execute_result"
    }
   ],
   "source": [
    "indu_ind_intraday_october.query('Date == \"2021-10-08T12:30:00\"')"
   ]
  },
  {
   "cell_type": "code",
   "execution_count": 32,
   "id": "3707bcf8-d942-4f7d-ade7-8a073fbccaf0",
   "metadata": {},
   "outputs": [
    {
     "data": {
      "text/html": [
       "<div>\n",
       "<style scoped>\n",
       "    .dataframe tbody tr th:only-of-type {\n",
       "        vertical-align: middle;\n",
       "    }\n",
       "\n",
       "    .dataframe tbody tr th {\n",
       "        vertical-align: top;\n",
       "    }\n",
       "\n",
       "    .dataframe thead th {\n",
       "        text-align: right;\n",
       "    }\n",
       "</style>\n",
       "<table border=\"1\" class=\"dataframe\">\n",
       "  <thead>\n",
       "    <tr style=\"text-align: right;\">\n",
       "      <th></th>\n",
       "      <th>Symbol</th>\n",
       "      <th>Date</th>\n",
       "      <th>Open</th>\n",
       "      <th>High</th>\n",
       "      <th>Low</th>\n",
       "      <th>Close</th>\n",
       "    </tr>\n",
       "  </thead>\n",
       "  <tbody>\n",
       "    <tr>\n",
       "      <th>449</th>\n",
       "      <td>INDU:IND</td>\n",
       "      <td>2021-10-08T13:30:00</td>\n",
       "      <td>34791.76172</td>\n",
       "      <td>34817.85938</td>\n",
       "      <td>34756.64063</td>\n",
       "      <td>34757.64063</td>\n",
       "    </tr>\n",
       "  </tbody>\n",
       "</table>\n",
       "</div>"
      ],
      "text/plain": [
       "       Symbol                 Date         Open         High          Low  \\\n",
       "449  INDU:IND  2021-10-08T13:30:00  34791.76172  34817.85938  34756.64063   \n",
       "\n",
       "           Close  \n",
       "449  34757.64063  "
      ]
     },
     "execution_count": 32,
     "metadata": {},
     "output_type": "execute_result"
    }
   ],
   "source": [
    "indu_ind_intraday_october.query('Date == \"2021-10-08T13:30:00\"')"
   ]
  },
  {
   "cell_type": "code",
   "execution_count": 33,
   "id": "ffb1b24d-66ef-4026-9357-23d41812e773",
   "metadata": {},
   "outputs": [
    {
     "data": {
      "application/vnd.plotly.v1+json": {
       "config": {
        "plotlyServerURL": "https://plot.ly"
       },
       "data": [
        {
         "close": [
          34757.64063,
          34790.76172,
          34796.78125,
          34803.80859,
          34794.78125,
          34792.76953,
          34799.78906,
          34803.80859,
          34793.76953,
          34785.73828,
          34788.75,
          34790.76172,
          34787.75,
          34794.78125,
          34791.76172,
          34795.78125,
          34792.76953,
          34807.82031,
          34796.78125,
          34785.73828,
          34793.76953,
          34795.78125,
          34784.73828,
          34797.78906,
          34813.83984,
          34793.76953,
          34798.78906,
          34786.75,
          34782.73047,
          34776.71094,
          34785.73828,
          34774.69922,
          34770.69141,
          34770.69141,
          34776.71094,
          34760.64844,
          34737.57031,
          34726.53125,
          34728.53906,
          34726.53125,
          34707.46094,
          34693.41016,
          34673.33984,
          34710.48047,
          34727.53906,
          34719.51172,
          34730.55078,
          34725.53125,
          34753.62891,
          34767.67969,
          34768.67969,
          34803.80859,
          34787.75,
          34763.66016,
          34722.51953,
          34724.53125,
          34718.5,
          34681.37109,
          34704.44922,
          34748.60938
         ],
         "high": [
          34817.85938,
          34807.82031,
          34811.83984,
          34805.80859,
          34799.78906,
          34803.80859,
          34805.80859,
          34806.82031,
          34795.78125,
          34791.76172,
          34794.78125,
          34790.76172,
          34799.78906,
          34802.80078,
          34801.80078,
          34799.78906,
          34809.82813,
          34812.83984,
          34797.78906,
          34791.76172,
          34807.82031,
          34796.78125,
          34796.78125,
          34815.85156,
          34822.87891,
          34806.82031,
          34798.78906,
          34790.76172,
          34785.73828,
          34785.73828,
          34792.76953,
          34774.69922,
          34785.73828,
          34777.71094,
          34786.75,
          34764.67188,
          34740.57813,
          34736.57031,
          34730.55078,
          34726.53125,
          34715.48828,
          34699.44141,
          34715.48828,
          34724.53125,
          34733.55859,
          34748.60938,
          34746.60156,
          34756.64063,
          34775.71094,
          34796.78125,
          34809.82813,
          34826.89063,
          34803.80859,
          34765.67188,
          34728.53906,
          34740.57813,
          34726.53125,
          34705.46094,
          34749.60938,
          34780.73047
         ],
         "low": [
          34756.64063,
          34789.76172,
          34794.78125,
          34796.78125,
          34793.76953,
          34790.76172,
          34796.78125,
          34792.76953,
          34785.73828,
          34783.73828,
          34782.73047,
          34780.73047,
          34786.75,
          34790.76172,
          34791.76172,
          34787.75,
          34790.76172,
          34796.78125,
          34782.73047,
          34778.71875,
          34790.76172,
          34783.73828,
          34782.73047,
          34797.78906,
          34794.78125,
          34787.75,
          34785.73828,
          34778.71875,
          34775.71094,
          34764.67188,
          34767.67969,
          34764.67188,
          34759.64844,
          34764.67188,
          34758.64844,
          34735.55859,
          34720.51172,
          34723.51953,
          34720.51172,
          34702.44922,
          34693.41016,
          34671.33984,
          34671.33984,
          34706.46094,
          34717.5,
          34717.5,
          34724.53125,
          34713.48828,
          34744.60156,
          34766.67969,
          34768.67969,
          34785.73828,
          34757.64063,
          34724.53125,
          34709.46875,
          34711.48047,
          34676.35156,
          34668.32813,
          34700.44141,
          34746.60156
         ],
         "open": [
          34791.76172,
          34799.78906,
          34804.80859,
          34797.78906,
          34794.78125,
          34800.80078,
          34805.80859,
          34792.76953,
          34786.75,
          34787.75,
          34791.76172,
          34785.73828,
          34792.76953,
          34790.76172,
          34797.78906,
          34793.76953,
          34809.82813,
          34797.78906,
          34782.73047,
          34791.76172,
          34797.78906,
          34785.73828,
          34796.78125,
          34815.85156,
          34794.78125,
          34795.78125,
          34787.75,
          34779.71875,
          34775.71094,
          34783.73828,
          34773.69922,
          34771.69141,
          34768.67969,
          34775.71094,
          34758.64844,
          34738.57813,
          34727.53906,
          34727.53906,
          34722.51953,
          34706.46094,
          34696.42969,
          34674.35156,
          34713.48828,
          34723.51953,
          34723.51953,
          34731.55078,
          34724.53125,
          34754.62891,
          34769.69141,
          34769.69141,
          34801.80078,
          34786.75,
          34764.67188,
          34724.53125,
          34721.51172,
          34715.48828,
          34683.37891,
          34702.44922,
          34745.60156,
          34759.64844
         ],
         "type": "candlestick",
         "x": [
          "2021-10-08T13:30:00",
          "2021-10-08T13:29:00",
          "2021-10-08T13:28:00",
          "2021-10-08T13:27:00",
          "2021-10-08T13:26:00",
          "2021-10-08T13:25:00",
          "2021-10-08T13:24:00",
          "2021-10-08T13:23:00",
          "2021-10-08T13:22:00",
          "2021-10-08T13:21:00",
          "2021-10-08T13:20:00",
          "2021-10-08T13:19:00",
          "2021-10-08T13:18:00",
          "2021-10-08T13:17:00",
          "2021-10-08T13:16:00",
          "2021-10-08T13:15:00",
          "2021-10-08T13:14:00",
          "2021-10-08T13:13:00",
          "2021-10-08T13:12:00",
          "2021-10-08T13:11:00",
          "2021-10-08T13:10:00",
          "2021-10-08T13:09:00",
          "2021-10-08T13:08:00",
          "2021-10-08T13:07:00",
          "2021-10-08T13:06:00",
          "2021-10-08T13:05:00",
          "2021-10-08T13:04:00",
          "2021-10-08T13:03:00",
          "2021-10-08T13:02:00",
          "2021-10-08T13:01:00",
          "2021-10-08T13:00:00",
          "2021-10-08T12:59:00",
          "2021-10-08T12:58:00",
          "2021-10-08T12:57:00",
          "2021-10-08T12:56:00",
          "2021-10-08T12:55:00",
          "2021-10-08T12:54:00",
          "2021-10-08T12:53:00",
          "2021-10-08T12:52:00",
          "2021-10-08T12:51:00",
          "2021-10-08T12:50:00",
          "2021-10-08T12:49:00",
          "2021-10-08T12:48:00",
          "2021-10-08T12:47:00",
          "2021-10-08T12:46:00",
          "2021-10-08T12:45:00",
          "2021-10-08T12:44:00",
          "2021-10-08T12:43:00",
          "2021-10-08T12:42:00",
          "2021-10-08T12:41:00",
          "2021-10-08T12:40:00",
          "2021-10-08T12:39:00",
          "2021-10-08T12:38:00",
          "2021-10-08T12:37:00",
          "2021-10-08T12:36:00",
          "2021-10-08T12:35:00",
          "2021-10-08T12:34:00",
          "2021-10-08T12:33:00",
          "2021-10-08T12:32:00",
          "2021-10-08T12:31:00"
         ]
        }
       ],
       "layout": {
        "annotations": [
         {
          "showarrow": false,
          "text": "US non Payrolls Release",
          "x": "2021-10-08T12:54:00",
          "xanchor": "left",
          "xref": "x",
          "y": 1,
          "yref": "paper"
         }
        ],
        "autosize": true,
        "shapes": [
         {
          "line": {
           "width": 2
          },
          "x0": "2021-10-08T12:54:00",
          "x1": "2021-10-08T12:54:00",
          "xref": "x",
          "y0": 0,
          "y1": 1,
          "yref": "paper"
         }
        ],
        "template": {
         "data": {
          "bar": [
           {
            "error_x": {
             "color": "#2a3f5f"
            },
            "error_y": {
             "color": "#2a3f5f"
            },
            "marker": {
             "line": {
              "color": "#E5ECF6",
              "width": 0.5
             },
             "pattern": {
              "fillmode": "overlay",
              "size": 10,
              "solidity": 0.2
             }
            },
            "type": "bar"
           }
          ],
          "barpolar": [
           {
            "marker": {
             "line": {
              "color": "#E5ECF6",
              "width": 0.5
             },
             "pattern": {
              "fillmode": "overlay",
              "size": 10,
              "solidity": 0.2
             }
            },
            "type": "barpolar"
           }
          ],
          "carpet": [
           {
            "aaxis": {
             "endlinecolor": "#2a3f5f",
             "gridcolor": "white",
             "linecolor": "white",
             "minorgridcolor": "white",
             "startlinecolor": "#2a3f5f"
            },
            "baxis": {
             "endlinecolor": "#2a3f5f",
             "gridcolor": "white",
             "linecolor": "white",
             "minorgridcolor": "white",
             "startlinecolor": "#2a3f5f"
            },
            "type": "carpet"
           }
          ],
          "choropleth": [
           {
            "colorbar": {
             "outlinewidth": 0,
             "ticks": ""
            },
            "type": "choropleth"
           }
          ],
          "contour": [
           {
            "colorbar": {
             "outlinewidth": 0,
             "ticks": ""
            },
            "colorscale": [
             [
              0,
              "#0d0887"
             ],
             [
              0.1111111111111111,
              "#46039f"
             ],
             [
              0.2222222222222222,
              "#7201a8"
             ],
             [
              0.3333333333333333,
              "#9c179e"
             ],
             [
              0.4444444444444444,
              "#bd3786"
             ],
             [
              0.5555555555555556,
              "#d8576b"
             ],
             [
              0.6666666666666666,
              "#ed7953"
             ],
             [
              0.7777777777777778,
              "#fb9f3a"
             ],
             [
              0.8888888888888888,
              "#fdca26"
             ],
             [
              1,
              "#f0f921"
             ]
            ],
            "type": "contour"
           }
          ],
          "contourcarpet": [
           {
            "colorbar": {
             "outlinewidth": 0,
             "ticks": ""
            },
            "type": "contourcarpet"
           }
          ],
          "heatmap": [
           {
            "colorbar": {
             "outlinewidth": 0,
             "ticks": ""
            },
            "colorscale": [
             [
              0,
              "#0d0887"
             ],
             [
              0.1111111111111111,
              "#46039f"
             ],
             [
              0.2222222222222222,
              "#7201a8"
             ],
             [
              0.3333333333333333,
              "#9c179e"
             ],
             [
              0.4444444444444444,
              "#bd3786"
             ],
             [
              0.5555555555555556,
              "#d8576b"
             ],
             [
              0.6666666666666666,
              "#ed7953"
             ],
             [
              0.7777777777777778,
              "#fb9f3a"
             ],
             [
              0.8888888888888888,
              "#fdca26"
             ],
             [
              1,
              "#f0f921"
             ]
            ],
            "type": "heatmap"
           }
          ],
          "heatmapgl": [
           {
            "colorbar": {
             "outlinewidth": 0,
             "ticks": ""
            },
            "colorscale": [
             [
              0,
              "#0d0887"
             ],
             [
              0.1111111111111111,
              "#46039f"
             ],
             [
              0.2222222222222222,
              "#7201a8"
             ],
             [
              0.3333333333333333,
              "#9c179e"
             ],
             [
              0.4444444444444444,
              "#bd3786"
             ],
             [
              0.5555555555555556,
              "#d8576b"
             ],
             [
              0.6666666666666666,
              "#ed7953"
             ],
             [
              0.7777777777777778,
              "#fb9f3a"
             ],
             [
              0.8888888888888888,
              "#fdca26"
             ],
             [
              1,
              "#f0f921"
             ]
            ],
            "type": "heatmapgl"
           }
          ],
          "histogram": [
           {
            "marker": {
             "pattern": {
              "fillmode": "overlay",
              "size": 10,
              "solidity": 0.2
             }
            },
            "type": "histogram"
           }
          ],
          "histogram2d": [
           {
            "colorbar": {
             "outlinewidth": 0,
             "ticks": ""
            },
            "colorscale": [
             [
              0,
              "#0d0887"
             ],
             [
              0.1111111111111111,
              "#46039f"
             ],
             [
              0.2222222222222222,
              "#7201a8"
             ],
             [
              0.3333333333333333,
              "#9c179e"
             ],
             [
              0.4444444444444444,
              "#bd3786"
             ],
             [
              0.5555555555555556,
              "#d8576b"
             ],
             [
              0.6666666666666666,
              "#ed7953"
             ],
             [
              0.7777777777777778,
              "#fb9f3a"
             ],
             [
              0.8888888888888888,
              "#fdca26"
             ],
             [
              1,
              "#f0f921"
             ]
            ],
            "type": "histogram2d"
           }
          ],
          "histogram2dcontour": [
           {
            "colorbar": {
             "outlinewidth": 0,
             "ticks": ""
            },
            "colorscale": [
             [
              0,
              "#0d0887"
             ],
             [
              0.1111111111111111,
              "#46039f"
             ],
             [
              0.2222222222222222,
              "#7201a8"
             ],
             [
              0.3333333333333333,
              "#9c179e"
             ],
             [
              0.4444444444444444,
              "#bd3786"
             ],
             [
              0.5555555555555556,
              "#d8576b"
             ],
             [
              0.6666666666666666,
              "#ed7953"
             ],
             [
              0.7777777777777778,
              "#fb9f3a"
             ],
             [
              0.8888888888888888,
              "#fdca26"
             ],
             [
              1,
              "#f0f921"
             ]
            ],
            "type": "histogram2dcontour"
           }
          ],
          "mesh3d": [
           {
            "colorbar": {
             "outlinewidth": 0,
             "ticks": ""
            },
            "type": "mesh3d"
           }
          ],
          "parcoords": [
           {
            "line": {
             "colorbar": {
              "outlinewidth": 0,
              "ticks": ""
             }
            },
            "type": "parcoords"
           }
          ],
          "pie": [
           {
            "automargin": true,
            "type": "pie"
           }
          ],
          "scatter": [
           {
            "marker": {
             "colorbar": {
              "outlinewidth": 0,
              "ticks": ""
             }
            },
            "type": "scatter"
           }
          ],
          "scatter3d": [
           {
            "line": {
             "colorbar": {
              "outlinewidth": 0,
              "ticks": ""
             }
            },
            "marker": {
             "colorbar": {
              "outlinewidth": 0,
              "ticks": ""
             }
            },
            "type": "scatter3d"
           }
          ],
          "scattercarpet": [
           {
            "marker": {
             "colorbar": {
              "outlinewidth": 0,
              "ticks": ""
             }
            },
            "type": "scattercarpet"
           }
          ],
          "scattergeo": [
           {
            "marker": {
             "colorbar": {
              "outlinewidth": 0,
              "ticks": ""
             }
            },
            "type": "scattergeo"
           }
          ],
          "scattergl": [
           {
            "marker": {
             "colorbar": {
              "outlinewidth": 0,
              "ticks": ""
             }
            },
            "type": "scattergl"
           }
          ],
          "scattermapbox": [
           {
            "marker": {
             "colorbar": {
              "outlinewidth": 0,
              "ticks": ""
             }
            },
            "type": "scattermapbox"
           }
          ],
          "scatterpolar": [
           {
            "marker": {
             "colorbar": {
              "outlinewidth": 0,
              "ticks": ""
             }
            },
            "type": "scatterpolar"
           }
          ],
          "scatterpolargl": [
           {
            "marker": {
             "colorbar": {
              "outlinewidth": 0,
              "ticks": ""
             }
            },
            "type": "scatterpolargl"
           }
          ],
          "scatterternary": [
           {
            "marker": {
             "colorbar": {
              "outlinewidth": 0,
              "ticks": ""
             }
            },
            "type": "scatterternary"
           }
          ],
          "surface": [
           {
            "colorbar": {
             "outlinewidth": 0,
             "ticks": ""
            },
            "colorscale": [
             [
              0,
              "#0d0887"
             ],
             [
              0.1111111111111111,
              "#46039f"
             ],
             [
              0.2222222222222222,
              "#7201a8"
             ],
             [
              0.3333333333333333,
              "#9c179e"
             ],
             [
              0.4444444444444444,
              "#bd3786"
             ],
             [
              0.5555555555555556,
              "#d8576b"
             ],
             [
              0.6666666666666666,
              "#ed7953"
             ],
             [
              0.7777777777777778,
              "#fb9f3a"
             ],
             [
              0.8888888888888888,
              "#fdca26"
             ],
             [
              1,
              "#f0f921"
             ]
            ],
            "type": "surface"
           }
          ],
          "table": [
           {
            "cells": {
             "fill": {
              "color": "#EBF0F8"
             },
             "line": {
              "color": "white"
             }
            },
            "header": {
             "fill": {
              "color": "#C8D4E3"
             },
             "line": {
              "color": "white"
             }
            },
            "type": "table"
           }
          ]
         },
         "layout": {
          "annotationdefaults": {
           "arrowcolor": "#2a3f5f",
           "arrowhead": 0,
           "arrowwidth": 1
          },
          "autotypenumbers": "strict",
          "coloraxis": {
           "colorbar": {
            "outlinewidth": 0,
            "ticks": ""
           }
          },
          "colorscale": {
           "diverging": [
            [
             0,
             "#8e0152"
            ],
            [
             0.1,
             "#c51b7d"
            ],
            [
             0.2,
             "#de77ae"
            ],
            [
             0.3,
             "#f1b6da"
            ],
            [
             0.4,
             "#fde0ef"
            ],
            [
             0.5,
             "#f7f7f7"
            ],
            [
             0.6,
             "#e6f5d0"
            ],
            [
             0.7,
             "#b8e186"
            ],
            [
             0.8,
             "#7fbc41"
            ],
            [
             0.9,
             "#4d9221"
            ],
            [
             1,
             "#276419"
            ]
           ],
           "sequential": [
            [
             0,
             "#0d0887"
            ],
            [
             0.1111111111111111,
             "#46039f"
            ],
            [
             0.2222222222222222,
             "#7201a8"
            ],
            [
             0.3333333333333333,
             "#9c179e"
            ],
            [
             0.4444444444444444,
             "#bd3786"
            ],
            [
             0.5555555555555556,
             "#d8576b"
            ],
            [
             0.6666666666666666,
             "#ed7953"
            ],
            [
             0.7777777777777778,
             "#fb9f3a"
            ],
            [
             0.8888888888888888,
             "#fdca26"
            ],
            [
             1,
             "#f0f921"
            ]
           ],
           "sequentialminus": [
            [
             0,
             "#0d0887"
            ],
            [
             0.1111111111111111,
             "#46039f"
            ],
            [
             0.2222222222222222,
             "#7201a8"
            ],
            [
             0.3333333333333333,
             "#9c179e"
            ],
            [
             0.4444444444444444,
             "#bd3786"
            ],
            [
             0.5555555555555556,
             "#d8576b"
            ],
            [
             0.6666666666666666,
             "#ed7953"
            ],
            [
             0.7777777777777778,
             "#fb9f3a"
            ],
            [
             0.8888888888888888,
             "#fdca26"
            ],
            [
             1,
             "#f0f921"
            ]
           ]
          },
          "colorway": [
           "#636efa",
           "#EF553B",
           "#00cc96",
           "#ab63fa",
           "#FFA15A",
           "#19d3f3",
           "#FF6692",
           "#B6E880",
           "#FF97FF",
           "#FECB52"
          ],
          "font": {
           "color": "#2a3f5f"
          },
          "geo": {
           "bgcolor": "white",
           "lakecolor": "white",
           "landcolor": "#E5ECF6",
           "showlakes": true,
           "showland": true,
           "subunitcolor": "white"
          },
          "hoverlabel": {
           "align": "left"
          },
          "hovermode": "closest",
          "mapbox": {
           "style": "light"
          },
          "paper_bgcolor": "white",
          "plot_bgcolor": "#E5ECF6",
          "polar": {
           "angularaxis": {
            "gridcolor": "white",
            "linecolor": "white",
            "ticks": ""
           },
           "bgcolor": "#E5ECF6",
           "radialaxis": {
            "gridcolor": "white",
            "linecolor": "white",
            "ticks": ""
           }
          },
          "scene": {
           "xaxis": {
            "backgroundcolor": "#E5ECF6",
            "gridcolor": "white",
            "gridwidth": 2,
            "linecolor": "white",
            "showbackground": true,
            "ticks": "",
            "zerolinecolor": "white"
           },
           "yaxis": {
            "backgroundcolor": "#E5ECF6",
            "gridcolor": "white",
            "gridwidth": 2,
            "linecolor": "white",
            "showbackground": true,
            "ticks": "",
            "zerolinecolor": "white"
           },
           "zaxis": {
            "backgroundcolor": "#E5ECF6",
            "gridcolor": "white",
            "gridwidth": 2,
            "linecolor": "white",
            "showbackground": true,
            "ticks": "",
            "zerolinecolor": "white"
           }
          },
          "shapedefaults": {
           "line": {
            "color": "#2a3f5f"
           }
          },
          "ternary": {
           "aaxis": {
            "gridcolor": "white",
            "linecolor": "white",
            "ticks": ""
           },
           "baxis": {
            "gridcolor": "white",
            "linecolor": "white",
            "ticks": ""
           },
           "bgcolor": "#E5ECF6",
           "caxis": {
            "gridcolor": "white",
            "linecolor": "white",
            "ticks": ""
           }
          },
          "title": {
           "x": 0.05
          },
          "xaxis": {
           "automargin": true,
           "gridcolor": "white",
           "linecolor": "white",
           "ticks": "",
           "title": {
            "standoff": 15
           },
           "zerolinecolor": "white",
           "zerolinewidth": 2
          },
          "yaxis": {
           "automargin": true,
           "gridcolor": "white",
           "linecolor": "white",
           "ticks": "",
           "title": {
            "standoff": 15
           },
           "zerolinecolor": "white",
           "zerolinewidth": 2
          }
         }
        },
        "title": {
         "text": "US non Payrolls Release influence on Dow Jones Industrial Average - (INDU)"
        },
        "xaxis": {
         "autorange": true,
         "range": [
          "2021-10-08 12:30:30",
          "2021-10-08 13:30:30"
         ],
         "rangeslider": {
          "autorange": true,
          "range": [
           "2021-10-08 12:30:30",
           "2021-10-08 13:30:30"
          ],
          "yaxis": {
           "_template": null,
           "rangemode": "match"
          }
         },
         "type": "date"
        },
        "yaxis": {
         "autorange": true,
         "range": [
          34659.51910222222,
          34835.69965777778
         ],
         "title": {
          "text": "INDU:IND"
         }
        }
       }
      },
      "image/png": "[encoded data removed]"
     },
     "metadata": {},
     "output_type": "display_data"
    }
   ],
   "source": [
    "\n",
    "df5 = indu_ind_intraday_october[449:509]\n",
    "\n",
    "fig = go.Figure(data=[go.Candlestick(x=df5['Date'],\n",
    "                open=df5['Open'], high=df5['High'],\n",
    "                low=df5['Low'], close=df5['Close'])\n",
    "                      ])\n",
    "\n",
    "fig.update_layout(\n",
    "    title='US non Payrolls Release influence on Dow Jones Industrial Average - (INDU)',\n",
    "    yaxis_title='INDU:IND',\n",
    "    shapes = [dict(\n",
    "        x0='2021-10-08T12:54:00', x1='2021-10-08T12:54:00', y0=0, y1=1, xref='x', yref='paper',\n",
    "        line_width=2)],\n",
    "    annotations=[dict(\n",
    "        x='2021-10-08T12:54:00', y=1.00, xref='x', yref='paper',\n",
    "        showarrow=False, xanchor='left', text='US non Payrolls Release')]\n",
    ")\n",
    "\n",
    "fig.show(renderer='plotly_mimetype')"
   ]
  },
  {
   "cell_type": "code",
   "execution_count": null,
   "id": "0b7273bb-4e3d-42f7-9ef1-48a8a0546f53",
   "metadata": {},
   "outputs": [],
   "source": []
  },
  {
   "cell_type": "markdown",
   "id": "47bf80b0-e049-49dc-ac8d-a4c6282608bd",
   "metadata": {},
   "source": [
    "### S&P 500 Reaction "
   ]
  },
  {
   "cell_type": "code",
   "execution_count": 34,
   "id": "55fe9276-6039-4560-aeb7-b26983ca3a9a",
   "metadata": {},
   "outputs": [],
   "source": [
    "s_p_october = te.getMarketsIntraday(symbols = ['SPX:IND'], initDate='2021-10-08', endDate='2021-10-09', output_type = 'df')"
   ]
  },
  {
   "cell_type": "code",
   "execution_count": 35,
   "id": "ed005171-226d-42be-aae9-252b54a114d2",
   "metadata": {},
   "outputs": [
    {
     "data": {
      "text/html": [
       "<div>\n",
       "<style scoped>\n",
       "    .dataframe tbody tr th:only-of-type {\n",
       "        vertical-align: middle;\n",
       "    }\n",
       "\n",
       "    .dataframe tbody tr th {\n",
       "        vertical-align: top;\n",
       "    }\n",
       "\n",
       "    .dataframe thead th {\n",
       "        text-align: right;\n",
       "    }\n",
       "</style>\n",
       "<table border=\"1\" class=\"dataframe\">\n",
       "  <thead>\n",
       "    <tr style=\"text-align: right;\">\n",
       "      <th></th>\n",
       "      <th>Symbol</th>\n",
       "      <th>Date</th>\n",
       "      <th>Open</th>\n",
       "      <th>High</th>\n",
       "      <th>Low</th>\n",
       "      <th>Close</th>\n",
       "    </tr>\n",
       "  </thead>\n",
       "  <tbody>\n",
       "    <tr>\n",
       "      <th>503</th>\n",
       "      <td>SPX:IND</td>\n",
       "      <td>2021-10-08T12:30:00</td>\n",
       "      <td>4406.72998</td>\n",
       "      <td>4408.74023</td>\n",
       "      <td>4395.20996</td>\n",
       "      <td>4402.72998</td>\n",
       "    </tr>\n",
       "  </tbody>\n",
       "</table>\n",
       "</div>"
      ],
      "text/plain": [
       "      Symbol                 Date        Open        High         Low  \\\n",
       "503  SPX:IND  2021-10-08T12:30:00  4406.72998  4408.74023  4395.20996   \n",
       "\n",
       "          Close  \n",
       "503  4402.72998  "
      ]
     },
     "execution_count": 35,
     "metadata": {},
     "output_type": "execute_result"
    }
   ],
   "source": [
    "s_p_october.query('Date == \"2021-10-08T12:30:00\"')"
   ]
  },
  {
   "cell_type": "code",
   "execution_count": 36,
   "id": "c0eaa872-20fe-4f90-af4b-5033d19dd6c6",
   "metadata": {},
   "outputs": [
    {
     "data": {
      "text/html": [
       "<div>\n",
       "<style scoped>\n",
       "    .dataframe tbody tr th:only-of-type {\n",
       "        vertical-align: middle;\n",
       "    }\n",
       "\n",
       "    .dataframe tbody tr th {\n",
       "        vertical-align: top;\n",
       "    }\n",
       "\n",
       "    .dataframe thead th {\n",
       "        text-align: right;\n",
       "    }\n",
       "</style>\n",
       "<table border=\"1\" class=\"dataframe\">\n",
       "  <thead>\n",
       "    <tr style=\"text-align: right;\">\n",
       "      <th></th>\n",
       "      <th>Symbol</th>\n",
       "      <th>Date</th>\n",
       "      <th>Open</th>\n",
       "      <th>High</th>\n",
       "      <th>Low</th>\n",
       "      <th>Close</th>\n",
       "    </tr>\n",
       "  </thead>\n",
       "  <tbody>\n",
       "    <tr>\n",
       "      <th>444</th>\n",
       "      <td>SPX:IND</td>\n",
       "      <td>2021-10-08T13:30:00</td>\n",
       "      <td>4408.49023</td>\n",
       "      <td>4411.49023</td>\n",
       "      <td>4404.72998</td>\n",
       "      <td>4404.97998</td>\n",
       "    </tr>\n",
       "  </tbody>\n",
       "</table>\n",
       "</div>"
      ],
      "text/plain": [
       "      Symbol                 Date        Open        High         Low  \\\n",
       "444  SPX:IND  2021-10-08T13:30:00  4408.49023  4411.49023  4404.72998   \n",
       "\n",
       "          Close  \n",
       "444  4404.97998  "
      ]
     },
     "execution_count": 36,
     "metadata": {},
     "output_type": "execute_result"
    }
   ],
   "source": [
    "s_p_october.query('Date == \"2021-10-08T13:30:00\"')"
   ]
  },
  {
   "cell_type": "code",
   "execution_count": 37,
   "id": "4441e769-c78c-4673-aa34-6c593cd7796d",
   "metadata": {},
   "outputs": [
    {
     "data": {
      "application/vnd.plotly.v1+json": {
       "config": {
        "plotlyServerURL": "https://plot.ly"
       },
       "data": [
        {
         "close": [
          4404.97998,
          4408.24023,
          4408.24023,
          4409.74023,
          4409.24023,
          4409.24023,
          4409.74023,
          4410.49023,
          4408.99023,
          4407.74023,
          4408.24023,
          4408.49023,
          4407.74023,
          4409.24023,
          4409.74023,
          4410.99023,
          4410.49023,
          4412.75,
          4411.24023,
          4408.99023,
          4410.49023,
          4410.24023,
          4408.49023,
          4410.99023,
          4413.75,
          4411.24023,
          4412.25,
          4410.74023,
          4410.24023,
          4409.99023,
          4410.74023,
          4409.74023,
          4408.74023,
          4408.24023,
          4409.99023,
          4406.72998,
          4402.72998,
          4401.47021,
          4402.22998,
          4401.22021,
          4399.47021,
          4396.70996,
          4399.97021,
          4401.72021,
          4402.47998,
          4403.97998,
          4404.22998,
          4407.99023,
          4408.99023,
          4408.99023,
          4414.25,
          4411.75,
          4408.24023,
          4403.22998,
          4400.72021,
          4398.47021,
          4394.20996,
          4395.70996,
          4401.22021
         ],
         "high": [
          4411.49023,
          4409.99023,
          4409.99023,
          4410.24023,
          4410.49023,
          4410.49023,
          4410.24023,
          4410.74023,
          4409.49023,
          4408.49023,
          4408.74023,
          4408.49023,
          4410.24023,
          4410.74023,
          4412,
          4411.49023,
          4412.5,
          4413.25,
          4411.49023,
          4410.49023,
          4412,
          4410.49023,
          4410.74023,
          4413.75,
          4414.75,
          4413.25,
          4412.25,
          4410.99023,
          4410.99023,
          4411.24023,
          4411.75,
          4409.99023,
          4410.99023,
          4410.24023,
          4411.75,
          4406.72998,
          4402.97998,
          4402.72998,
          4402.47998,
          4401.22021,
          4399.97021,
          4397.47021,
          4401.97021,
          4403.97998,
          4405.97998,
          4405.72998,
          4408.74023,
          4409.74023,
          4412,
          4414.75,
          4417.00977,
          4414,
          4408.74023,
          4403.72998,
          4401.47021,
          4399.22021,
          4396.45996,
          4401.72021,
          4404.97998
         ],
         "low": [
          4404.72998,
          4408.24023,
          4407.99023,
          4409.49023,
          4409.24023,
          4408.99023,
          4409.49023,
          4408.74023,
          4407.49023,
          4407.74023,
          4407.24023,
          4406.99023,
          4407.74023,
          4409.24023,
          4409.74023,
          4409.74023,
          4410.49023,
          4410.99023,
          4408.99023,
          4408.99023,
          4410.24023,
          4408.49023,
          4408.24023,
          4410.99023,
          4411.24023,
          4410.49023,
          4410.49023,
          4409.49023,
          4409.49023,
          4408.24023,
          4408.74023,
          4407.99023,
          4407.24023,
          4407.99023,
          4406.22998,
          4402.22998,
          4400.22021,
          4401.47021,
          4400.72021,
          4397.97021,
          4396.95996,
          4394.95996,
          4399.47021,
          4401.47021,
          4401.97021,
          4403.22998,
          4402.72998,
          4406.22998,
          4408.49023,
          4408.99023,
          4411.75,
          4407.74023,
          4403.47998,
          4399.47021,
          4397.72021,
          4393.70996,
          4391.9502,
          4395.20996,
          4401.22021
         ],
         "open": [
          4408.49023,
          4408.49023,
          4409.99023,
          4409.49023,
          4409.49023,
          4409.99023,
          4410.24023,
          4408.74023,
          4407.99023,
          4408.49023,
          4408.74023,
          4407.49023,
          4408.99023,
          4409.99023,
          4411.24023,
          4410.74023,
          4412.5,
          4410.99023,
          4409.49023,
          4410.24023,
          4410.49023,
          4408.74023,
          4410.74023,
          4413.5,
          4411.49023,
          4412,
          4410.99023,
          4409.99023,
          4410.24023,
          4410.49023,
          4409.99023,
          4408.99023,
          4408.49023,
          4409.74023,
          4406.47998,
          4402.47998,
          4401.72021,
          4402.47998,
          4400.97021,
          4398.97021,
          4396.95996,
          4395.45996,
          4401.47021,
          4402.72998,
          4404.22998,
          4403.97998,
          4408.24023,
          4409.24023,
          4408.74023,
          4414,
          4412,
          4408.49023,
          4403.47998,
          4400.22021,
          4398.72021,
          4393.70996,
          4395.45996,
          4400.97021,
          4402.47998
         ],
         "type": "candlestick",
         "x": [
          "2021-10-08T13:30:00",
          "2021-10-08T13:29:00",
          "2021-10-08T13:28:00",
          "2021-10-08T13:27:00",
          "2021-10-08T13:26:00",
          "2021-10-08T13:25:00",
          "2021-10-08T13:24:00",
          "2021-10-08T13:23:00",
          "2021-10-08T13:22:00",
          "2021-10-08T13:21:00",
          "2021-10-08T13:20:00",
          "2021-10-08T13:19:00",
          "2021-10-08T13:18:00",
          "2021-10-08T13:17:00",
          "2021-10-08T13:16:00",
          "2021-10-08T13:15:00",
          "2021-10-08T13:14:00",
          "2021-10-08T13:13:00",
          "2021-10-08T13:12:00",
          "2021-10-08T13:11:00",
          "2021-10-08T13:10:00",
          "2021-10-08T13:09:00",
          "2021-10-08T13:08:00",
          "2021-10-08T13:07:00",
          "2021-10-08T13:06:00",
          "2021-10-08T13:05:00",
          "2021-10-08T13:04:00",
          "2021-10-08T13:03:00",
          "2021-10-08T13:02:00",
          "2021-10-08T13:01:00",
          "2021-10-08T13:00:00",
          "2021-10-08T12:59:00",
          "2021-10-08T12:58:00",
          "2021-10-08T12:57:00",
          "2021-10-08T12:56:00",
          "2021-10-08T12:55:00",
          "2021-10-08T12:54:00",
          "2021-10-08T12:53:00",
          "2021-10-08T12:52:00",
          "2021-10-08T12:51:00",
          "2021-10-08T12:50:00",
          "2021-10-08T12:49:00",
          "2021-10-08T12:47:00",
          "2021-10-08T12:46:00",
          "2021-10-08T12:45:00",
          "2021-10-08T12:44:00",
          "2021-10-08T12:43:00",
          "2021-10-08T12:42:00",
          "2021-10-08T12:41:00",
          "2021-10-08T12:40:00",
          "2021-10-08T12:39:00",
          "2021-10-08T12:38:00",
          "2021-10-08T12:37:00",
          "2021-10-08T12:36:00",
          "2021-10-08T12:35:00",
          "2021-10-08T12:34:00",
          "2021-10-08T12:33:00",
          "2021-10-08T12:32:00",
          "2021-10-08T12:31:00"
         ]
        }
       ],
       "layout": {
        "annotations": [
         {
          "showarrow": false,
          "text": "US non Payrolls Release",
          "x": "2021-10-08T12:54:00",
          "xanchor": "left",
          "xref": "x",
          "y": 1,
          "yref": "paper"
         }
        ],
        "autosize": true,
        "shapes": [
         {
          "line": {
           "width": 2
          },
          "x0": "2021-10-08T12:54:00",
          "x1": "2021-10-08T12:54:00",
          "xref": "x",
          "y0": 0,
          "y1": 1,
          "yref": "paper"
         }
        ],
        "template": {
         "data": {
          "bar": [
           {
            "error_x": {
             "color": "#2a3f5f"
            },
            "error_y": {
             "color": "#2a3f5f"
            },
            "marker": {
             "line": {
              "color": "#E5ECF6",
              "width": 0.5
             },
             "pattern": {
              "fillmode": "overlay",
              "size": 10,
              "solidity": 0.2
             }
            },
            "type": "bar"
           }
          ],
          "barpolar": [
           {
            "marker": {
             "line": {
              "color": "#E5ECF6",
              "width": 0.5
             },
             "pattern": {
              "fillmode": "overlay",
              "size": 10,
              "solidity": 0.2
             }
            },
            "type": "barpolar"
           }
          ],
          "carpet": [
           {
            "aaxis": {
             "endlinecolor": "#2a3f5f",
             "gridcolor": "white",
             "linecolor": "white",
             "minorgridcolor": "white",
             "startlinecolor": "#2a3f5f"
            },
            "baxis": {
             "endlinecolor": "#2a3f5f",
             "gridcolor": "white",
             "linecolor": "white",
             "minorgridcolor": "white",
             "startlinecolor": "#2a3f5f"
            },
            "type": "carpet"
           }
          ],
          "choropleth": [
           {
            "colorbar": {
             "outlinewidth": 0,
             "ticks": ""
            },
            "type": "choropleth"
           }
          ],
          "contour": [
           {
            "colorbar": {
             "outlinewidth": 0,
             "ticks": ""
            },
            "colorscale": [
             [
              0,
              "#0d0887"
             ],
             [
              0.1111111111111111,
              "#46039f"
             ],
             [
              0.2222222222222222,
              "#7201a8"
             ],
             [
              0.3333333333333333,
              "#9c179e"
             ],
             [
              0.4444444444444444,
              "#bd3786"
             ],
             [
              0.5555555555555556,
              "#d8576b"
             ],
             [
              0.6666666666666666,
              "#ed7953"
             ],
             [
              0.7777777777777778,
              "#fb9f3a"
             ],
             [
              0.8888888888888888,
              "#fdca26"
             ],
             [
              1,
              "#f0f921"
             ]
            ],
            "type": "contour"
           }
          ],
          "contourcarpet": [
           {
            "colorbar": {
             "outlinewidth": 0,
             "ticks": ""
            },
            "type": "contourcarpet"
           }
          ],
          "heatmap": [
           {
            "colorbar": {
             "outlinewidth": 0,
             "ticks": ""
            },
            "colorscale": [
             [
              0,
              "#0d0887"
             ],
             [
              0.1111111111111111,
              "#46039f"
             ],
             [
              0.2222222222222222,
              "#7201a8"
             ],
             [
              0.3333333333333333,
              "#9c179e"
             ],
             [
              0.4444444444444444,
              "#bd3786"
             ],
             [
              0.5555555555555556,
              "#d8576b"
             ],
             [
              0.6666666666666666,
              "#ed7953"
             ],
             [
              0.7777777777777778,
              "#fb9f3a"
             ],
             [
              0.8888888888888888,
              "#fdca26"
             ],
             [
              1,
              "#f0f921"
             ]
            ],
            "type": "heatmap"
           }
          ],
          "heatmapgl": [
           {
            "colorbar": {
             "outlinewidth": 0,
             "ticks": ""
            },
            "colorscale": [
             [
              0,
              "#0d0887"
             ],
             [
              0.1111111111111111,
              "#46039f"
             ],
             [
              0.2222222222222222,
              "#7201a8"
             ],
             [
              0.3333333333333333,
              "#9c179e"
             ],
             [
              0.4444444444444444,
              "#bd3786"
             ],
             [
              0.5555555555555556,
              "#d8576b"
             ],
             [
              0.6666666666666666,
              "#ed7953"
             ],
             [
              0.7777777777777778,
              "#fb9f3a"
             ],
             [
              0.8888888888888888,
              "#fdca26"
             ],
             [
              1,
              "#f0f921"
             ]
            ],
            "type": "heatmapgl"
           }
          ],
          "histogram": [
           {
            "marker": {
             "pattern": {
              "fillmode": "overlay",
              "size": 10,
              "solidity": 0.2
             }
            },
            "type": "histogram"
           }
          ],
          "histogram2d": [
           {
            "colorbar": {
             "outlinewidth": 0,
             "ticks": ""
            },
            "colorscale": [
             [
              0,
              "#0d0887"
             ],
             [
              0.1111111111111111,
              "#46039f"
             ],
             [
              0.2222222222222222,
              "#7201a8"
             ],
             [
              0.3333333333333333,
              "#9c179e"
             ],
             [
              0.4444444444444444,
              "#bd3786"
             ],
             [
              0.5555555555555556,
              "#d8576b"
             ],
             [
              0.6666666666666666,
              "#ed7953"
             ],
             [
              0.7777777777777778,
              "#fb9f3a"
             ],
             [
              0.8888888888888888,
              "#fdca26"
             ],
             [
              1,
              "#f0f921"
             ]
            ],
            "type": "histogram2d"
           }
          ],
          "histogram2dcontour": [
           {
            "colorbar": {
             "outlinewidth": 0,
             "ticks": ""
            },
            "colorscale": [
             [
              0,
              "#0d0887"
             ],
             [
              0.1111111111111111,
              "#46039f"
             ],
             [
              0.2222222222222222,
              "#7201a8"
             ],
             [
              0.3333333333333333,
              "#9c179e"
             ],
             [
              0.4444444444444444,
              "#bd3786"
             ],
             [
              0.5555555555555556,
              "#d8576b"
             ],
             [
              0.6666666666666666,
              "#ed7953"
             ],
             [
              0.7777777777777778,
              "#fb9f3a"
             ],
             [
              0.8888888888888888,
              "#fdca26"
             ],
             [
              1,
              "#f0f921"
             ]
            ],
            "type": "histogram2dcontour"
           }
          ],
          "mesh3d": [
           {
            "colorbar": {
             "outlinewidth": 0,
             "ticks": ""
            },
            "type": "mesh3d"
           }
          ],
          "parcoords": [
           {
            "line": {
             "colorbar": {
              "outlinewidth": 0,
              "ticks": ""
             }
            },
            "type": "parcoords"
           }
          ],
          "pie": [
           {
            "automargin": true,
            "type": "pie"
           }
          ],
          "scatter": [
           {
            "marker": {
             "colorbar": {
              "outlinewidth": 0,
              "ticks": ""
             }
            },
            "type": "scatter"
           }
          ],
          "scatter3d": [
           {
            "line": {
             "colorbar": {
              "outlinewidth": 0,
              "ticks": ""
             }
            },
            "marker": {
             "colorbar": {
              "outlinewidth": 0,
              "ticks": ""
             }
            },
            "type": "scatter3d"
           }
          ],
          "scattercarpet": [
           {
            "marker": {
             "colorbar": {
              "outlinewidth": 0,
              "ticks": ""
             }
            },
            "type": "scattercarpet"
           }
          ],
          "scattergeo": [
           {
            "marker": {
             "colorbar": {
              "outlinewidth": 0,
              "ticks": ""
             }
            },
            "type": "scattergeo"
           }
          ],
          "scattergl": [
           {
            "marker": {
             "colorbar": {
              "outlinewidth": 0,
              "ticks": ""
             }
            },
            "type": "scattergl"
           }
          ],
          "scattermapbox": [
           {
            "marker": {
             "colorbar": {
              "outlinewidth": 0,
              "ticks": ""
             }
            },
            "type": "scattermapbox"
           }
          ],
          "scatterpolar": [
           {
            "marker": {
             "colorbar": {
              "outlinewidth": 0,
              "ticks": ""
             }
            },
            "type": "scatterpolar"
           }
          ],
          "scatterpolargl": [
           {
            "marker": {
             "colorbar": {
              "outlinewidth": 0,
              "ticks": ""
             }
            },
            "type": "scatterpolargl"
           }
          ],
          "scatterternary": [
           {
            "marker": {
             "colorbar": {
              "outlinewidth": 0,
              "ticks": ""
             }
            },
            "type": "scatterternary"
           }
          ],
          "surface": [
           {
            "colorbar": {
             "outlinewidth": 0,
             "ticks": ""
            },
            "colorscale": [
             [
              0,
              "#0d0887"
             ],
             [
              0.1111111111111111,
              "#46039f"
             ],
             [
              0.2222222222222222,
              "#7201a8"
             ],
             [
              0.3333333333333333,
              "#9c179e"
             ],
             [
              0.4444444444444444,
              "#bd3786"
             ],
             [
              0.5555555555555556,
              "#d8576b"
             ],
             [
              0.6666666666666666,
              "#ed7953"
             ],
             [
              0.7777777777777778,
              "#fb9f3a"
             ],
             [
              0.8888888888888888,
              "#fdca26"
             ],
             [
              1,
              "#f0f921"
             ]
            ],
            "type": "surface"
           }
          ],
          "table": [
           {
            "cells": {
             "fill": {
              "color": "#EBF0F8"
             },
             "line": {
              "color": "white"
             }
            },
            "header": {
             "fill": {
              "color": "#C8D4E3"
             },
             "line": {
              "color": "white"
             }
            },
            "type": "table"
           }
          ]
         },
         "layout": {
          "annotationdefaults": {
           "arrowcolor": "#2a3f5f",
           "arrowhead": 0,
           "arrowwidth": 1
          },
          "autotypenumbers": "strict",
          "coloraxis": {
           "colorbar": {
            "outlinewidth": 0,
            "ticks": ""
           }
          },
          "colorscale": {
           "diverging": [
            [
             0,
             "#8e0152"
            ],
            [
             0.1,
             "#c51b7d"
            ],
            [
             0.2,
             "#de77ae"
            ],
            [
             0.3,
             "#f1b6da"
            ],
            [
             0.4,
             "#fde0ef"
            ],
            [
             0.5,
             "#f7f7f7"
            ],
            [
             0.6,
             "#e6f5d0"
            ],
            [
             0.7,
             "#b8e186"
            ],
            [
             0.8,
             "#7fbc41"
            ],
            [
             0.9,
             "#4d9221"
            ],
            [
             1,
             "#276419"
            ]
           ],
           "sequential": [
            [
             0,
             "#0d0887"
            ],
            [
             0.1111111111111111,
             "#46039f"
            ],
            [
             0.2222222222222222,
             "#7201a8"
            ],
            [
             0.3333333333333333,
             "#9c179e"
            ],
            [
             0.4444444444444444,
             "#bd3786"
            ],
            [
             0.5555555555555556,
             "#d8576b"
            ],
            [
             0.6666666666666666,
             "#ed7953"
            ],
            [
             0.7777777777777778,
             "#fb9f3a"
            ],
            [
             0.8888888888888888,
             "#fdca26"
            ],
            [
             1,
             "#f0f921"
            ]
           ],
           "sequentialminus": [
            [
             0,
             "#0d0887"
            ],
            [
             0.1111111111111111,
             "#46039f"
            ],
            [
             0.2222222222222222,
             "#7201a8"
            ],
            [
             0.3333333333333333,
             "#9c179e"
            ],
            [
             0.4444444444444444,
             "#bd3786"
            ],
            [
             0.5555555555555556,
             "#d8576b"
            ],
            [
             0.6666666666666666,
             "#ed7953"
            ],
            [
             0.7777777777777778,
             "#fb9f3a"
            ],
            [
             0.8888888888888888,
             "#fdca26"
            ],
            [
             1,
             "#f0f921"
            ]
           ]
          },
          "colorway": [
           "#636efa",
           "#EF553B",
           "#00cc96",
           "#ab63fa",
           "#FFA15A",
           "#19d3f3",
           "#FF6692",
           "#B6E880",
           "#FF97FF",
           "#FECB52"
          ],
          "font": {
           "color": "#2a3f5f"
          },
          "geo": {
           "bgcolor": "white",
           "lakecolor": "white",
           "landcolor": "#E5ECF6",
           "showlakes": true,
           "showland": true,
           "subunitcolor": "white"
          },
          "hoverlabel": {
           "align": "left"
          },
          "hovermode": "closest",
          "mapbox": {
           "style": "light"
          },
          "paper_bgcolor": "white",
          "plot_bgcolor": "#E5ECF6",
          "polar": {
           "angularaxis": {
            "gridcolor": "white",
            "linecolor": "white",
            "ticks": ""
           },
           "bgcolor": "#E5ECF6",
           "radialaxis": {
            "gridcolor": "white",
            "linecolor": "white",
            "ticks": ""
           }
          },
          "scene": {
           "xaxis": {
            "backgroundcolor": "#E5ECF6",
            "gridcolor": "white",
            "gridwidth": 2,
            "linecolor": "white",
            "showbackground": true,
            "ticks": "",
            "zerolinecolor": "white"
           },
           "yaxis": {
            "backgroundcolor": "#E5ECF6",
            "gridcolor": "white",
            "gridwidth": 2,
            "linecolor": "white",
            "showbackground": true,
            "ticks": "",
            "zerolinecolor": "white"
           },
           "zaxis": {
            "backgroundcolor": "#E5ECF6",
            "gridcolor": "white",
            "gridwidth": 2,
            "linecolor": "white",
            "showbackground": true,
            "ticks": "",
            "zerolinecolor": "white"
           }
          },
          "shapedefaults": {
           "line": {
            "color": "#2a3f5f"
           }
          },
          "ternary": {
           "aaxis": {
            "gridcolor": "white",
            "linecolor": "white",
            "ticks": ""
           },
           "baxis": {
            "gridcolor": "white",
            "linecolor": "white",
            "ticks": ""
           },
           "bgcolor": "#E5ECF6",
           "caxis": {
            "gridcolor": "white",
            "linecolor": "white",
            "ticks": ""
           }
          },
          "title": {
           "x": 0.05
          },
          "xaxis": {
           "automargin": true,
           "gridcolor": "white",
           "linecolor": "white",
           "ticks": "",
           "title": {
            "standoff": 15
           },
           "zerolinecolor": "white",
           "zerolinewidth": 2
          },
          "yaxis": {
           "automargin": true,
           "gridcolor": "white",
           "linecolor": "white",
           "ticks": "",
           "title": {
            "standoff": 15
           },
           "zerolinecolor": "white",
           "zerolinewidth": 2
          }
         }
        },
        "title": {
         "text": "US non Payrolls Release influence on S&P 500"
        },
        "xaxis": {
         "autorange": true,
         "range": [
          "2021-10-08 12:30:30",
          "2021-10-08 13:30:30"
         ],
         "rangeslider": {
          "autorange": true,
          "range": [
           "2021-10-08 12:30:30",
           "2021-10-08 13:30:30"
          ],
          "yaxis": {
           "_template": null,
           "rangemode": "match"
          }
         },
         "type": "date"
        },
        "yaxis": {
         "autorange": true,
         "range": [
          4390.558001666667,
          4418.401968333333
         ],
         "title": {
          "text": "SPX:IND"
         }
        }
       }
      },
      "image/png": "[encoded data removed]"
     },
     "metadata": {},
     "output_type": "display_data"
    }
   ],
   "source": [
    "\n",
    "df6 = s_p_october[444:503]\n",
    "\n",
    "fig = go.Figure(data=[go.Candlestick(x=df6['Date'],\n",
    "                open=df6['Open'], high=df6['High'],\n",
    "                low=df6['Low'], close=df6['Close'])\n",
    "                      ])\n",
    "\n",
    "fig.update_layout(\n",
    "    title='US non Payrolls Release influence on S&P 500',\n",
    "    yaxis_title='SPX:IND',\n",
    "    shapes = [dict(\n",
    "        x0='2021-10-08T12:54:00', x1='2021-10-08T12:54:00', y0=0, y1=1, xref='x', yref='paper',\n",
    "        line_width=2)],\n",
    "    annotations=[dict(\n",
    "        x='2021-10-08T12:54:00', y=1.00, xref='x', yref='paper',\n",
    "        showarrow=False, xanchor='left', text='US non Payrolls Release')]\n",
    ")\n",
    "\n",
    "fig.show(renderer='plotly_mimetype')"
   ]
  },
  {
   "cell_type": "code",
   "execution_count": null,
   "id": "58110821-2a84-4716-8fbd-5fa2ce24ba28",
   "metadata": {},
   "outputs": [],
   "source": []
  },
  {
   "cell_type": "markdown",
   "id": "75c0e5ea-20e7-4c37-8bc5-ba0f504d196e",
   "metadata": {},
   "source": [
    "## Reactions at November 2021 "
   ]
  },
  {
   "cell_type": "markdown",
   "id": "6d981c21-8fde-4980-a16a-820ba89df791",
   "metadata": {},
   "source": [
    "### Euro USD Reaction"
   ]
  },
  {
   "cell_type": "code",
   "execution_count": 38,
   "id": "e8626c22-2a3f-4e8f-b395-484714678898",
   "metadata": {},
   "outputs": [],
   "source": [
    "eur_usd_intraday_november = te.getMarketsIntraday(symbols = ['eurusd:cur'], initDate='2021-11-05', endDate='2021-11-06', output_type = 'df')"
   ]
  },
  {
   "cell_type": "code",
   "execution_count": 39,
   "id": "b0450d20-c9db-4202-8c83-8144f8edff4c",
   "metadata": {},
   "outputs": [
    {
     "data": {
      "text/html": [
       "<div>\n",
       "<style scoped>\n",
       "    .dataframe tbody tr th:only-of-type {\n",
       "        vertical-align: middle;\n",
       "    }\n",
       "\n",
       "    .dataframe tbody tr th {\n",
       "        vertical-align: top;\n",
       "    }\n",
       "\n",
       "    .dataframe thead th {\n",
       "        text-align: right;\n",
       "    }\n",
       "</style>\n",
       "<table border=\"1\" class=\"dataframe\">\n",
       "  <thead>\n",
       "    <tr style=\"text-align: right;\">\n",
       "      <th></th>\n",
       "      <th>Symbol</th>\n",
       "      <th>Date</th>\n",
       "      <th>Open</th>\n",
       "      <th>High</th>\n",
       "      <th>Low</th>\n",
       "      <th>Close</th>\n",
       "    </tr>\n",
       "  </thead>\n",
       "  <tbody>\n",
       "    <tr>\n",
       "      <th>526</th>\n",
       "      <td>EURUSD:CUR</td>\n",
       "      <td>2021-11-05T12:00:00</td>\n",
       "      <td>1.15336</td>\n",
       "      <td>1.15339</td>\n",
       "      <td>1.15317</td>\n",
       "      <td>1.15323</td>\n",
       "    </tr>\n",
       "  </tbody>\n",
       "</table>\n",
       "</div>"
      ],
      "text/plain": [
       "         Symbol                 Date     Open     High      Low    Close\n",
       "526  EURUSD:CUR  2021-11-05T12:00:00  1.15336  1.15339  1.15317  1.15323"
      ]
     },
     "execution_count": 39,
     "metadata": {},
     "output_type": "execute_result"
    }
   ],
   "source": [
    "eur_usd_intraday_november.query('Date == \"2021-11-05T12:00:00\"')"
   ]
  },
  {
   "cell_type": "code",
   "execution_count": 40,
   "id": "dd679adb-fc5e-4b99-ae50-839d4a1d6383",
   "metadata": {},
   "outputs": [
    {
     "data": {
      "text/html": [
       "<div>\n",
       "<style scoped>\n",
       "    .dataframe tbody tr th:only-of-type {\n",
       "        vertical-align: middle;\n",
       "    }\n",
       "\n",
       "    .dataframe tbody tr th {\n",
       "        vertical-align: top;\n",
       "    }\n",
       "\n",
       "    .dataframe thead th {\n",
       "        text-align: right;\n",
       "    }\n",
       "</style>\n",
       "<table border=\"1\" class=\"dataframe\">\n",
       "  <thead>\n",
       "    <tr style=\"text-align: right;\">\n",
       "      <th></th>\n",
       "      <th>Symbol</th>\n",
       "      <th>Date</th>\n",
       "      <th>Open</th>\n",
       "      <th>High</th>\n",
       "      <th>Low</th>\n",
       "      <th>Close</th>\n",
       "    </tr>\n",
       "  </thead>\n",
       "  <tbody>\n",
       "    <tr>\n",
       "      <th>466</th>\n",
       "      <td>EURUSD:CUR</td>\n",
       "      <td>2021-11-05T13:00:00</td>\n",
       "      <td>1.15142</td>\n",
       "      <td>1.15149</td>\n",
       "      <td>1.15134</td>\n",
       "      <td>1.15135</td>\n",
       "    </tr>\n",
       "  </tbody>\n",
       "</table>\n",
       "</div>"
      ],
      "text/plain": [
       "         Symbol                 Date     Open     High      Low    Close\n",
       "466  EURUSD:CUR  2021-11-05T13:00:00  1.15142  1.15149  1.15134  1.15135"
      ]
     },
     "execution_count": 40,
     "metadata": {},
     "output_type": "execute_result"
    }
   ],
   "source": [
    "eur_usd_intraday_november.query('Date == \"2021-11-05T13:00:00\"')"
   ]
  },
  {
   "cell_type": "code",
   "execution_count": 41,
   "id": "3bf3286d-0b5e-43fd-bda6-a9f497d55d89",
   "metadata": {},
   "outputs": [
    {
     "data": {
      "application/vnd.plotly.v1+json": {
       "config": {
        "plotlyServerURL": "https://plot.ly"
       },
       "data": [
        {
         "close": [
          1.15135,
          1.15146,
          1.1516,
          1.15215,
          1.1526,
          1.15255,
          1.15262,
          1.15272,
          1.1526,
          1.15263,
          1.15289,
          1.15287,
          1.15307,
          1.15307,
          1.15259,
          1.15232,
          1.15245,
          1.15237,
          1.15295,
          1.15301,
          1.15287,
          1.15303,
          1.15326,
          1.15339,
          1.15293,
          1.15275,
          1.15219,
          1.15273,
          1.15229,
          1.15234,
          1.15204,
          1.15383,
          1.15372,
          1.15387,
          1.15391,
          1.15381,
          1.1539,
          1.15376,
          1.15377,
          1.15369,
          1.15378,
          1.15364,
          1.15356,
          1.15376,
          1.15348,
          1.15343,
          1.15339,
          1.15335,
          1.1533,
          1.15328,
          1.15333,
          1.1533,
          1.1533,
          1.15338,
          1.15337,
          1.15339,
          1.15339,
          1.15342,
          1.15342,
          1.15329
         ],
         "high": [
          1.15149,
          1.15181,
          1.15214,
          1.1526,
          1.15284,
          1.15269,
          1.15285,
          1.1528,
          1.15267,
          1.1529,
          1.1529,
          1.15306,
          1.15315,
          1.15307,
          1.1526,
          1.15253,
          1.1526,
          1.15294,
          1.15311,
          1.15301,
          1.15304,
          1.15356,
          1.15342,
          1.15353,
          1.15295,
          1.15276,
          1.15281,
          1.15276,
          1.15234,
          1.15239,
          1.15381,
          1.154,
          1.15388,
          1.15394,
          1.15395,
          1.15397,
          1.15394,
          1.1538,
          1.1538,
          1.15388,
          1.15378,
          1.15368,
          1.15374,
          1.15377,
          1.15351,
          1.15348,
          1.15348,
          1.15337,
          1.15334,
          1.15332,
          1.15333,
          1.15333,
          1.15339,
          1.15345,
          1.15343,
          1.15341,
          1.15343,
          1.15343,
          1.15343,
          1.15333
         ],
         "low": [
          1.15134,
          1.15145,
          1.15152,
          1.15215,
          1.15251,
          1.1525,
          1.15262,
          1.15256,
          1.15254,
          1.15244,
          1.15239,
          1.15265,
          1.15289,
          1.1526,
          1.15227,
          1.15221,
          1.1522,
          1.15222,
          1.15258,
          1.15284,
          1.15259,
          1.15295,
          1.15297,
          1.15292,
          1.15257,
          1.15224,
          1.15189,
          1.15198,
          1.1517,
          1.15154,
          1.15204,
          1.1537,
          1.15372,
          1.15373,
          1.1538,
          1.15379,
          1.15363,
          1.15371,
          1.15369,
          1.15369,
          1.15357,
          1.15354,
          1.15353,
          1.1535,
          1.15337,
          1.15341,
          1.15337,
          1.15325,
          1.15322,
          1.15325,
          1.15321,
          1.15327,
          1.1533,
          1.15335,
          1.15335,
          1.15332,
          1.1533,
          1.15332,
          1.15329,
          1.15324
         ],
         "open": [
          1.15142,
          1.15158,
          1.15214,
          1.15258,
          1.15256,
          1.1526,
          1.15273,
          1.15263,
          1.1526,
          1.1529,
          1.15286,
          1.15306,
          1.15308,
          1.1526,
          1.15231,
          1.15244,
          1.15236,
          1.15294,
          1.15311,
          1.15286,
          1.15304,
          1.15329,
          1.15336,
          1.15292,
          1.15272,
          1.15224,
          1.15274,
          1.15227,
          1.1523,
          1.15202,
          1.15381,
          1.15371,
          1.15386,
          1.15392,
          1.1538,
          1.15391,
          1.15374,
          1.15376,
          1.1537,
          1.1538,
          1.15359,
          1.15357,
          1.15374,
          1.1535,
          1.15342,
          1.15341,
          1.15337,
          1.15332,
          1.15327,
          1.15332,
          1.15329,
          1.15328,
          1.15339,
          1.15335,
          1.15337,
          1.15341,
          1.15343,
          1.15343,
          1.1533,
          1.15324
         ],
         "type": "candlestick",
         "x": [
          "2021-11-05T13:00:00",
          "2021-11-05T12:59:00",
          "2021-11-05T12:58:00",
          "2021-11-05T12:57:00",
          "2021-11-05T12:56:00",
          "2021-11-05T12:55:00",
          "2021-11-05T12:54:00",
          "2021-11-05T12:53:00",
          "2021-11-05T12:52:00",
          "2021-11-05T12:51:00",
          "2021-11-05T12:50:00",
          "2021-11-05T12:49:00",
          "2021-11-05T12:48:00",
          "2021-11-05T12:47:00",
          "2021-11-05T12:46:00",
          "2021-11-05T12:45:00",
          "2021-11-05T12:44:00",
          "2021-11-05T12:43:00",
          "2021-11-05T12:42:00",
          "2021-11-05T12:41:00",
          "2021-11-05T12:40:00",
          "2021-11-05T12:39:00",
          "2021-11-05T12:38:00",
          "2021-11-05T12:37:00",
          "2021-11-05T12:36:00",
          "2021-11-05T12:35:00",
          "2021-11-05T12:34:00",
          "2021-11-05T12:33:00",
          "2021-11-05T12:32:00",
          "2021-11-05T12:31:00",
          "2021-11-05T12:30:00",
          "2021-11-05T12:29:00",
          "2021-11-05T12:28:00",
          "2021-11-05T12:27:00",
          "2021-11-05T12:26:00",
          "2021-11-05T12:25:00",
          "2021-11-05T12:24:00",
          "2021-11-05T12:23:00",
          "2021-11-05T12:22:00",
          "2021-11-05T12:21:00",
          "2021-11-05T12:20:00",
          "2021-11-05T12:19:00",
          "2021-11-05T12:18:00",
          "2021-11-05T12:17:00",
          "2021-11-05T12:16:00",
          "2021-11-05T12:15:00",
          "2021-11-05T12:14:00",
          "2021-11-05T12:13:00",
          "2021-11-05T12:12:00",
          "2021-11-05T12:11:00",
          "2021-11-05T12:10:00",
          "2021-11-05T12:09:00",
          "2021-11-05T12:08:00",
          "2021-11-05T12:07:00",
          "2021-11-05T12:06:00",
          "2021-11-05T12:05:00",
          "2021-11-05T12:04:00",
          "2021-11-05T12:03:00",
          "2021-11-05T12:02:00",
          "2021-11-05T12:01:00"
         ]
        }
       ],
       "layout": {
        "annotations": [
         {
          "showarrow": false,
          "text": "US non Payrolls Release",
          "x": "2021-11-05T12:30:00",
          "xanchor": "left",
          "xref": "x",
          "y": 1.1,
          "yref": "paper"
         }
        ],
        "autosize": true,
        "shapes": [
         {
          "line": {
           "width": 2
          },
          "x0": "2021-11-05T12:30:00",
          "x1": "2021-11-05T12:30:00",
          "xref": "x",
          "y0": 0,
          "y1": 1,
          "yref": "paper"
         }
        ],
        "template": {
         "data": {
          "bar": [
           {
            "error_x": {
             "color": "#2a3f5f"
            },
            "error_y": {
             "color": "#2a3f5f"
            },
            "marker": {
             "line": {
              "color": "#E5ECF6",
              "width": 0.5
             },
             "pattern": {
              "fillmode": "overlay",
              "size": 10,
              "solidity": 0.2
             }
            },
            "type": "bar"
           }
          ],
          "barpolar": [
           {
            "marker": {
             "line": {
              "color": "#E5ECF6",
              "width": 0.5
             },
             "pattern": {
              "fillmode": "overlay",
              "size": 10,
              "solidity": 0.2
             }
            },
            "type": "barpolar"
           }
          ],
          "carpet": [
           {
            "aaxis": {
             "endlinecolor": "#2a3f5f",
             "gridcolor": "white",
             "linecolor": "white",
             "minorgridcolor": "white",
             "startlinecolor": "#2a3f5f"
            },
            "baxis": {
             "endlinecolor": "#2a3f5f",
             "gridcolor": "white",
             "linecolor": "white",
             "minorgridcolor": "white",
             "startlinecolor": "#2a3f5f"
            },
            "type": "carpet"
           }
          ],
          "choropleth": [
           {
            "colorbar": {
             "outlinewidth": 0,
             "ticks": ""
            },
            "type": "choropleth"
           }
          ],
          "contour": [
           {
            "colorbar": {
             "outlinewidth": 0,
             "ticks": ""
            },
            "colorscale": [
             [
              0,
              "#0d0887"
             ],
             [
              0.1111111111111111,
              "#46039f"
             ],
             [
              0.2222222222222222,
              "#7201a8"
             ],
             [
              0.3333333333333333,
              "#9c179e"
             ],
             [
              0.4444444444444444,
              "#bd3786"
             ],
             [
              0.5555555555555556,
              "#d8576b"
             ],
             [
              0.6666666666666666,
              "#ed7953"
             ],
             [
              0.7777777777777778,
              "#fb9f3a"
             ],
             [
              0.8888888888888888,
              "#fdca26"
             ],
             [
              1,
              "#f0f921"
             ]
            ],
            "type": "contour"
           }
          ],
          "contourcarpet": [
           {
            "colorbar": {
             "outlinewidth": 0,
             "ticks": ""
            },
            "type": "contourcarpet"
           }
          ],
          "heatmap": [
           {
            "colorbar": {
             "outlinewidth": 0,
             "ticks": ""
            },
            "colorscale": [
             [
              0,
              "#0d0887"
             ],
             [
              0.1111111111111111,
              "#46039f"
             ],
             [
              0.2222222222222222,
              "#7201a8"
             ],
             [
              0.3333333333333333,
              "#9c179e"
             ],
             [
              0.4444444444444444,
              "#bd3786"
             ],
             [
              0.5555555555555556,
              "#d8576b"
             ],
             [
              0.6666666666666666,
              "#ed7953"
             ],
             [
              0.7777777777777778,
              "#fb9f3a"
             ],
             [
              0.8888888888888888,
              "#fdca26"
             ],
             [
              1,
              "#f0f921"
             ]
            ],
            "type": "heatmap"
           }
          ],
          "heatmapgl": [
           {
            "colorbar": {
             "outlinewidth": 0,
             "ticks": ""
            },
            "colorscale": [
             [
              0,
              "#0d0887"
             ],
             [
              0.1111111111111111,
              "#46039f"
             ],
             [
              0.2222222222222222,
              "#7201a8"
             ],
             [
              0.3333333333333333,
              "#9c179e"
             ],
             [
              0.4444444444444444,
              "#bd3786"
             ],
             [
              0.5555555555555556,
              "#d8576b"
             ],
             [
              0.6666666666666666,
              "#ed7953"
             ],
             [
              0.7777777777777778,
              "#fb9f3a"
             ],
             [
              0.8888888888888888,
              "#fdca26"
             ],
             [
              1,
              "#f0f921"
             ]
            ],
            "type": "heatmapgl"
           }
          ],
          "histogram": [
           {
            "marker": {
             "pattern": {
              "fillmode": "overlay",
              "size": 10,
              "solidity": 0.2
             }
            },
            "type": "histogram"
           }
          ],
          "histogram2d": [
           {
            "colorbar": {
             "outlinewidth": 0,
             "ticks": ""
            },
            "colorscale": [
             [
              0,
              "#0d0887"
             ],
             [
              0.1111111111111111,
              "#46039f"
             ],
             [
              0.2222222222222222,
              "#7201a8"
             ],
             [
              0.3333333333333333,
              "#9c179e"
             ],
             [
              0.4444444444444444,
              "#bd3786"
             ],
             [
              0.5555555555555556,
              "#d8576b"
             ],
             [
              0.6666666666666666,
              "#ed7953"
             ],
             [
              0.7777777777777778,
              "#fb9f3a"
             ],
             [
              0.8888888888888888,
              "#fdca26"
             ],
             [
              1,
              "#f0f921"
             ]
            ],
            "type": "histogram2d"
           }
          ],
          "histogram2dcontour": [
           {
            "colorbar": {
             "outlinewidth": 0,
             "ticks": ""
            },
            "colorscale": [
             [
              0,
              "#0d0887"
             ],
             [
              0.1111111111111111,
              "#46039f"
             ],
             [
              0.2222222222222222,
              "#7201a8"
             ],
             [
              0.3333333333333333,
              "#9c179e"
             ],
             [
              0.4444444444444444,
              "#bd3786"
             ],
             [
              0.5555555555555556,
              "#d8576b"
             ],
             [
              0.6666666666666666,
              "#ed7953"
             ],
             [
              0.7777777777777778,
              "#fb9f3a"
             ],
             [
              0.8888888888888888,
              "#fdca26"
             ],
             [
              1,
              "#f0f921"
             ]
            ],
            "type": "histogram2dcontour"
           }
          ],
          "mesh3d": [
           {
            "colorbar": {
             "outlinewidth": 0,
             "ticks": ""
            },
            "type": "mesh3d"
           }
          ],
          "parcoords": [
           {
            "line": {
             "colorbar": {
              "outlinewidth": 0,
              "ticks": ""
             }
            },
            "type": "parcoords"
           }
          ],
          "pie": [
           {
            "automargin": true,
            "type": "pie"
           }
          ],
          "scatter": [
           {
            "marker": {
             "colorbar": {
              "outlinewidth": 0,
              "ticks": ""
             }
            },
            "type": "scatter"
           }
          ],
          "scatter3d": [
           {
            "line": {
             "colorbar": {
              "outlinewidth": 0,
              "ticks": ""
             }
            },
            "marker": {
             "colorbar": {
              "outlinewidth": 0,
              "ticks": ""
             }
            },
            "type": "scatter3d"
           }
          ],
          "scattercarpet": [
           {
            "marker": {
             "colorbar": {
              "outlinewidth": 0,
              "ticks": ""
             }
            },
            "type": "scattercarpet"
           }
          ],
          "scattergeo": [
           {
            "marker": {
             "colorbar": {
              "outlinewidth": 0,
              "ticks": ""
             }
            },
            "type": "scattergeo"
           }
          ],
          "scattergl": [
           {
            "marker": {
             "colorbar": {
              "outlinewidth": 0,
              "ticks": ""
             }
            },
            "type": "scattergl"
           }
          ],
          "scattermapbox": [
           {
            "marker": {
             "colorbar": {
              "outlinewidth": 0,
              "ticks": ""
             }
            },
            "type": "scattermapbox"
           }
          ],
          "scatterpolar": [
           {
            "marker": {
             "colorbar": {
              "outlinewidth": 0,
              "ticks": ""
             }
            },
            "type": "scatterpolar"
           }
          ],
          "scatterpolargl": [
           {
            "marker": {
             "colorbar": {
              "outlinewidth": 0,
              "ticks": ""
             }
            },
            "type": "scatterpolargl"
           }
          ],
          "scatterternary": [
           {
            "marker": {
             "colorbar": {
              "outlinewidth": 0,
              "ticks": ""
             }
            },
            "type": "scatterternary"
           }
          ],
          "surface": [
           {
            "colorbar": {
             "outlinewidth": 0,
             "ticks": ""
            },
            "colorscale": [
             [
              0,
              "#0d0887"
             ],
             [
              0.1111111111111111,
              "#46039f"
             ],
             [
              0.2222222222222222,
              "#7201a8"
             ],
             [
              0.3333333333333333,
              "#9c179e"
             ],
             [
              0.4444444444444444,
              "#bd3786"
             ],
             [
              0.5555555555555556,
              "#d8576b"
             ],
             [
              0.6666666666666666,
              "#ed7953"
             ],
             [
              0.7777777777777778,
              "#fb9f3a"
             ],
             [
              0.8888888888888888,
              "#fdca26"
             ],
             [
              1,
              "#f0f921"
             ]
            ],
            "type": "surface"
           }
          ],
          "table": [
           {
            "cells": {
             "fill": {
              "color": "#EBF0F8"
             },
             "line": {
              "color": "white"
             }
            },
            "header": {
             "fill": {
              "color": "#C8D4E3"
             },
             "line": {
              "color": "white"
             }
            },
            "type": "table"
           }
          ]
         },
         "layout": {
          "annotationdefaults": {
           "arrowcolor": "#2a3f5f",
           "arrowhead": 0,
           "arrowwidth": 1
          },
          "autotypenumbers": "strict",
          "coloraxis": {
           "colorbar": {
            "outlinewidth": 0,
            "ticks": ""
           }
          },
          "colorscale": {
           "diverging": [
            [
             0,
             "#8e0152"
            ],
            [
             0.1,
             "#c51b7d"
            ],
            [
             0.2,
             "#de77ae"
            ],
            [
             0.3,
             "#f1b6da"
            ],
            [
             0.4,
             "#fde0ef"
            ],
            [
             0.5,
             "#f7f7f7"
            ],
            [
             0.6,
             "#e6f5d0"
            ],
            [
             0.7,
             "#b8e186"
            ],
            [
             0.8,
             "#7fbc41"
            ],
            [
             0.9,
             "#4d9221"
            ],
            [
             1,
             "#276419"
            ]
           ],
           "sequential": [
            [
             0,
             "#0d0887"
            ],
            [
             0.1111111111111111,
             "#46039f"
            ],
            [
             0.2222222222222222,
             "#7201a8"
            ],
            [
             0.3333333333333333,
             "#9c179e"
            ],
            [
             0.4444444444444444,
             "#bd3786"
            ],
            [
             0.5555555555555556,
             "#d8576b"
            ],
            [
             0.6666666666666666,
             "#ed7953"
            ],
            [
             0.7777777777777778,
             "#fb9f3a"
            ],
            [
             0.8888888888888888,
             "#fdca26"
            ],
            [
             1,
             "#f0f921"
            ]
           ],
           "sequentialminus": [
            [
             0,
             "#0d0887"
            ],
            [
             0.1111111111111111,
             "#46039f"
            ],
            [
             0.2222222222222222,
             "#7201a8"
            ],
            [
             0.3333333333333333,
             "#9c179e"
            ],
            [
             0.4444444444444444,
             "#bd3786"
            ],
            [
             0.5555555555555556,
             "#d8576b"
            ],
            [
             0.6666666666666666,
             "#ed7953"
            ],
            [
             0.7777777777777778,
             "#fb9f3a"
            ],
            [
             0.8888888888888888,
             "#fdca26"
            ],
            [
             1,
             "#f0f921"
            ]
           ]
          },
          "colorway": [
           "#636efa",
           "#EF553B",
           "#00cc96",
           "#ab63fa",
           "#FFA15A",
           "#19d3f3",
           "#FF6692",
           "#B6E880",
           "#FF97FF",
           "#FECB52"
          ],
          "font": {
           "color": "#2a3f5f"
          },
          "geo": {
           "bgcolor": "white",
           "lakecolor": "white",
           "landcolor": "#E5ECF6",
           "showlakes": true,
           "showland": true,
           "subunitcolor": "white"
          },
          "hoverlabel": {
           "align": "left"
          },
          "hovermode": "closest",
          "mapbox": {
           "style": "light"
          },
          "paper_bgcolor": "white",
          "plot_bgcolor": "#E5ECF6",
          "polar": {
           "angularaxis": {
            "gridcolor": "white",
            "linecolor": "white",
            "ticks": ""
           },
           "bgcolor": "#E5ECF6",
           "radialaxis": {
            "gridcolor": "white",
            "linecolor": "white",
            "ticks": ""
           }
          },
          "scene": {
           "xaxis": {
            "backgroundcolor": "#E5ECF6",
            "gridcolor": "white",
            "gridwidth": 2,
            "linecolor": "white",
            "showbackground": true,
            "ticks": "",
            "zerolinecolor": "white"
           },
           "yaxis": {
            "backgroundcolor": "#E5ECF6",
            "gridcolor": "white",
            "gridwidth": 2,
            "linecolor": "white",
            "showbackground": true,
            "ticks": "",
            "zerolinecolor": "white"
           },
           "zaxis": {
            "backgroundcolor": "#E5ECF6",
            "gridcolor": "white",
            "gridwidth": 2,
            "linecolor": "white",
            "showbackground": true,
            "ticks": "",
            "zerolinecolor": "white"
           }
          },
          "shapedefaults": {
           "line": {
            "color": "#2a3f5f"
           }
          },
          "ternary": {
           "aaxis": {
            "gridcolor": "white",
            "linecolor": "white",
            "ticks": ""
           },
           "baxis": {
            "gridcolor": "white",
            "linecolor": "white",
            "ticks": ""
           },
           "bgcolor": "#E5ECF6",
           "caxis": {
            "gridcolor": "white",
            "linecolor": "white",
            "ticks": ""
           }
          },
          "title": {
           "x": 0.05
          },
          "xaxis": {
           "automargin": true,
           "gridcolor": "white",
           "linecolor": "white",
           "ticks": "",
           "title": {
            "standoff": 15
           },
           "zerolinecolor": "white",
           "zerolinewidth": 2
          },
          "yaxis": {
           "automargin": true,
           "gridcolor": "white",
           "linecolor": "white",
           "ticks": "",
           "title": {
            "standoff": 15
           },
           "zerolinecolor": "white",
           "zerolinewidth": 2
          }
         }
        },
        "title": {
         "text": "US non Payrolls Release influence on EURO USD - (EURUSD)"
        },
        "xaxis": {
         "autorange": true,
         "range": [
          "2021-11-05 12:00:30",
          "2021-11-05 13:00:30"
         ],
         "rangeslider": {
          "autorange": true,
          "range": [
           "2021-11-05 12:00:30",
           "2021-11-05 13:00:30"
          ],
          "yaxis": {
           "_template": null,
           "rangemode": "match"
          }
         },
         "type": "date"
        },
        "yaxis": {
         "autorange": true,
         "range": [
          1.1511922222222222,
          1.1541477777777778
         ],
         "title": {
          "text": "EURUSD:CUR"
         }
        }
       }
      },
      "image/png": "[encoded data removed]"
     },
     "metadata": {},
     "output_type": "display_data"
    }
   ],
   "source": [
    "\n",
    "df7 = eur_usd_intraday_november[466:526]\n",
    "\n",
    "fig1 = go.Figure(data=[go.Candlestick(x=df7['Date'],\n",
    "                open=df7['Open'], high=df7['High'],\n",
    "                low=df7['Low'], close=df7['Close'])\n",
    "                      ])\n",
    "\n",
    "fig1.update_layout(\n",
    "    title='US non Payrolls Release influence on EURO USD - (EURUSD)',\n",
    "    yaxis_title='EURUSD:CUR',\n",
    "    shapes = [dict(\n",
    "        x0='2021-11-05T12:30:00', x1='2021-11-05T12:30:00', y0=0, y1=1, xref='x', yref='paper',\n",
    "        line_width=2)],\n",
    "    annotations=[dict(\n",
    "        x='2021-11-05T12:30:00', y=1.10, xref='x', yref='paper',\n",
    "        showarrow=False, xanchor='left', text='US non Payrolls Release')]\n",
    ")\n",
    "\n",
    "fig1.show(renderer='plotly_mimetype')"
   ]
  },
  {
   "cell_type": "code",
   "execution_count": null,
   "id": "62d7de14-a575-4efe-ac05-c1388da1099c",
   "metadata": {},
   "outputs": [],
   "source": []
  },
  {
   "cell_type": "markdown",
   "id": "6af6d9fc-49c6-49c3-b8ac-08bb1a9874da",
   "metadata": {
    "tags": []
   },
   "source": [
    "### Dow Jones Industrial Average Reaction"
   ]
  },
  {
   "cell_type": "code",
   "execution_count": 42,
   "id": "5242910d-6547-4a94-8812-d19867a0d483",
   "metadata": {},
   "outputs": [],
   "source": [
    "indu_intraday_november = te.getMarketsIntraday(symbols = ['indu:ind'], initDate='2021-11-05', endDate='2021-11-06', output_type = 'df')"
   ]
  },
  {
   "cell_type": "code",
   "execution_count": 43,
   "id": "cd145c66-1138-4df3-8f6b-dbeac0d1e04c",
   "metadata": {},
   "outputs": [
    {
     "data": {
      "text/html": [
       "<div>\n",
       "<style scoped>\n",
       "    .dataframe tbody tr th:only-of-type {\n",
       "        vertical-align: middle;\n",
       "    }\n",
       "\n",
       "    .dataframe tbody tr th {\n",
       "        vertical-align: top;\n",
       "    }\n",
       "\n",
       "    .dataframe thead th {\n",
       "        text-align: right;\n",
       "    }\n",
       "</style>\n",
       "<table border=\"1\" class=\"dataframe\">\n",
       "  <thead>\n",
       "    <tr style=\"text-align: right;\">\n",
       "      <th></th>\n",
       "      <th>Symbol</th>\n",
       "      <th>Date</th>\n",
       "      <th>Open</th>\n",
       "      <th>High</th>\n",
       "      <th>Low</th>\n",
       "      <th>Close</th>\n",
       "    </tr>\n",
       "  </thead>\n",
       "  <tbody>\n",
       "    <tr>\n",
       "      <th>535</th>\n",
       "      <td>INDU:IND</td>\n",
       "      <td>2021-11-05T12:00:00</td>\n",
       "      <td>36169.08984</td>\n",
       "      <td>36172.10156</td>\n",
       "      <td>36167.07813</td>\n",
       "      <td>36169.08984</td>\n",
       "    </tr>\n",
       "  </tbody>\n",
       "</table>\n",
       "</div>"
      ],
      "text/plain": [
       "       Symbol                 Date         Open         High          Low  \\\n",
       "535  INDU:IND  2021-11-05T12:00:00  36169.08984  36172.10156  36167.07813   \n",
       "\n",
       "           Close  \n",
       "535  36169.08984  "
      ]
     },
     "execution_count": 43,
     "metadata": {},
     "output_type": "execute_result"
    }
   ],
   "source": [
    "indu_intraday_november.query('Date == \"2021-11-05T12:00:00\"')"
   ]
  },
  {
   "cell_type": "code",
   "execution_count": 44,
   "id": "edea05f5-f696-4301-a690-fff87774b367",
   "metadata": {},
   "outputs": [
    {
     "data": {
      "text/html": [
       "<div>\n",
       "<style scoped>\n",
       "    .dataframe tbody tr th:only-of-type {\n",
       "        vertical-align: middle;\n",
       "    }\n",
       "\n",
       "    .dataframe tbody tr th {\n",
       "        vertical-align: top;\n",
       "    }\n",
       "\n",
       "    .dataframe thead th {\n",
       "        text-align: right;\n",
       "    }\n",
       "</style>\n",
       "<table border=\"1\" class=\"dataframe\">\n",
       "  <thead>\n",
       "    <tr style=\"text-align: right;\">\n",
       "      <th></th>\n",
       "      <th>Symbol</th>\n",
       "      <th>Date</th>\n",
       "      <th>Open</th>\n",
       "      <th>High</th>\n",
       "      <th>Low</th>\n",
       "      <th>Close</th>\n",
       "    </tr>\n",
       "  </thead>\n",
       "  <tbody>\n",
       "    <tr>\n",
       "      <th>475</th>\n",
       "      <td>INDU:IND</td>\n",
       "      <td>2021-11-05T13:00:00</td>\n",
       "      <td>36265.39844</td>\n",
       "      <td>36270.42188</td>\n",
       "      <td>36261.39063</td>\n",
       "      <td>36263.39063</td>\n",
       "    </tr>\n",
       "  </tbody>\n",
       "</table>\n",
       "</div>"
      ],
      "text/plain": [
       "       Symbol                 Date         Open         High          Low  \\\n",
       "475  INDU:IND  2021-11-05T13:00:00  36265.39844  36270.42188  36261.39063   \n",
       "\n",
       "           Close  \n",
       "475  36263.39063  "
      ]
     },
     "execution_count": 44,
     "metadata": {},
     "output_type": "execute_result"
    }
   ],
   "source": [
    "indu_intraday_november.query('Date == \"2021-11-05T13:00:00\"')"
   ]
  },
  {
   "cell_type": "code",
   "execution_count": 45,
   "id": "ccc7bf45-cbb8-4733-b7c7-92ce05dfdf83",
   "metadata": {},
   "outputs": [
    {
     "data": {
      "application/vnd.plotly.v1+json": {
       "config": {
        "plotlyServerURL": "https://plot.ly"
       },
       "data": [
        {
         "close": [
          36263.39063,
          36266.39844,
          36265.39844,
          36266.39844,
          36262.39063,
          36260.37891,
          36271.42188,
          36269.41016,
          36261.39063,
          36262.39063,
          36266.39844,
          36259.37891,
          36264.39844,
          36260.37891,
          36270.42188,
          36257.37109,
          36257.37109,
          36249.35156,
          36251.35156,
          36245.33984,
          36254.35938,
          36241.32031,
          36262.39063,
          36266.39844,
          36275.42969,
          36257.37109,
          36237.30859,
          36229.28125,
          36228.28125,
          36215.23828,
          36206.21094,
          36176.10938,
          36184.14063,
          36176.10938,
          36170.08984,
          36172.10156,
          36173.10156,
          36180.12891,
          36171.10156,
          36176.10938,
          36179.12109,
          36174.10938,
          36174.10938,
          36176.10938,
          36176.10938,
          36171.10156,
          36166.07813,
          36167.07813,
          36165.07813,
          36154.03906,
          36155.05078,
          36153.03906,
          36154.03906,
          36160.05859,
          36159.05859,
          36165.07813,
          36165.07813,
          36165.07813,
          36162.07031,
          36159.05859
         ],
         "high": [
          36270.42188,
          36266.39844,
          36268.41016,
          36267.41016,
          36266.39844,
          36270.42188,
          36275.42969,
          36270.42188,
          36264.39844,
          36266.39844,
          36266.39844,
          36267.41016,
          36266.39844,
          36271.42188,
          36271.42188,
          36261.39063,
          36259.37891,
          36254.35938,
          36253.35938,
          36259.37891,
          36263.39063,
          36262.39063,
          36271.42188,
          36286.46875,
          36283.46094,
          36259.37891,
          36237.30859,
          36235.30078,
          36232.28906,
          36220.25,
          36214.23828,
          36183.14063,
          36185.14063,
          36177.12109,
          36171.10156,
          36176.10938,
          36181.12891,
          36181.12891,
          36177.12109,
          36181.12891,
          36179.12109,
          36176.10938,
          36177.12109,
          36181.12891,
          36177.12109,
          36171.10156,
          36171.10156,
          36173.10156,
          36168.08984,
          36155.05078,
          36156.05078,
          36156.05078,
          36162.07031,
          36167.07813,
          36167.07813,
          36165.07813,
          36167.07813,
          36165.07813,
          36162.07031,
          36168.08984
         ],
         "low": [
          36261.39063,
          36260.37891,
          36264.39844,
          36258.37891,
          36259.37891,
          36258.37891,
          36268.41016,
          36260.37891,
          36255.37109,
          36258.37891,
          36257.37109,
          36257.37109,
          36261.39063,
          36256.37109,
          36255.37109,
          36249.35156,
          36246.33984,
          36247.33984,
          36243.32813,
          36245.33984,
          36240.32031,
          36240.32031,
          36262.39063,
          36266.39844,
          36255.37109,
          36231.28906,
          36226.26953,
          36222.26172,
          36202.19922,
          36202.19922,
          36175.10938,
          36176.10938,
          36173.10156,
          36168.08984,
          36167.07813,
          36169.08984,
          36172.10156,
          36171.10156,
          36170.08984,
          36176.10938,
          36174.10938,
          36172.10156,
          36173.10156,
          36174.10938,
          36167.07813,
          36165.07813,
          36165.07813,
          36166.07813,
          36155.05078,
          36151.03125,
          36152.03906,
          36153.03906,
          36153.03906,
          36160.05859,
          36159.05859,
          36161.05859,
          36164.07031,
          36161.05859,
          36158.05859,
          36159.05859
         ],
         "open": [
          36265.39844,
          36266.39844,
          36267.41016,
          36261.39063,
          36259.37891,
          36270.42188,
          36268.41016,
          36262.39063,
          36261.39063,
          36265.39844,
          36258.37891,
          36263.39063,
          36262.39063,
          36271.42188,
          36258.37891,
          36256.37109,
          36248.35156,
          36250.35156,
          36247.33984,
          36253.35938,
          36240.32031,
          36262.39063,
          36267.41016,
          36276.44141,
          36258.37891,
          36238.30859,
          36233.30078,
          36227.28125,
          36214.23828,
          36207.21094,
          36175.10938,
          36183.14063,
          36175.10938,
          36169.08984,
          36171.10156,
          36171.10156,
          36181.12891,
          36172.10156,
          36177.12109,
          36178.12109,
          36175.10938,
          36175.10938,
          36175.10938,
          36177.12109,
          36170.08984,
          36167.07813,
          36169.08984,
          36166.07813,
          36155.05078,
          36154.03906,
          36154.03906,
          36155.05078,
          36161.05859,
          36160.05859,
          36166.07813,
          36164.07031,
          36166.07813,
          36163.07031,
          36160.05859,
          36168.08984
         ],
         "type": "candlestick",
         "x": [
          "2021-11-05T13:00:00",
          "2021-11-05T12:59:00",
          "2021-11-05T12:58:00",
          "2021-11-05T12:57:00",
          "2021-11-05T12:56:00",
          "2021-11-05T12:55:00",
          "2021-11-05T12:54:00",
          "2021-11-05T12:53:00",
          "2021-11-05T12:52:00",
          "2021-11-05T12:51:00",
          "2021-11-05T12:50:00",
          "2021-11-05T12:49:00",
          "2021-11-05T12:48:00",
          "2021-11-05T12:47:00",
          "2021-11-05T12:46:00",
          "2021-11-05T12:45:00",
          "2021-11-05T12:44:00",
          "2021-11-05T12:43:00",
          "2021-11-05T12:42:00",
          "2021-11-05T12:41:00",
          "2021-11-05T12:40:00",
          "2021-11-05T12:39:00",
          "2021-11-05T12:38:00",
          "2021-11-05T12:37:00",
          "2021-11-05T12:36:00",
          "2021-11-05T12:35:00",
          "2021-11-05T12:34:00",
          "2021-11-05T12:33:00",
          "2021-11-05T12:32:00",
          "2021-11-05T12:31:00",
          "2021-11-05T12:30:00",
          "2021-11-05T12:29:00",
          "2021-11-05T12:28:00",
          "2021-11-05T12:27:00",
          "2021-11-05T12:26:00",
          "2021-11-05T12:25:00",
          "2021-11-05T12:24:00",
          "2021-11-05T12:23:00",
          "2021-11-05T12:22:00",
          "2021-11-05T12:21:00",
          "2021-11-05T12:20:00",
          "2021-11-05T12:19:00",
          "2021-11-05T12:18:00",
          "2021-11-05T12:17:00",
          "2021-11-05T12:16:00",
          "2021-11-05T12:15:00",
          "2021-11-05T12:14:00",
          "2021-11-05T12:13:00",
          "2021-11-05T12:12:00",
          "2021-11-05T12:11:00",
          "2021-11-05T12:10:00",
          "2021-11-05T12:09:00",
          "2021-11-05T12:08:00",
          "2021-11-05T12:07:00",
          "2021-11-05T12:06:00",
          "2021-11-05T12:05:00",
          "2021-11-05T12:04:00",
          "2021-11-05T12:03:00",
          "2021-11-05T12:02:00",
          "2021-11-05T12:01:00"
         ]
        }
       ],
       "layout": {
        "annotations": [
         {
          "showarrow": false,
          "text": "US non Payrolls Release",
          "x": "2021-11-05T12:30:00",
          "xanchor": "left",
          "xref": "x",
          "y": 1.2,
          "yref": "paper"
         }
        ],
        "autosize": true,
        "shapes": [
         {
          "line": {
           "width": 2
          },
          "x0": "2021-11-05T12:30:00",
          "x1": "2021-11-05T12:30:00",
          "xref": "x",
          "y0": 0,
          "y1": 1,
          "yref": "paper"
         }
        ],
        "template": {
         "data": {
          "bar": [
           {
            "error_x": {
             "color": "#2a3f5f"
            },
            "error_y": {
             "color": "#2a3f5f"
            },
            "marker": {
             "line": {
              "color": "#E5ECF6",
              "width": 0.5
             },
             "pattern": {
              "fillmode": "overlay",
              "size": 10,
              "solidity": 0.2
             }
            },
            "type": "bar"
           }
          ],
          "barpolar": [
           {
            "marker": {
             "line": {
              "color": "#E5ECF6",
              "width": 0.5
             },
             "pattern": {
              "fillmode": "overlay",
              "size": 10,
              "solidity": 0.2
             }
            },
            "type": "barpolar"
           }
          ],
          "carpet": [
           {
            "aaxis": {
             "endlinecolor": "#2a3f5f",
             "gridcolor": "white",
             "linecolor": "white",
             "minorgridcolor": "white",
             "startlinecolor": "#2a3f5f"
            },
            "baxis": {
             "endlinecolor": "#2a3f5f",
             "gridcolor": "white",
             "linecolor": "white",
             "minorgridcolor": "white",
             "startlinecolor": "#2a3f5f"
            },
            "type": "carpet"
           }
          ],
          "choropleth": [
           {
            "colorbar": {
             "outlinewidth": 0,
             "ticks": ""
            },
            "type": "choropleth"
           }
          ],
          "contour": [
           {
            "colorbar": {
             "outlinewidth": 0,
             "ticks": ""
            },
            "colorscale": [
             [
              0,
              "#0d0887"
             ],
             [
              0.1111111111111111,
              "#46039f"
             ],
             [
              0.2222222222222222,
              "#7201a8"
             ],
             [
              0.3333333333333333,
              "#9c179e"
             ],
             [
              0.4444444444444444,
              "#bd3786"
             ],
             [
              0.5555555555555556,
              "#d8576b"
             ],
             [
              0.6666666666666666,
              "#ed7953"
             ],
             [
              0.7777777777777778,
              "#fb9f3a"
             ],
             [
              0.8888888888888888,
              "#fdca26"
             ],
             [
              1,
              "#f0f921"
             ]
            ],
            "type": "contour"
           }
          ],
          "contourcarpet": [
           {
            "colorbar": {
             "outlinewidth": 0,
             "ticks": ""
            },
            "type": "contourcarpet"
           }
          ],
          "heatmap": [
           {
            "colorbar": {
             "outlinewidth": 0,
             "ticks": ""
            },
            "colorscale": [
             [
              0,
              "#0d0887"
             ],
             [
              0.1111111111111111,
              "#46039f"
             ],
             [
              0.2222222222222222,
              "#7201a8"
             ],
             [
              0.3333333333333333,
              "#9c179e"
             ],
             [
              0.4444444444444444,
              "#bd3786"
             ],
             [
              0.5555555555555556,
              "#d8576b"
             ],
             [
              0.6666666666666666,
              "#ed7953"
             ],
             [
              0.7777777777777778,
              "#fb9f3a"
             ],
             [
              0.8888888888888888,
              "#fdca26"
             ],
             [
              1,
              "#f0f921"
             ]
            ],
            "type": "heatmap"
           }
          ],
          "heatmapgl": [
           {
            "colorbar": {
             "outlinewidth": 0,
             "ticks": ""
            },
            "colorscale": [
             [
              0,
              "#0d0887"
             ],
             [
              0.1111111111111111,
              "#46039f"
             ],
             [
              0.2222222222222222,
              "#7201a8"
             ],
             [
              0.3333333333333333,
              "#9c179e"
             ],
             [
              0.4444444444444444,
              "#bd3786"
             ],
             [
              0.5555555555555556,
              "#d8576b"
             ],
             [
              0.6666666666666666,
              "#ed7953"
             ],
             [
              0.7777777777777778,
              "#fb9f3a"
             ],
             [
              0.8888888888888888,
              "#fdca26"
             ],
             [
              1,
              "#f0f921"
             ]
            ],
            "type": "heatmapgl"
           }
          ],
          "histogram": [
           {
            "marker": {
             "pattern": {
              "fillmode": "overlay",
              "size": 10,
              "solidity": 0.2
             }
            },
            "type": "histogram"
           }
          ],
          "histogram2d": [
           {
            "colorbar": {
             "outlinewidth": 0,
             "ticks": ""
            },
            "colorscale": [
             [
              0,
              "#0d0887"
             ],
             [
              0.1111111111111111,
              "#46039f"
             ],
             [
              0.2222222222222222,
              "#7201a8"
             ],
             [
              0.3333333333333333,
              "#9c179e"
             ],
             [
              0.4444444444444444,
              "#bd3786"
             ],
             [
              0.5555555555555556,
              "#d8576b"
             ],
             [
              0.6666666666666666,
              "#ed7953"
             ],
             [
              0.7777777777777778,
              "#fb9f3a"
             ],
             [
              0.8888888888888888,
              "#fdca26"
             ],
             [
              1,
              "#f0f921"
             ]
            ],
            "type": "histogram2d"
           }
          ],
          "histogram2dcontour": [
           {
            "colorbar": {
             "outlinewidth": 0,
             "ticks": ""
            },
            "colorscale": [
             [
              0,
              "#0d0887"
             ],
             [
              0.1111111111111111,
              "#46039f"
             ],
             [
              0.2222222222222222,
              "#7201a8"
             ],
             [
              0.3333333333333333,
              "#9c179e"
             ],
             [
              0.4444444444444444,
              "#bd3786"
             ],
             [
              0.5555555555555556,
              "#d8576b"
             ],
             [
              0.6666666666666666,
              "#ed7953"
             ],
             [
              0.7777777777777778,
              "#fb9f3a"
             ],
             [
              0.8888888888888888,
              "#fdca26"
             ],
             [
              1,
              "#f0f921"
             ]
            ],
            "type": "histogram2dcontour"
           }
          ],
          "mesh3d": [
           {
            "colorbar": {
             "outlinewidth": 0,
             "ticks": ""
            },
            "type": "mesh3d"
           }
          ],
          "parcoords": [
           {
            "line": {
             "colorbar": {
              "outlinewidth": 0,
              "ticks": ""
             }
            },
            "type": "parcoords"
           }
          ],
          "pie": [
           {
            "automargin": true,
            "type": "pie"
           }
          ],
          "scatter": [
           {
            "marker": {
             "colorbar": {
              "outlinewidth": 0,
              "ticks": ""
             }
            },
            "type": "scatter"
           }
          ],
          "scatter3d": [
           {
            "line": {
             "colorbar": {
              "outlinewidth": 0,
              "ticks": ""
             }
            },
            "marker": {
             "colorbar": {
              "outlinewidth": 0,
              "ticks": ""
             }
            },
            "type": "scatter3d"
           }
          ],
          "scattercarpet": [
           {
            "marker": {
             "colorbar": {
              "outlinewidth": 0,
              "ticks": ""
             }
            },
            "type": "scattercarpet"
           }
          ],
          "scattergeo": [
           {
            "marker": {
             "colorbar": {
              "outlinewidth": 0,
              "ticks": ""
             }
            },
            "type": "scattergeo"
           }
          ],
          "scattergl": [
           {
            "marker": {
             "colorbar": {
              "outlinewidth": 0,
              "ticks": ""
             }
            },
            "type": "scattergl"
           }
          ],
          "scattermapbox": [
           {
            "marker": {
             "colorbar": {
              "outlinewidth": 0,
              "ticks": ""
             }
            },
            "type": "scattermapbox"
           }
          ],
          "scatterpolar": [
           {
            "marker": {
             "colorbar": {
              "outlinewidth": 0,
              "ticks": ""
             }
            },
            "type": "scatterpolar"
           }
          ],
          "scatterpolargl": [
           {
            "marker": {
             "colorbar": {
              "outlinewidth": 0,
              "ticks": ""
             }
            },
            "type": "scatterpolargl"
           }
          ],
          "scatterternary": [
           {
            "marker": {
             "colorbar": {
              "outlinewidth": 0,
              "ticks": ""
             }
            },
            "type": "scatterternary"
           }
          ],
          "surface": [
           {
            "colorbar": {
             "outlinewidth": 0,
             "ticks": ""
            },
            "colorscale": [
             [
              0,
              "#0d0887"
             ],
             [
              0.1111111111111111,
              "#46039f"
             ],
             [
              0.2222222222222222,
              "#7201a8"
             ],
             [
              0.3333333333333333,
              "#9c179e"
             ],
             [
              0.4444444444444444,
              "#bd3786"
             ],
             [
              0.5555555555555556,
              "#d8576b"
             ],
             [
              0.6666666666666666,
              "#ed7953"
             ],
             [
              0.7777777777777778,
              "#fb9f3a"
             ],
             [
              0.8888888888888888,
              "#fdca26"
             ],
             [
              1,
              "#f0f921"
             ]
            ],
            "type": "surface"
           }
          ],
          "table": [
           {
            "cells": {
             "fill": {
              "color": "#EBF0F8"
             },
             "line": {
              "color": "white"
             }
            },
            "header": {
             "fill": {
              "color": "#C8D4E3"
             },
             "line": {
              "color": "white"
             }
            },
            "type": "table"
           }
          ]
         },
         "layout": {
          "annotationdefaults": {
           "arrowcolor": "#2a3f5f",
           "arrowhead": 0,
           "arrowwidth": 1
          },
          "autotypenumbers": "strict",
          "coloraxis": {
           "colorbar": {
            "outlinewidth": 0,
            "ticks": ""
           }
          },
          "colorscale": {
           "diverging": [
            [
             0,
             "#8e0152"
            ],
            [
             0.1,
             "#c51b7d"
            ],
            [
             0.2,
             "#de77ae"
            ],
            [
             0.3,
             "#f1b6da"
            ],
            [
             0.4,
             "#fde0ef"
            ],
            [
             0.5,
             "#f7f7f7"
            ],
            [
             0.6,
             "#e6f5d0"
            ],
            [
             0.7,
             "#b8e186"
            ],
            [
             0.8,
             "#7fbc41"
            ],
            [
             0.9,
             "#4d9221"
            ],
            [
             1,
             "#276419"
            ]
           ],
           "sequential": [
            [
             0,
             "#0d0887"
            ],
            [
             0.1111111111111111,
             "#46039f"
            ],
            [
             0.2222222222222222,
             "#7201a8"
            ],
            [
             0.3333333333333333,
             "#9c179e"
            ],
            [
             0.4444444444444444,
             "#bd3786"
            ],
            [
             0.5555555555555556,
             "#d8576b"
            ],
            [
             0.6666666666666666,
             "#ed7953"
            ],
            [
             0.7777777777777778,
             "#fb9f3a"
            ],
            [
             0.8888888888888888,
             "#fdca26"
            ],
            [
             1,
             "#f0f921"
            ]
           ],
           "sequentialminus": [
            [
             0,
             "#0d0887"
            ],
            [
             0.1111111111111111,
             "#46039f"
            ],
            [
             0.2222222222222222,
             "#7201a8"
            ],
            [
             0.3333333333333333,
             "#9c179e"
            ],
            [
             0.4444444444444444,
             "#bd3786"
            ],
            [
             0.5555555555555556,
             "#d8576b"
            ],
            [
             0.6666666666666666,
             "#ed7953"
            ],
            [
             0.7777777777777778,
             "#fb9f3a"
            ],
            [
             0.8888888888888888,
             "#fdca26"
            ],
            [
             1,
             "#f0f921"
            ]
           ]
          },
          "colorway": [
           "#636efa",
           "#EF553B",
           "#00cc96",
           "#ab63fa",
           "#FFA15A",
           "#19d3f3",
           "#FF6692",
           "#B6E880",
           "#FF97FF",
           "#FECB52"
          ],
          "font": {
           "color": "#2a3f5f"
          },
          "geo": {
           "bgcolor": "white",
           "lakecolor": "white",
           "landcolor": "#E5ECF6",
           "showlakes": true,
           "showland": true,
           "subunitcolor": "white"
          },
          "hoverlabel": {
           "align": "left"
          },
          "hovermode": "closest",
          "mapbox": {
           "style": "light"
          },
          "paper_bgcolor": "white",
          "plot_bgcolor": "#E5ECF6",
          "polar": {
           "angularaxis": {
            "gridcolor": "white",
            "linecolor": "white",
            "ticks": ""
           },
           "bgcolor": "#E5ECF6",
           "radialaxis": {
            "gridcolor": "white",
            "linecolor": "white",
            "ticks": ""
           }
          },
          "scene": {
           "xaxis": {
            "backgroundcolor": "#E5ECF6",
            "gridcolor": "white",
            "gridwidth": 2,
            "linecolor": "white",
            "showbackground": true,
            "ticks": "",
            "zerolinecolor": "white"
           },
           "yaxis": {
            "backgroundcolor": "#E5ECF6",
            "gridcolor": "white",
            "gridwidth": 2,
            "linecolor": "white",
            "showbackground": true,
            "ticks": "",
            "zerolinecolor": "white"
           },
           "zaxis": {
            "backgroundcolor": "#E5ECF6",
            "gridcolor": "white",
            "gridwidth": 2,
            "linecolor": "white",
            "showbackground": true,
            "ticks": "",
            "zerolinecolor": "white"
           }
          },
          "shapedefaults": {
           "line": {
            "color": "#2a3f5f"
           }
          },
          "ternary": {
           "aaxis": {
            "gridcolor": "white",
            "linecolor": "white",
            "ticks": ""
           },
           "baxis": {
            "gridcolor": "white",
            "linecolor": "white",
            "ticks": ""
           },
           "bgcolor": "#E5ECF6",
           "caxis": {
            "gridcolor": "white",
            "linecolor": "white",
            "ticks": ""
           }
          },
          "title": {
           "x": 0.05
          },
          "xaxis": {
           "automargin": true,
           "gridcolor": "white",
           "linecolor": "white",
           "ticks": "",
           "title": {
            "standoff": 15
           },
           "zerolinecolor": "white",
           "zerolinewidth": 2
          },
          "yaxis": {
           "automargin": true,
           "gridcolor": "white",
           "linecolor": "white",
           "ticks": "",
           "title": {
            "standoff": 15
           },
           "zerolinecolor": "white",
           "zerolinewidth": 2
          }
         }
        },
        "title": {
         "text": "US non Payrolls Release influence on Dow Jones Industrial Average - (INDU)"
        },
        "xaxis": {
         "autorange": true,
         "range": [
          "2021-11-05 12:00:30",
          "2021-11-05 13:00:30"
         ],
         "rangeslider": {
          "autorange": true,
          "range": [
           "2021-11-05 12:00:30",
           "2021-11-05 13:00:30"
          ],
          "yaxis": {
           "_template": null,
           "rangemode": "match"
          }
         },
         "type": "date"
        },
        "yaxis": {
         "autorange": true,
         "range": [
          36143.506944444445,
          36293.993055555555
         ],
         "title": {
          "text": "INDU:IND"
         }
        }
       }
      },
      "image/png": "[encoded data removed]"
     },
     "metadata": {},
     "output_type": "display_data"
    }
   ],
   "source": [
    "\n",
    "df8 = indu_intraday_november[475:535]\n",
    "\n",
    "fig = go.Figure(data=[go.Candlestick(x=df8['Date'],\n",
    "                open=df8['Open'], high=df8['High'],\n",
    "                low=df8['Low'], close=df8['Close'])\n",
    "                      ])\n",
    "\n",
    "fig.update_layout(\n",
    "    title='US non Payrolls Release influence on Dow Jones Industrial Average - (INDU)',\n",
    "    yaxis_title='INDU:IND',\n",
    "    shapes = [dict(\n",
    "        x0='2021-11-05T12:30:00', x1='2021-11-05T12:30:00', y0=0, y1=1, xref='x', yref='paper',\n",
    "        line_width=2)],\n",
    "    annotations=[dict(\n",
    "        x='2021-11-05T12:30:00', y=1.20, xref='x', yref='paper',\n",
    "        showarrow=False, xanchor='left', text='US non Payrolls Release')]\n",
    ")\n",
    "\n",
    "fig.show(renderer='plotly_mimetype')"
   ]
  },
  {
   "cell_type": "code",
   "execution_count": null,
   "id": "f7d9cba9-b1ee-43f7-b095-ba34951b8cd8",
   "metadata": {},
   "outputs": [],
   "source": []
  },
  {
   "cell_type": "markdown",
   "id": "eb4db3d9-ceca-46e2-8d82-bcb7c9fa2d70",
   "metadata": {
    "tags": []
   },
   "source": [
    "### S&P 500 Reaction"
   ]
  },
  {
   "cell_type": "code",
   "execution_count": 46,
   "id": "3fdd8aa4-5b60-45c3-85a9-19c82be5662d",
   "metadata": {},
   "outputs": [],
   "source": [
    "s_p_intraday_november = te.getMarketsIntraday(symbols = ['SPX:IND'], initDate='2021-11-05', endDate='2021-11-06', output_type = 'df')"
   ]
  },
  {
   "cell_type": "code",
   "execution_count": 47,
   "id": "38ed8604-57f7-4f81-a891-3a7e45919305",
   "metadata": {},
   "outputs": [
    {
     "data": {
      "text/html": [
       "<div>\n",
       "<style scoped>\n",
       "    .dataframe tbody tr th:only-of-type {\n",
       "        vertical-align: middle;\n",
       "    }\n",
       "\n",
       "    .dataframe tbody tr th {\n",
       "        vertical-align: top;\n",
       "    }\n",
       "\n",
       "    .dataframe thead th {\n",
       "        text-align: right;\n",
       "    }\n",
       "</style>\n",
       "<table border=\"1\" class=\"dataframe\">\n",
       "  <thead>\n",
       "    <tr style=\"text-align: right;\">\n",
       "      <th></th>\n",
       "      <th>Symbol</th>\n",
       "      <th>Date</th>\n",
       "      <th>Open</th>\n",
       "      <th>High</th>\n",
       "      <th>Low</th>\n",
       "      <th>Close</th>\n",
       "    </tr>\n",
       "  </thead>\n",
       "  <tbody>\n",
       "    <tr>\n",
       "      <th>535</th>\n",
       "      <td>SPX:IND</td>\n",
       "      <td>2021-11-05T12:00:00</td>\n",
       "      <td>4692.25977</td>\n",
       "      <td>4692.50977</td>\n",
       "      <td>4692.00977</td>\n",
       "      <td>4692.25977</td>\n",
       "    </tr>\n",
       "  </tbody>\n",
       "</table>\n",
       "</div>"
      ],
      "text/plain": [
       "      Symbol                 Date        Open        High         Low  \\\n",
       "535  SPX:IND  2021-11-05T12:00:00  4692.25977  4692.50977  4692.00977   \n",
       "\n",
       "          Close  \n",
       "535  4692.25977  "
      ]
     },
     "execution_count": 47,
     "metadata": {},
     "output_type": "execute_result"
    }
   ],
   "source": [
    "s_p_intraday_november.query('Date == \"2021-11-05T12:00:00\"')"
   ]
  },
  {
   "cell_type": "code",
   "execution_count": 48,
   "id": "6fad4781-6307-4f60-9330-d677967054a9",
   "metadata": {},
   "outputs": [
    {
     "data": {
      "text/html": [
       "<div>\n",
       "<style scoped>\n",
       "    .dataframe tbody tr th:only-of-type {\n",
       "        vertical-align: middle;\n",
       "    }\n",
       "\n",
       "    .dataframe tbody tr th {\n",
       "        vertical-align: top;\n",
       "    }\n",
       "\n",
       "    .dataframe thead th {\n",
       "        text-align: right;\n",
       "    }\n",
       "</style>\n",
       "<table border=\"1\" class=\"dataframe\">\n",
       "  <thead>\n",
       "    <tr style=\"text-align: right;\">\n",
       "      <th></th>\n",
       "      <th>Symbol</th>\n",
       "      <th>Date</th>\n",
       "      <th>Open</th>\n",
       "      <th>High</th>\n",
       "      <th>Low</th>\n",
       "      <th>Close</th>\n",
       "    </tr>\n",
       "  </thead>\n",
       "  <tbody>\n",
       "    <tr>\n",
       "      <th>475</th>\n",
       "      <td>SPX:IND</td>\n",
       "      <td>2021-11-05T13:00:00</td>\n",
       "      <td>4701.77979</td>\n",
       "      <td>4702.52979</td>\n",
       "      <td>4701.02979</td>\n",
       "      <td>4701.52979</td>\n",
       "    </tr>\n",
       "  </tbody>\n",
       "</table>\n",
       "</div>"
      ],
      "text/plain": [
       "      Symbol                 Date        Open        High         Low  \\\n",
       "475  SPX:IND  2021-11-05T13:00:00  4701.77979  4702.52979  4701.02979   \n",
       "\n",
       "          Close  \n",
       "475  4701.52979  "
      ]
     },
     "execution_count": 48,
     "metadata": {},
     "output_type": "execute_result"
    }
   ],
   "source": [
    "s_p_intraday_november.query('Date == \"2021-11-05T13:00:00\"')"
   ]
  },
  {
   "cell_type": "code",
   "execution_count": 49,
   "id": "3a20a1c8-0f61-400d-83fb-5660b0fc2bd0",
   "metadata": {},
   "outputs": [
    {
     "data": {
      "application/vnd.plotly.v1+json": {
       "config": {
        "plotlyServerURL": "https://plot.ly"
       },
       "data": [
        {
         "close": [
          4701.52979,
          4701.52979,
          4701.77979,
          4702.02979,
          4701.77979,
          4701.02979,
          4702.77979,
          4702.02979,
          4701.02979,
          4700.52002,
          4701.77979,
          4701.02979,
          4700.52002,
          4700.02002,
          4701.02979,
          4699.27002,
          4699.27002,
          4698.27002,
          4699.27002,
          4698.77002,
          4698.52002,
          4698.27002,
          4701.77979,
          4702.27979,
          4703.52979,
          4702.02979,
          4698.77002,
          4698.52002,
          4696.27002,
          4693.00977,
          4693.50977,
          4692.75977,
          4692.75977,
          4692.75977,
          4693.00977,
          4692.75977,
          4693.00977,
          4692.75977,
          4692.25977,
          4692.50977,
          4692.25977,
          4692.50977,
          4692.25977,
          4692.50977,
          4692.00977,
          4691.75977,
          4691.75977,
          4691.75977,
          4692.25977,
          4691.50977,
          4691.50977,
          4691.25977,
          4691.00977,
          4692.00977,
          4691.25977,
          4691.50977,
          4691.25977,
          4691.25977,
          4691.00977,
          4691.25977
         ],
         "high": [
          4702.52979,
          4702.02979,
          4702.27979,
          4702.02979,
          4702.02979,
          4702.77979,
          4702.77979,
          4702.02979,
          4701.02979,
          4701.77979,
          4701.77979,
          4701.27979,
          4700.52002,
          4700.77002,
          4701.02979,
          4699.52002,
          4700.02002,
          4699.02002,
          4699.27002,
          4700.27002,
          4698.52002,
          4701.52979,
          4702.77979,
          4704.77979,
          4704.27979,
          4702.27979,
          4698.77002,
          4698.77002,
          4696.52002,
          4694.00977,
          4695.77002,
          4693.50977,
          4693.50977,
          4693.25977,
          4693.25977,
          4693.00977,
          4693.00977,
          4692.75977,
          4692.25977,
          4692.75977,
          4692.50977,
          4692.75977,
          4692.25977,
          4692.75977,
          4692.25977,
          4692.00977,
          4692.25977,
          4692.75977,
          4692.25977,
          4691.75977,
          4691.50977,
          4691.50977,
          4691.75977,
          4692.25977,
          4691.75977,
          4691.50977,
          4691.50977,
          4691.25977,
          4691.25977,
          4692.00977
         ],
         "low": [
          4701.02979,
          4701.02979,
          4701.77979,
          4701.27979,
          4701.27979,
          4701.02979,
          4702.27979,
          4701.27979,
          4700.02002,
          4700.27002,
          4700.77002,
          4700.52002,
          4699.77002,
          4699.27002,
          4699.27002,
          4697.77002,
          4697.77002,
          4698.02002,
          4698.02002,
          4698.77002,
          4698.27002,
          4698.02002,
          4701.77979,
          4702.27979,
          4701.77979,
          4699.02002,
          4697.77002,
          4695.52002,
          4691.75977,
          4690.50977,
          4691.75977,
          4692.25977,
          4692.25977,
          4692.75977,
          4692.75977,
          4692.75977,
          4692.75977,
          4692.25977,
          4692.00977,
          4692.25977,
          4692.25977,
          4692.00977,
          4692.25977,
          4692.25977,
          4691.25977,
          4691.25977,
          4691.75977,
          4691.75977,
          4691.50977,
          4691.00977,
          4691.00977,
          4691.25977,
          4691.00977,
          4691.50977,
          4691.25977,
          4691.00977,
          4691.25977,
          4691.00977,
          4691.00977,
          4691.25977
         ],
         "open": [
          4701.77979,
          4702.02979,
          4701.77979,
          4701.52979,
          4701.27979,
          4702.52979,
          4702.27979,
          4701.27979,
          4700.27002,
          4701.52979,
          4701.27979,
          4700.77002,
          4700.27002,
          4700.77002,
          4699.52002,
          4699.52002,
          4698.02002,
          4699.02002,
          4698.52002,
          4699.52002,
          4698.52002,
          4701.52979,
          4702.52979,
          4703.77979,
          4701.77979,
          4699.02002,
          4698.27002,
          4696.02002,
          4692.75977,
          4693.75977,
          4692.50977,
          4693.00977,
          4693.00977,
          4692.75977,
          4693.00977,
          4692.75977,
          4693.00977,
          4692.50977,
          4692.25977,
          4692.25977,
          4692.25977,
          4692.00977,
          4692.25977,
          4692.25977,
          4691.50977,
          4692.00977,
          4692.25977,
          4692.50977,
          4691.75977,
          4691.25977,
          4691.00977,
          4691.25977,
          4691.75977,
          4691.50977,
          4691.75977,
          4691.50977,
          4691.50977,
          4691.00977,
          4691.00977,
          4692.00977
         ],
         "type": "candlestick",
         "x": [
          "2021-11-05T13:00:00",
          "2021-11-05T12:59:00",
          "2021-11-05T12:58:00",
          "2021-11-05T12:57:00",
          "2021-11-05T12:56:00",
          "2021-11-05T12:55:00",
          "2021-11-05T12:54:00",
          "2021-11-05T12:53:00",
          "2021-11-05T12:52:00",
          "2021-11-05T12:51:00",
          "2021-11-05T12:50:00",
          "2021-11-05T12:49:00",
          "2021-11-05T12:48:00",
          "2021-11-05T12:47:00",
          "2021-11-05T12:46:00",
          "2021-11-05T12:45:00",
          "2021-11-05T12:44:00",
          "2021-11-05T12:43:00",
          "2021-11-05T12:42:00",
          "2021-11-05T12:41:00",
          "2021-11-05T12:40:00",
          "2021-11-05T12:39:00",
          "2021-11-05T12:38:00",
          "2021-11-05T12:37:00",
          "2021-11-05T12:36:00",
          "2021-11-05T12:35:00",
          "2021-11-05T12:34:00",
          "2021-11-05T12:33:00",
          "2021-11-05T12:32:00",
          "2021-11-05T12:31:00",
          "2021-11-05T12:30:00",
          "2021-11-05T12:29:00",
          "2021-11-05T12:28:00",
          "2021-11-05T12:27:00",
          "2021-11-05T12:26:00",
          "2021-11-05T12:25:00",
          "2021-11-05T12:24:00",
          "2021-11-05T12:23:00",
          "2021-11-05T12:22:00",
          "2021-11-05T12:21:00",
          "2021-11-05T12:20:00",
          "2021-11-05T12:19:00",
          "2021-11-05T12:18:00",
          "2021-11-05T12:17:00",
          "2021-11-05T12:16:00",
          "2021-11-05T12:15:00",
          "2021-11-05T12:14:00",
          "2021-11-05T12:13:00",
          "2021-11-05T12:12:00",
          "2021-11-05T12:11:00",
          "2021-11-05T12:10:00",
          "2021-11-05T12:09:00",
          "2021-11-05T12:08:00",
          "2021-11-05T12:07:00",
          "2021-11-05T12:06:00",
          "2021-11-05T12:05:00",
          "2021-11-05T12:04:00",
          "2021-11-05T12:03:00",
          "2021-11-05T12:02:00",
          "2021-11-05T12:01:00"
         ]
        }
       ],
       "layout": {
        "annotations": [
         {
          "showarrow": false,
          "text": "US non Payrolls Release",
          "x": "2021-11-05T12:30:00",
          "xanchor": "left",
          "xref": "x",
          "y": 1.2,
          "yref": "paper"
         }
        ],
        "autosize": true,
        "shapes": [
         {
          "line": {
           "width": 2
          },
          "x0": "2021-11-05T12:30:00",
          "x1": "2021-11-05T12:30:00",
          "xref": "x",
          "y0": 0,
          "y1": 1,
          "yref": "paper"
         }
        ],
        "template": {
         "data": {
          "bar": [
           {
            "error_x": {
             "color": "#2a3f5f"
            },
            "error_y": {
             "color": "#2a3f5f"
            },
            "marker": {
             "line": {
              "color": "#E5ECF6",
              "width": 0.5
             },
             "pattern": {
              "fillmode": "overlay",
              "size": 10,
              "solidity": 0.2
             }
            },
            "type": "bar"
           }
          ],
          "barpolar": [
           {
            "marker": {
             "line": {
              "color": "#E5ECF6",
              "width": 0.5
             },
             "pattern": {
              "fillmode": "overlay",
              "size": 10,
              "solidity": 0.2
             }
            },
            "type": "barpolar"
           }
          ],
          "carpet": [
           {
            "aaxis": {
             "endlinecolor": "#2a3f5f",
             "gridcolor": "white",
             "linecolor": "white",
             "minorgridcolor": "white",
             "startlinecolor": "#2a3f5f"
            },
            "baxis": {
             "endlinecolor": "#2a3f5f",
             "gridcolor": "white",
             "linecolor": "white",
             "minorgridcolor": "white",
             "startlinecolor": "#2a3f5f"
            },
            "type": "carpet"
           }
          ],
          "choropleth": [
           {
            "colorbar": {
             "outlinewidth": 0,
             "ticks": ""
            },
            "type": "choropleth"
           }
          ],
          "contour": [
           {
            "colorbar": {
             "outlinewidth": 0,
             "ticks": ""
            },
            "colorscale": [
             [
              0,
              "#0d0887"
             ],
             [
              0.1111111111111111,
              "#46039f"
             ],
             [
              0.2222222222222222,
              "#7201a8"
             ],
             [
              0.3333333333333333,
              "#9c179e"
             ],
             [
              0.4444444444444444,
              "#bd3786"
             ],
             [
              0.5555555555555556,
              "#d8576b"
             ],
             [
              0.6666666666666666,
              "#ed7953"
             ],
             [
              0.7777777777777778,
              "#fb9f3a"
             ],
             [
              0.8888888888888888,
              "#fdca26"
             ],
             [
              1,
              "#f0f921"
             ]
            ],
            "type": "contour"
           }
          ],
          "contourcarpet": [
           {
            "colorbar": {
             "outlinewidth": 0,
             "ticks": ""
            },
            "type": "contourcarpet"
           }
          ],
          "heatmap": [
           {
            "colorbar": {
             "outlinewidth": 0,
             "ticks": ""
            },
            "colorscale": [
             [
              0,
              "#0d0887"
             ],
             [
              0.1111111111111111,
              "#46039f"
             ],
             [
              0.2222222222222222,
              "#7201a8"
             ],
             [
              0.3333333333333333,
              "#9c179e"
             ],
             [
              0.4444444444444444,
              "#bd3786"
             ],
             [
              0.5555555555555556,
              "#d8576b"
             ],
             [
              0.6666666666666666,
              "#ed7953"
             ],
             [
              0.7777777777777778,
              "#fb9f3a"
             ],
             [
              0.8888888888888888,
              "#fdca26"
             ],
             [
              1,
              "#f0f921"
             ]
            ],
            "type": "heatmap"
           }
          ],
          "heatmapgl": [
           {
            "colorbar": {
             "outlinewidth": 0,
             "ticks": ""
            },
            "colorscale": [
             [
              0,
              "#0d0887"
             ],
             [
              0.1111111111111111,
              "#46039f"
             ],
             [
              0.2222222222222222,
              "#7201a8"
             ],
             [
              0.3333333333333333,
              "#9c179e"
             ],
             [
              0.4444444444444444,
              "#bd3786"
             ],
             [
              0.5555555555555556,
              "#d8576b"
             ],
             [
              0.6666666666666666,
              "#ed7953"
             ],
             [
              0.7777777777777778,
              "#fb9f3a"
             ],
             [
              0.8888888888888888,
              "#fdca26"
             ],
             [
              1,
              "#f0f921"
             ]
            ],
            "type": "heatmapgl"
           }
          ],
          "histogram": [
           {
            "marker": {
             "pattern": {
              "fillmode": "overlay",
              "size": 10,
              "solidity": 0.2
             }
            },
            "type": "histogram"
           }
          ],
          "histogram2d": [
           {
            "colorbar": {
             "outlinewidth": 0,
             "ticks": ""
            },
            "colorscale": [
             [
              0,
              "#0d0887"
             ],
             [
              0.1111111111111111,
              "#46039f"
             ],
             [
              0.2222222222222222,
              "#7201a8"
             ],
             [
              0.3333333333333333,
              "#9c179e"
             ],
             [
              0.4444444444444444,
              "#bd3786"
             ],
             [
              0.5555555555555556,
              "#d8576b"
             ],
             [
              0.6666666666666666,
              "#ed7953"
             ],
             [
              0.7777777777777778,
              "#fb9f3a"
             ],
             [
              0.8888888888888888,
              "#fdca26"
             ],
             [
              1,
              "#f0f921"
             ]
            ],
            "type": "histogram2d"
           }
          ],
          "histogram2dcontour": [
           {
            "colorbar": {
             "outlinewidth": 0,
             "ticks": ""
            },
            "colorscale": [
             [
              0,
              "#0d0887"
             ],
             [
              0.1111111111111111,
              "#46039f"
             ],
             [
              0.2222222222222222,
              "#7201a8"
             ],
             [
              0.3333333333333333,
              "#9c179e"
             ],
             [
              0.4444444444444444,
              "#bd3786"
             ],
             [
              0.5555555555555556,
              "#d8576b"
             ],
             [
              0.6666666666666666,
              "#ed7953"
             ],
             [
              0.7777777777777778,
              "#fb9f3a"
             ],
             [
              0.8888888888888888,
              "#fdca26"
             ],
             [
              1,
              "#f0f921"
             ]
            ],
            "type": "histogram2dcontour"
           }
          ],
          "mesh3d": [
           {
            "colorbar": {
             "outlinewidth": 0,
             "ticks": ""
            },
            "type": "mesh3d"
           }
          ],
          "parcoords": [
           {
            "line": {
             "colorbar": {
              "outlinewidth": 0,
              "ticks": ""
             }
            },
            "type": "parcoords"
           }
          ],
          "pie": [
           {
            "automargin": true,
            "type": "pie"
           }
          ],
          "scatter": [
           {
            "marker": {
             "colorbar": {
              "outlinewidth": 0,
              "ticks": ""
             }
            },
            "type": "scatter"
           }
          ],
          "scatter3d": [
           {
            "line": {
             "colorbar": {
              "outlinewidth": 0,
              "ticks": ""
             }
            },
            "marker": {
             "colorbar": {
              "outlinewidth": 0,
              "ticks": ""
             }
            },
            "type": "scatter3d"
           }
          ],
          "scattercarpet": [
           {
            "marker": {
             "colorbar": {
              "outlinewidth": 0,
              "ticks": ""
             }
            },
            "type": "scattercarpet"
           }
          ],
          "scattergeo": [
           {
            "marker": {
             "colorbar": {
              "outlinewidth": 0,
              "ticks": ""
             }
            },
            "type": "scattergeo"
           }
          ],
          "scattergl": [
           {
            "marker": {
             "colorbar": {
              "outlinewidth": 0,
              "ticks": ""
             }
            },
            "type": "scattergl"
           }
          ],
          "scattermapbox": [
           {
            "marker": {
             "colorbar": {
              "outlinewidth": 0,
              "ticks": ""
             }
            },
            "type": "scattermapbox"
           }
          ],
          "scatterpolar": [
           {
            "marker": {
             "colorbar": {
              "outlinewidth": 0,
              "ticks": ""
             }
            },
            "type": "scatterpolar"
           }
          ],
          "scatterpolargl": [
           {
            "marker": {
             "colorbar": {
              "outlinewidth": 0,
              "ticks": ""
             }
            },
            "type": "scatterpolargl"
           }
          ],
          "scatterternary": [
           {
            "marker": {
             "colorbar": {
              "outlinewidth": 0,
              "ticks": ""
             }
            },
            "type": "scatterternary"
           }
          ],
          "surface": [
           {
            "colorbar": {
             "outlinewidth": 0,
             "ticks": ""
            },
            "colorscale": [
             [
              0,
              "#0d0887"
             ],
             [
              0.1111111111111111,
              "#46039f"
             ],
             [
              0.2222222222222222,
              "#7201a8"
             ],
             [
              0.3333333333333333,
              "#9c179e"
             ],
             [
              0.4444444444444444,
              "#bd3786"
             ],
             [
              0.5555555555555556,
              "#d8576b"
             ],
             [
              0.6666666666666666,
              "#ed7953"
             ],
             [
              0.7777777777777778,
              "#fb9f3a"
             ],
             [
              0.8888888888888888,
              "#fdca26"
             ],
             [
              1,
              "#f0f921"
             ]
            ],
            "type": "surface"
           }
          ],
          "table": [
           {
            "cells": {
             "fill": {
              "color": "#EBF0F8"
             },
             "line": {
              "color": "white"
             }
            },
            "header": {
             "fill": {
              "color": "#C8D4E3"
             },
             "line": {
              "color": "white"
             }
            },
            "type": "table"
           }
          ]
         },
         "layout": {
          "annotationdefaults": {
           "arrowcolor": "#2a3f5f",
           "arrowhead": 0,
           "arrowwidth": 1
          },
          "autotypenumbers": "strict",
          "coloraxis": {
           "colorbar": {
            "outlinewidth": 0,
            "ticks": ""
           }
          },
          "colorscale": {
           "diverging": [
            [
             0,
             "#8e0152"
            ],
            [
             0.1,
             "#c51b7d"
            ],
            [
             0.2,
             "#de77ae"
            ],
            [
             0.3,
             "#f1b6da"
            ],
            [
             0.4,
             "#fde0ef"
            ],
            [
             0.5,
             "#f7f7f7"
            ],
            [
             0.6,
             "#e6f5d0"
            ],
            [
             0.7,
             "#b8e186"
            ],
            [
             0.8,
             "#7fbc41"
            ],
            [
             0.9,
             "#4d9221"
            ],
            [
             1,
             "#276419"
            ]
           ],
           "sequential": [
            [
             0,
             "#0d0887"
            ],
            [
             0.1111111111111111,
             "#46039f"
            ],
            [
             0.2222222222222222,
             "#7201a8"
            ],
            [
             0.3333333333333333,
             "#9c179e"
            ],
            [
             0.4444444444444444,
             "#bd3786"
            ],
            [
             0.5555555555555556,
             "#d8576b"
            ],
            [
             0.6666666666666666,
             "#ed7953"
            ],
            [
             0.7777777777777778,
             "#fb9f3a"
            ],
            [
             0.8888888888888888,
             "#fdca26"
            ],
            [
             1,
             "#f0f921"
            ]
           ],
           "sequentialminus": [
            [
             0,
             "#0d0887"
            ],
            [
             0.1111111111111111,
             "#46039f"
            ],
            [
             0.2222222222222222,
             "#7201a8"
            ],
            [
             0.3333333333333333,
             "#9c179e"
            ],
            [
             0.4444444444444444,
             "#bd3786"
            ],
            [
             0.5555555555555556,
             "#d8576b"
            ],
            [
             0.6666666666666666,
             "#ed7953"
            ],
            [
             0.7777777777777778,
             "#fb9f3a"
            ],
            [
             0.8888888888888888,
             "#fdca26"
            ],
            [
             1,
             "#f0f921"
            ]
           ]
          },
          "colorway": [
           "#636efa",
           "#EF553B",
           "#00cc96",
           "#ab63fa",
           "#FFA15A",
           "#19d3f3",
           "#FF6692",
           "#B6E880",
           "#FF97FF",
           "#FECB52"
          ],
          "font": {
           "color": "#2a3f5f"
          },
          "geo": {
           "bgcolor": "white",
           "lakecolor": "white",
           "landcolor": "#E5ECF6",
           "showlakes": true,
           "showland": true,
           "subunitcolor": "white"
          },
          "hoverlabel": {
           "align": "left"
          },
          "hovermode": "closest",
          "mapbox": {
           "style": "light"
          },
          "paper_bgcolor": "white",
          "plot_bgcolor": "#E5ECF6",
          "polar": {
           "angularaxis": {
            "gridcolor": "white",
            "linecolor": "white",
            "ticks": ""
           },
           "bgcolor": "#E5ECF6",
           "radialaxis": {
            "gridcolor": "white",
            "linecolor": "white",
            "ticks": ""
           }
          },
          "scene": {
           "xaxis": {
            "backgroundcolor": "#E5ECF6",
            "gridcolor": "white",
            "gridwidth": 2,
            "linecolor": "white",
            "showbackground": true,
            "ticks": "",
            "zerolinecolor": "white"
           },
           "yaxis": {
            "backgroundcolor": "#E5ECF6",
            "gridcolor": "white",
            "gridwidth": 2,
            "linecolor": "white",
            "showbackground": true,
            "ticks": "",
            "zerolinecolor": "white"
           },
           "zaxis": {
            "backgroundcolor": "#E5ECF6",
            "gridcolor": "white",
            "gridwidth": 2,
            "linecolor": "white",
            "showbackground": true,
            "ticks": "",
            "zerolinecolor": "white"
           }
          },
          "shapedefaults": {
           "line": {
            "color": "#2a3f5f"
           }
          },
          "ternary": {
           "aaxis": {
            "gridcolor": "white",
            "linecolor": "white",
            "ticks": ""
           },
           "baxis": {
            "gridcolor": "white",
            "linecolor": "white",
            "ticks": ""
           },
           "bgcolor": "#E5ECF6",
           "caxis": {
            "gridcolor": "white",
            "linecolor": "white",
            "ticks": ""
           }
          },
          "title": {
           "x": 0.05
          },
          "xaxis": {
           "automargin": true,
           "gridcolor": "white",
           "linecolor": "white",
           "ticks": "",
           "title": {
            "standoff": 15
           },
           "zerolinecolor": "white",
           "zerolinewidth": 2
          },
          "yaxis": {
           "automargin": true,
           "gridcolor": "white",
           "linecolor": "white",
           "ticks": "",
           "title": {
            "standoff": 15
           },
           "zerolinecolor": "white",
           "zerolinewidth": 2
          }
         }
        },
        "title": {
         "text": "US non Payrolls Release influence on S&P 500"
        },
        "xaxis": {
         "autorange": true,
         "range": [
          "2021-11-05 12:00:30",
          "2021-11-05 13:00:30"
         ],
         "rangeslider": {
          "autorange": true,
          "range": [
           "2021-11-05 12:00:30",
           "2021-11-05 13:00:30"
          ],
          "yaxis": {
           "_template": null,
           "rangemode": "match"
          }
         },
         "type": "date"
        },
        "yaxis": {
         "autorange": true,
         "range": [
          4689.7169911111105,
          4705.572568888889
         ],
         "title": {
          "text": "SPX:IND"
         }
        }
       }
      },
      "image/png": "[encoded data removed]"
     },
     "metadata": {},
     "output_type": "display_data"
    }
   ],
   "source": [
    "\n",
    "df9 = s_p_intraday_november[475:535]\n",
    "\n",
    "fig = go.Figure(data=[go.Candlestick(x=df9['Date'],\n",
    "                open=df9['Open'], high=df9['High'],\n",
    "                low=df9['Low'], close=df9['Close'])\n",
    "                      ])\n",
    "\n",
    "fig.update_layout(\n",
    "    title='US non Payrolls Release influence on S&P 500',\n",
    "    yaxis_title='SPX:IND',\n",
    "    shapes = [dict(\n",
    "        x0='2021-11-05T12:30:00', x1='2021-11-05T12:30:00', y0=0, y1=1, xref='x', yref='paper',\n",
    "        line_width=2)],\n",
    "    annotations=[dict(\n",
    "        x='2021-11-05T12:30:00', y=1.20, xref='x', yref='paper',\n",
    "        showarrow=False, xanchor='left', text='US non Payrolls Release')]\n",
    ")\n",
    "\n",
    "fig.show(renderer='plotly_mimetype')"
   ]
  },
  {
   "cell_type": "code",
   "execution_count": null,
   "id": "3c705d10-cfa6-4994-9d87-811aa0b6ebc7",
   "metadata": {},
   "outputs": [],
   "source": [
    "# tennessee.matos@tradingeconomics.com "
   ]
  }
 ],
 "metadata": {
  "kernelspec": {
   "display_name": "Python 3",
   "language": "python",
   "name": "python3"
  },
  "language_info": {
   "codemirror_mode": {
    "name": "ipython",
    "version": 3
   },
   "file_extension": ".py",
   "mimetype": "text/x-python",
   "name": "python",
   "nbconvert_exporter": "python",
   "pygments_lexer": "ipython3",
   "version": "3.7.3"
  }
 },
 "nbformat": 4,
 "nbformat_minor": 5
}
