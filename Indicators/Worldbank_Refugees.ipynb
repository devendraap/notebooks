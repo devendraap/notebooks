{
 "cells": [
  {
   "cell_type": "raw",
   "id": "cheap-extreme",
   "metadata": {},
   "source": [
    "Importing dependencies"
   ]
  },
  {
   "cell_type": "code",
   "execution_count": 1,
   "id": "severe-express",
   "metadata": {},
   "outputs": [],
   "source": [
    "import tradingeconomics as te\n",
    "import matplotlib.pyplot as plt\n",
    "import pandas as pd"
   ]
  },
  {
   "cell_type": "raw",
   "id": "instant-there",
   "metadata": {},
   "source": [
    "API login"
   ]
  },
  {
   "cell_type": "code",
   "execution_count": 2,
   "id": "brave-complement",
   "metadata": {},
   "outputs": [
    {
     "data": {
      "text/plain": [
       ""
      ]
     },
     "execution_count": 2,
     "metadata": {},
     "output_type": "execute_result"
    }
   ],
   "source": [
    "te.login(); # Signup for a free API key at https://developer.tradingeconomics.com/"
   ]
  },
  {
   "cell_type": "raw",
   "id": "functioning-estimate",
   "metadata": {},
   "source": [
    "Importing data"
   ]
  },
  {
   "cell_type": "code",
   "execution_count": 3,
   "id": "supreme-gothic",
   "metadata": {},
   "outputs": [],
   "source": [
    "\n",
    "raw_asylum_df = te.getWBIndicator(series_code = 'SM.POP.REFG', output_type='df')\n",
    "raw_origin_df = te.getWBIndicator(series_code = 'SM.POP.REFG.OR', output_type='df')\n"
   ]
  },
  {
   "cell_type": "raw",
   "id": "documentary-playlist",
   "metadata": {},
   "source": [
    "Data Manipulation"
   ]
  },
  {
   "cell_type": "code",
   "execution_count": 4,
   "id": "spectacular-beijing",
   "metadata": {},
   "outputs": [
    {
     "data": {
      "text/html": [
       "<div>\n",
       "<style scoped>\n",
       "    .dataframe tbody tr th:only-of-type {\n",
       "        vertical-align: middle;\n",
       "    }\n",
       "\n",
       "    .dataframe tbody tr th {\n",
       "        vertical-align: top;\n",
       "    }\n",
       "\n",
       "    .dataframe thead th {\n",
       "        text-align: right;\n",
       "    }\n",
       "</style>\n",
       "<table border=\"1\" class=\"dataframe\">\n",
       "  <thead>\n",
       "    <tr style=\"text-align: right;\">\n",
       "      <th></th>\n",
       "      <th>Number of Refugees (Country Origin)</th>\n",
       "      <th>Number of Asylum Requests</th>\n",
       "    </tr>\n",
       "    <tr>\n",
       "      <th>Country</th>\n",
       "      <th></th>\n",
       "      <th></th>\n",
       "    </tr>\n",
       "  </thead>\n",
       "  <tbody>\n",
       "    <tr>\n",
       "      <th>South Asia</th>\n",
       "      <td>3026497.0</td>\n",
       "      <td>2562316.0</td>\n",
       "    </tr>\n",
       "    <tr>\n",
       "      <th>Afghanistan</th>\n",
       "      <td>2728853.0</td>\n",
       "      <td>72227.0</td>\n",
       "    </tr>\n",
       "    <tr>\n",
       "      <th>South Sudan</th>\n",
       "      <td>2234814.0</td>\n",
       "      <td>298309.0</td>\n",
       "    </tr>\n",
       "    <tr>\n",
       "      <th>Myanmar</th>\n",
       "      <td>1078268.0</td>\n",
       "      <td>0.0</td>\n",
       "    </tr>\n",
       "    <tr>\n",
       "      <th>Somalia</th>\n",
       "      <td>905109.0</td>\n",
       "      <td>17882.0</td>\n",
       "    </tr>\n",
       "    <tr>\n",
       "      <th>Sudan</th>\n",
       "      <td>734947.0</td>\n",
       "      <td>1055489.0</td>\n",
       "    </tr>\n",
       "    <tr>\n",
       "      <th>Central African Republic</th>\n",
       "      <td>610203.0</td>\n",
       "      <td>7170.0</td>\n",
       "    </tr>\n",
       "    <tr>\n",
       "      <th>Eritrea</th>\n",
       "      <td>505118.0</td>\n",
       "      <td>199.0</td>\n",
       "    </tr>\n",
       "    <tr>\n",
       "      <th>Burundi</th>\n",
       "      <td>381508.0</td>\n",
       "      <td>78465.0</td>\n",
       "    </tr>\n",
       "    <tr>\n",
       "      <th>Iraq</th>\n",
       "      <td>344460.0</td>\n",
       "      <td>273986.0</td>\n",
       "    </tr>\n",
       "    <tr>\n",
       "      <th>Vietnam</th>\n",
       "      <td>316441.0</td>\n",
       "      <td>1.0</td>\n",
       "    </tr>\n",
       "    <tr>\n",
       "      <th>Nigeria</th>\n",
       "      <td>295569.0</td>\n",
       "      <td>54157.0</td>\n",
       "    </tr>\n",
       "    <tr>\n",
       "      <th>Rwanda</th>\n",
       "      <td>246698.0</td>\n",
       "      <td>145054.0</td>\n",
       "    </tr>\n",
       "    <tr>\n",
       "      <th>China</th>\n",
       "      <td>212863.0</td>\n",
       "      <td>303379.0</td>\n",
       "    </tr>\n",
       "    <tr>\n",
       "      <th>Colombia</th>\n",
       "      <td>189448.0</td>\n",
       "      <td>634.0</td>\n",
       "    </tr>\n",
       "  </tbody>\n",
       "</table>\n",
       "</div>"
      ],
      "text/plain": [
       "                          Number of Refugees (Country Origin)  \\\n",
       "Country                                                         \n",
       "South Asia                                          3026497.0   \n",
       "Afghanistan                                         2728853.0   \n",
       "South Sudan                                         2234814.0   \n",
       "Myanmar                                             1078268.0   \n",
       "Somalia                                              905109.0   \n",
       "Sudan                                                734947.0   \n",
       "Central African Republic                             610203.0   \n",
       "Eritrea                                              505118.0   \n",
       "Burundi                                              381508.0   \n",
       "Iraq                                                 344460.0   \n",
       "Vietnam                                              316441.0   \n",
       "Nigeria                                              295569.0   \n",
       "Rwanda                                               246698.0   \n",
       "China                                                212863.0   \n",
       "Colombia                                             189448.0   \n",
       "\n",
       "                          Number of Asylum Requests  \n",
       "Country                                              \n",
       "South Asia                                2562316.0  \n",
       "Afghanistan                                 72227.0  \n",
       "South Sudan                                298309.0  \n",
       "Myanmar                                         0.0  \n",
       "Somalia                                     17882.0  \n",
       "Sudan                                     1055489.0  \n",
       "Central African Republic                     7170.0  \n",
       "Eritrea                                       199.0  \n",
       "Burundi                                     78465.0  \n",
       "Iraq                                       273986.0  \n",
       "Vietnam                                         1.0  \n",
       "Nigeria                                     54157.0  \n",
       "Rwanda                                     145054.0  \n",
       "China                                      303379.0  \n",
       "Colombia                                      634.0  "
      ]
     },
     "execution_count": 4,
     "metadata": {},
     "output_type": "execute_result"
    }
   ],
   "source": [
    "asylum_df = raw_asylum_df.loc[raw_asylum_df['description'] == 'Refugee population by country or territory of asylum']\n",
    "asylum_df = asylum_df[['last','country']].rename(columns={'last':'Number of Asylum Requests','country': 'Country'}).set_index('Country')\n",
    "asylum_df = asylum_df.sort_values(by='Number of Asylum Requests', ascending=False)\n",
    "\n",
    "origin_df = raw_origin_df[['last','country']].rename(columns={'last':'Number of Refugees (Country Origin)','country': 'Country'}).set_index('Country')\n",
    "origin_df = origin_df.sort_values(by='Number of Refugees (Country Origin)', ascending=False)\n",
    "\n",
    "\n",
    "df = pd.merge(origin_df, asylum_df, on='Country')\n",
    "\n",
    "df = df[df.index != 'World']  \n",
    "df = df[df.index != 'Euro area']\n",
    "df = df[df.index != 'European Union']\n",
    "\n",
    "\n",
    "df = df.sort_values(by='Number of Refugees (Country Origin)', ascending=False)\n",
    "df = df.head(15)\n",
    "\n",
    "df"
   ]
  },
  {
   "cell_type": "raw",
   "id": "olympic-camel",
   "metadata": {},
   "source": [
    "Plotting"
   ]
  },
  {
   "cell_type": "code",
   "execution_count": 5,
   "id": "cardiac-latter",
   "metadata": {},
   "outputs": [
    {
     "data": {
      "image/png": "[encoded data removed]",
      "text/plain": [
       "<Figure size 1152x648 with 1 Axes>"
      ]
     },
     "metadata": {
      "needs_background": "light"
     },
     "output_type": "display_data"
    }
   ],
   "source": [
    "\n",
    "color_dict = {'Number of Refugees (Country Origin)': 'gray', 'Number of Asylum Requests': 'tomato'}\n",
    "\n",
    "df.plot(\n",
    "    figsize=(16, 9),\n",
    "    kind='bar',\n",
    "    width=0.8,\n",
    "    zorder=3,\n",
    "    color=[color_dict.get(x, '#333333') for x in df.columns],\n",
    "    fontsize=12\n",
    ")\n",
    "\n",
    "ax = plt.gca()\n",
    "\n",
    "plt.setp(\n",
    "    ax.get_xticklabels(),\n",
    "    rotation=70,\n",
    "    ha='right',\n",
    "    rotation_mode='anchor',\n",
    "    fontsize=12\n",
    ")\n",
    "\n",
    "plt.yticks(list(plt.yticks()[0]) + [7.5])\n",
    "ax.yaxis.grid(zorder=0)\n",
    "ax.set_title('Top 15 Refugees Origin Countries comparing with Asylum Requests', color='black', size=16)\n",
    "plt.xlabel('', fontsize=13)\n",
    "plt.ylabel('Number of refugees', fontsize=13)\n",
    "plt.tight_layout()"
   ]
  },
  {
   "cell_type": "code",
   "execution_count": null,
   "id": "131d4987",
   "metadata": {},
   "outputs": [],
   "source": []
  }
 ],
 "metadata": {
  "kernelspec": {
   "display_name": "Python 3",
   "language": "python",
   "name": "python3"
  },
  "language_info": {
   "codemirror_mode": {
    "name": "ipython",
    "version": 3
   },
   "file_extension": ".py",
   "mimetype": "text/x-python",
   "name": "python",
   "nbconvert_exporter": "python",
   "pygments_lexer": "ipython3",
   "version": "3.7.3"
  },
  "metadata": {
   "interpreter": {
    "hash": "aee8b7b246df8f9039afb4144a1f6fd8d2ca17a180786b69acc140d282b71a49"
   }
  }
 },
 "nbformat": 4,
 "nbformat_minor": 5
}
