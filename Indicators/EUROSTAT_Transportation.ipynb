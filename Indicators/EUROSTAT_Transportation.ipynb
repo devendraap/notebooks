{
 "cells": [
  {
   "cell_type": "raw",
   "id": "primary-bachelor",
   "metadata": {},
   "source": [
    "Importing dependencies"
   ]
  },
  {
   "cell_type": "code",
   "execution_count": 1,
   "id": "derived-violence",
   "metadata": {},
   "outputs": [],
   "source": [
    "import tradingeconomics as te\n",
    "from datetime import datetime, timedelta, date\n",
    "import matplotlib.pyplot as plt\n",
    "import pandas as pd"
   ]
  },
  {
   "cell_type": "raw",
   "id": "initial-mambo",
   "metadata": {},
   "source": [
    "API login"
   ]
  },
  {
   "cell_type": "code",
   "execution_count": 2,
   "id": "monthly-style",
   "metadata": {},
   "outputs": [],
   "source": [
    "te.login(); # Signup for a free API key at https://developer.tradingeconomics.com/"
   ]
  },
  {
   "cell_type": "raw",
   "id": "ae2d6a8a-a004-4b0a-bd4d-4343569058f8",
   "metadata": {},
   "source": [
    "Importing and Treating Data"
   ]
  },
  {
   "cell_type": "code",
   "execution_count": 3,
   "id": "c5209601-f264-4071-a7b6-f773177f6541",
   "metadata": {},
   "outputs": [],
   "source": [
    "endDate = str((datetime.now() + timedelta(days=1)).date())"
   ]
  },
  {
   "cell_type": "code",
   "execution_count": 4,
   "id": "incorrect-thumb",
   "metadata": {},
   "outputs": [
    {
     "data": {
      "text/html": [
       "<div>\n",
       "<style scoped>\n",
       "    .dataframe tbody tr th:only-of-type {\n",
       "        vertical-align: middle;\n",
       "    }\n",
       "\n",
       "    .dataframe tbody tr th {\n",
       "        vertical-align: top;\n",
       "    }\n",
       "\n",
       "    .dataframe thead th {\n",
       "        text-align: right;\n",
       "    }\n",
       "</style>\n",
       "<table border=\"1\" class=\"dataframe\">\n",
       "  <thead>\n",
       "    <tr style=\"text-align: right;\">\n",
       "      <th></th>\n",
       "      <th>ID</th>\n",
       "      <th>Date</th>\n",
       "      <th>Value</th>\n",
       "      <th>LastUpdate</th>\n",
       "    </tr>\n",
       "  </thead>\n",
       "  <tbody>\n",
       "    <tr>\n",
       "      <th>0</th>\n",
       "      <td>78963</td>\n",
       "      <td>2021-09-30T00:00:00</td>\n",
       "      <td>94.27</td>\n",
       "      <td>2021-10-20T11:44:00</td>\n",
       "    </tr>\n",
       "    <tr>\n",
       "      <th>1</th>\n",
       "      <td>78963</td>\n",
       "      <td>2021-08-31T00:00:00</td>\n",
       "      <td>98.04</td>\n",
       "      <td>2021-09-17T11:39:00</td>\n",
       "    </tr>\n",
       "    <tr>\n",
       "      <th>2</th>\n",
       "      <td>78963</td>\n",
       "      <td>2021-07-31T00:00:00</td>\n",
       "      <td>96.34</td>\n",
       "      <td>2021-08-18T11:38:00</td>\n",
       "    </tr>\n",
       "    <tr>\n",
       "      <th>3</th>\n",
       "      <td>78963</td>\n",
       "      <td>2021-06-30T00:00:00</td>\n",
       "      <td>91.33</td>\n",
       "      <td>2021-07-30T11:42:00</td>\n",
       "    </tr>\n",
       "    <tr>\n",
       "      <th>4</th>\n",
       "      <td>78963</td>\n",
       "      <td>2021-05-31T00:00:00</td>\n",
       "      <td>90.94</td>\n",
       "      <td>2021-06-17T11:40:00</td>\n",
       "    </tr>\n",
       "  </tbody>\n",
       "</table>\n",
       "</div>"
      ],
      "text/plain": [
       "      ID                 Date  Value           LastUpdate\n",
       "0  78963  2021-09-30T00:00:00  94.27  2021-10-20T11:44:00\n",
       "1  78963  2021-08-31T00:00:00  98.04  2021-09-17T11:39:00\n",
       "2  78963  2021-07-31T00:00:00  96.34  2021-08-18T11:38:00\n",
       "3  78963  2021-06-30T00:00:00  91.33  2021-07-30T11:42:00\n",
       "4  78963  2021-05-31T00:00:00  90.94  2021-06-17T11:40:00"
      ]
     },
     "execution_count": 4,
     "metadata": {},
     "output_type": "execute_result"
    }
   ],
   "source": [
    "raw_hist_general_df = te.getHistoricalEurostat(ID = '78963', initDate = '2018-01-01', endDate = endDate, output_type = 'df')\n",
    "raw_hist_general_df.head()"
   ]
  },
  {
   "cell_type": "code",
   "execution_count": 5,
   "id": "exceptional-classic",
   "metadata": {},
   "outputs": [
    {
     "data": {
      "text/html": [
       "<div>\n",
       "<style scoped>\n",
       "    .dataframe tbody tr th:only-of-type {\n",
       "        vertical-align: middle;\n",
       "    }\n",
       "\n",
       "    .dataframe tbody tr th {\n",
       "        vertical-align: top;\n",
       "    }\n",
       "\n",
       "    .dataframe thead th {\n",
       "        text-align: right;\n",
       "    }\n",
       "</style>\n",
       "<table border=\"1\" class=\"dataframe\">\n",
       "  <thead>\n",
       "    <tr style=\"text-align: right;\">\n",
       "      <th></th>\n",
       "      <th>ID</th>\n",
       "      <th>Date</th>\n",
       "      <th>Value</th>\n",
       "      <th>LastUpdate</th>\n",
       "    </tr>\n",
       "  </thead>\n",
       "  <tbody>\n",
       "    <tr>\n",
       "      <th>0</th>\n",
       "      <td>75708</td>\n",
       "      <td>2021-09-30T00:00:00</td>\n",
       "      <td>100.82</td>\n",
       "      <td>2021-10-20T11:43:00</td>\n",
       "    </tr>\n",
       "    <tr>\n",
       "      <th>1</th>\n",
       "      <td>75708</td>\n",
       "      <td>2021-08-31T00:00:00</td>\n",
       "      <td>121.12</td>\n",
       "      <td>2021-09-17T11:38:00</td>\n",
       "    </tr>\n",
       "    <tr>\n",
       "      <th>2</th>\n",
       "      <td>75708</td>\n",
       "      <td>2021-07-31T00:00:00</td>\n",
       "      <td>112.13</td>\n",
       "      <td>2021-08-18T11:37:00</td>\n",
       "    </tr>\n",
       "    <tr>\n",
       "      <th>3</th>\n",
       "      <td>75708</td>\n",
       "      <td>2021-06-30T00:00:00</td>\n",
       "      <td>85.20</td>\n",
       "      <td>2021-07-30T11:40:00</td>\n",
       "    </tr>\n",
       "    <tr>\n",
       "      <th>4</th>\n",
       "      <td>75708</td>\n",
       "      <td>2021-05-31T00:00:00</td>\n",
       "      <td>83.14</td>\n",
       "      <td>2021-06-17T11:38:00</td>\n",
       "    </tr>\n",
       "  </tbody>\n",
       "</table>\n",
       "</div>"
      ],
      "text/plain": [
       "      ID                 Date   Value           LastUpdate\n",
       "0  75708  2021-09-30T00:00:00  100.82  2021-10-20T11:43:00\n",
       "1  75708  2021-08-31T00:00:00  121.12  2021-09-17T11:38:00\n",
       "2  75708  2021-07-31T00:00:00  112.13  2021-08-18T11:37:00\n",
       "3  75708  2021-06-30T00:00:00   85.20  2021-07-30T11:40:00\n",
       "4  75708  2021-05-31T00:00:00   83.14  2021-06-17T11:38:00"
      ]
     },
     "execution_count": 5,
     "metadata": {},
     "output_type": "execute_result"
    }
   ],
   "source": [
    "raw_hist_air_df=te.getHistoricalEurostat(ID = '75708', initDate = '2018-01-01', endDate = endDate, output_type = 'df')\n",
    "raw_hist_air_df.head()"
   ]
  },
  {
   "cell_type": "code",
   "execution_count": 6,
   "id": "9d84a060-a96b-48f3-a83b-a7b75b4527cb",
   "metadata": {},
   "outputs": [
    {
     "data": {
      "text/html": [
       "<div>\n",
       "<style scoped>\n",
       "    .dataframe tbody tr th:only-of-type {\n",
       "        vertical-align: middle;\n",
       "    }\n",
       "\n",
       "    .dataframe tbody tr th {\n",
       "        vertical-align: top;\n",
       "    }\n",
       "\n",
       "    .dataframe thead th {\n",
       "        text-align: right;\n",
       "    }\n",
       "</style>\n",
       "<table border=\"1\" class=\"dataframe\">\n",
       "  <thead>\n",
       "    <tr style=\"text-align: right;\">\n",
       "      <th></th>\n",
       "      <th>ID</th>\n",
       "      <th>Date</th>\n",
       "      <th>Value</th>\n",
       "      <th>LastUpdate</th>\n",
       "    </tr>\n",
       "  </thead>\n",
       "  <tbody>\n",
       "    <tr>\n",
       "      <th>0</th>\n",
       "      <td>78493</td>\n",
       "      <td>2021-09-30T00:00:00</td>\n",
       "      <td>96.54</td>\n",
       "      <td>2021-10-20T11:44:00</td>\n",
       "    </tr>\n",
       "    <tr>\n",
       "      <th>1</th>\n",
       "      <td>78493</td>\n",
       "      <td>2021-08-31T00:00:00</td>\n",
       "      <td>96.54</td>\n",
       "      <td>2021-09-17T11:39:00</td>\n",
       "    </tr>\n",
       "    <tr>\n",
       "      <th>2</th>\n",
       "      <td>78493</td>\n",
       "      <td>2021-07-31T00:00:00</td>\n",
       "      <td>96.54</td>\n",
       "      <td>2021-08-18T11:38:00</td>\n",
       "    </tr>\n",
       "    <tr>\n",
       "      <th>3</th>\n",
       "      <td>78493</td>\n",
       "      <td>2021-06-30T00:00:00</td>\n",
       "      <td>96.53</td>\n",
       "      <td>2021-07-30T11:41:00</td>\n",
       "    </tr>\n",
       "    <tr>\n",
       "      <th>4</th>\n",
       "      <td>78493</td>\n",
       "      <td>2021-05-31T00:00:00</td>\n",
       "      <td>96.53</td>\n",
       "      <td>2021-06-17T11:40:00</td>\n",
       "    </tr>\n",
       "  </tbody>\n",
       "</table>\n",
       "</div>"
      ],
      "text/plain": [
       "      ID                 Date  Value           LastUpdate\n",
       "0  78493  2021-09-30T00:00:00  96.54  2021-10-20T11:44:00\n",
       "1  78493  2021-08-31T00:00:00  96.54  2021-09-17T11:39:00\n",
       "2  78493  2021-07-31T00:00:00  96.54  2021-08-18T11:38:00\n",
       "3  78493  2021-06-30T00:00:00  96.53  2021-07-30T11:41:00\n",
       "4  78493  2021-05-31T00:00:00  96.53  2021-06-17T11:40:00"
      ]
     },
     "execution_count": 6,
     "metadata": {},
     "output_type": "execute_result"
    }
   ],
   "source": [
    "raw_hist_train_df=te.getHistoricalEurostat(ID = '78493', initDate = '2018-01-01', endDate = endDate, output_type = 'df')\n",
    "raw_hist_train_df.head()"
   ]
  },
  {
   "cell_type": "code",
   "execution_count": 7,
   "id": "meaningful-canon",
   "metadata": {},
   "outputs": [
    {
     "data": {
      "text/html": [
       "<div>\n",
       "<style scoped>\n",
       "    .dataframe tbody tr th:only-of-type {\n",
       "        vertical-align: middle;\n",
       "    }\n",
       "\n",
       "    .dataframe tbody tr th {\n",
       "        vertical-align: top;\n",
       "    }\n",
       "\n",
       "    .dataframe thead th {\n",
       "        text-align: right;\n",
       "    }\n",
       "</style>\n",
       "<table border=\"1\" class=\"dataframe\">\n",
       "  <thead>\n",
       "    <tr style=\"text-align: right;\">\n",
       "      <th></th>\n",
       "      <th>ID</th>\n",
       "      <th>Date</th>\n",
       "      <th>Value</th>\n",
       "      <th>LastUpdate</th>\n",
       "    </tr>\n",
       "  </thead>\n",
       "  <tbody>\n",
       "    <tr>\n",
       "      <th>0</th>\n",
       "      <td>77769</td>\n",
       "      <td>2021-09-30T00:00:00</td>\n",
       "      <td>90.73</td>\n",
       "      <td>2021-10-20T11:44:00</td>\n",
       "    </tr>\n",
       "    <tr>\n",
       "      <th>1</th>\n",
       "      <td>77769</td>\n",
       "      <td>2021-08-31T00:00:00</td>\n",
       "      <td>90.73</td>\n",
       "      <td>2021-09-17T11:38:00</td>\n",
       "    </tr>\n",
       "    <tr>\n",
       "      <th>2</th>\n",
       "      <td>77769</td>\n",
       "      <td>2021-07-31T00:00:00</td>\n",
       "      <td>90.64</td>\n",
       "      <td>2021-08-18T11:38:00</td>\n",
       "    </tr>\n",
       "    <tr>\n",
       "      <th>3</th>\n",
       "      <td>77769</td>\n",
       "      <td>2021-06-30T00:00:00</td>\n",
       "      <td>90.64</td>\n",
       "      <td>2021-07-30T11:41:00</td>\n",
       "    </tr>\n",
       "    <tr>\n",
       "      <th>4</th>\n",
       "      <td>77769</td>\n",
       "      <td>2021-05-31T00:00:00</td>\n",
       "      <td>90.58</td>\n",
       "      <td>2021-06-17T11:39:00</td>\n",
       "    </tr>\n",
       "  </tbody>\n",
       "</table>\n",
       "</div>"
      ],
      "text/plain": [
       "      ID                 Date  Value           LastUpdate\n",
       "0  77769  2021-09-30T00:00:00  90.73  2021-10-20T11:44:00\n",
       "1  77769  2021-08-31T00:00:00  90.73  2021-09-17T11:38:00\n",
       "2  77769  2021-07-31T00:00:00  90.64  2021-08-18T11:38:00\n",
       "3  77769  2021-06-30T00:00:00  90.64  2021-07-30T11:41:00\n",
       "4  77769  2021-05-31T00:00:00  90.58  2021-06-17T11:39:00"
      ]
     },
     "execution_count": 7,
     "metadata": {},
     "output_type": "execute_result"
    }
   ],
   "source": [
    "raw_hist_bus_df=te.getHistoricalEurostat(ID = '77769', initDate = '2018-01-01', endDate = endDate, output_type = 'df')\n",
    "raw_hist_bus_df.head()"
   ]
  },
  {
   "cell_type": "code",
   "execution_count": 8,
   "id": "f98d5443-5212-4a50-b9db-d9f5c657427d",
   "metadata": {},
   "outputs": [
    {
     "data": {
      "text/html": [
       "<div>\n",
       "<style scoped>\n",
       "    .dataframe tbody tr th:only-of-type {\n",
       "        vertical-align: middle;\n",
       "    }\n",
       "\n",
       "    .dataframe tbody tr th {\n",
       "        vertical-align: top;\n",
       "    }\n",
       "\n",
       "    .dataframe thead th {\n",
       "        text-align: right;\n",
       "    }\n",
       "</style>\n",
       "<table border=\"1\" class=\"dataframe\">\n",
       "  <thead>\n",
       "    <tr style=\"text-align: right;\">\n",
       "      <th></th>\n",
       "      <th>ID</th>\n",
       "      <th>Date</th>\n",
       "      <th>Value</th>\n",
       "      <th>LastUpdate</th>\n",
       "    </tr>\n",
       "  </thead>\n",
       "  <tbody>\n",
       "    <tr>\n",
       "      <th>0</th>\n",
       "      <td>85533</td>\n",
       "      <td>2021-09-30T00:00:00</td>\n",
       "      <td>91.86</td>\n",
       "      <td>2021-10-20T11:47:00</td>\n",
       "    </tr>\n",
       "    <tr>\n",
       "      <th>1</th>\n",
       "      <td>85533</td>\n",
       "      <td>2021-08-31T00:00:00</td>\n",
       "      <td>91.86</td>\n",
       "      <td>2021-09-17T11:41:00</td>\n",
       "    </tr>\n",
       "    <tr>\n",
       "      <th>2</th>\n",
       "      <td>85533</td>\n",
       "      <td>2021-07-31T00:00:00</td>\n",
       "      <td>91.86</td>\n",
       "      <td>2021-08-18T11:41:00</td>\n",
       "    </tr>\n",
       "    <tr>\n",
       "      <th>3</th>\n",
       "      <td>85533</td>\n",
       "      <td>2021-06-30T00:00:00</td>\n",
       "      <td>91.86</td>\n",
       "      <td>2021-07-30T11:44:00</td>\n",
       "    </tr>\n",
       "    <tr>\n",
       "      <th>4</th>\n",
       "      <td>85533</td>\n",
       "      <td>2021-05-31T00:00:00</td>\n",
       "      <td>91.86</td>\n",
       "      <td>2021-06-17T11:42:00</td>\n",
       "    </tr>\n",
       "  </tbody>\n",
       "</table>\n",
       "</div>"
      ],
      "text/plain": [
       "      ID                 Date  Value           LastUpdate\n",
       "0  85533  2021-09-30T00:00:00  91.86  2021-10-20T11:47:00\n",
       "1  85533  2021-08-31T00:00:00  91.86  2021-09-17T11:41:00\n",
       "2  85533  2021-07-31T00:00:00  91.86  2021-08-18T11:41:00\n",
       "3  85533  2021-06-30T00:00:00  91.86  2021-07-30T11:44:00\n",
       "4  85533  2021-05-31T00:00:00  91.86  2021-06-17T11:42:00"
      ]
     },
     "execution_count": 8,
     "metadata": {},
     "output_type": "execute_result"
    }
   ],
   "source": [
    "raw_hist_underground_df=te.getHistoricalEurostat(ID = '85533', initDate = '2018-01-01', endDate = endDate, output_type = 'df')\n",
    "raw_hist_underground_df.head()"
   ]
  },
  {
   "cell_type": "raw",
   "id": "outdoor-twist",
   "metadata": {},
   "source": [
    "Data Manipulation"
   ]
  },
  {
   "cell_type": "code",
   "execution_count": 9,
   "id": "prompt-declaration",
   "metadata": {},
   "outputs": [
    {
     "data": {
      "text/html": [
       "<div>\n",
       "<style scoped>\n",
       "    .dataframe tbody tr th:only-of-type {\n",
       "        vertical-align: middle;\n",
       "    }\n",
       "\n",
       "    .dataframe tbody tr th {\n",
       "        vertical-align: top;\n",
       "    }\n",
       "\n",
       "    .dataframe thead th {\n",
       "        text-align: right;\n",
       "    }\n",
       "</style>\n",
       "<table border=\"1\" class=\"dataframe\">\n",
       "  <thead>\n",
       "    <tr style=\"text-align: right;\">\n",
       "      <th></th>\n",
       "      <th>Air</th>\n",
       "      <th>Train</th>\n",
       "      <th>Bus</th>\n",
       "      <th>Underground</th>\n",
       "      <th>General</th>\n",
       "    </tr>\n",
       "    <tr>\n",
       "      <th>Date</th>\n",
       "      <th></th>\n",
       "      <th></th>\n",
       "      <th></th>\n",
       "      <th></th>\n",
       "      <th></th>\n",
       "    </tr>\n",
       "  </thead>\n",
       "  <tbody>\n",
       "    <tr>\n",
       "      <th>2021-09-30T00:00:00</th>\n",
       "      <td>100.82</td>\n",
       "      <td>96.54</td>\n",
       "      <td>90.73</td>\n",
       "      <td>91.86</td>\n",
       "      <td>94.27</td>\n",
       "    </tr>\n",
       "    <tr>\n",
       "      <th>2021-08-31T00:00:00</th>\n",
       "      <td>121.12</td>\n",
       "      <td>96.54</td>\n",
       "      <td>90.73</td>\n",
       "      <td>91.86</td>\n",
       "      <td>98.04</td>\n",
       "    </tr>\n",
       "    <tr>\n",
       "      <th>2021-07-31T00:00:00</th>\n",
       "      <td>112.13</td>\n",
       "      <td>96.54</td>\n",
       "      <td>90.64</td>\n",
       "      <td>91.86</td>\n",
       "      <td>96.34</td>\n",
       "    </tr>\n",
       "    <tr>\n",
       "      <th>2021-06-30T00:00:00</th>\n",
       "      <td>85.20</td>\n",
       "      <td>96.53</td>\n",
       "      <td>90.64</td>\n",
       "      <td>91.86</td>\n",
       "      <td>91.33</td>\n",
       "    </tr>\n",
       "    <tr>\n",
       "      <th>2021-05-31T00:00:00</th>\n",
       "      <td>83.14</td>\n",
       "      <td>96.53</td>\n",
       "      <td>90.58</td>\n",
       "      <td>91.86</td>\n",
       "      <td>90.94</td>\n",
       "    </tr>\n",
       "  </tbody>\n",
       "</table>\n",
       "</div>"
      ],
      "text/plain": [
       "                        Air  Train    Bus  Underground  General\n",
       "Date                                                           \n",
       "2021-09-30T00:00:00  100.82  96.54  90.73        91.86    94.27\n",
       "2021-08-31T00:00:00  121.12  96.54  90.73        91.86    98.04\n",
       "2021-07-31T00:00:00  112.13  96.54  90.64        91.86    96.34\n",
       "2021-06-30T00:00:00   85.20  96.53  90.64        91.86    91.33\n",
       "2021-05-31T00:00:00   83.14  96.53  90.58        91.86    90.94"
      ]
     },
     "execution_count": 9,
     "metadata": {},
     "output_type": "execute_result"
    }
   ],
   "source": [
    "general_df = raw_hist_general_df[['Date', 'Value']].rename(columns = {'Value': 'General'}).set_index('Date')\n",
    "air_df = raw_hist_air_df[['Date', 'Value']].rename(columns = {'Value': 'Air'}).set_index('Date')\n",
    "train_df = raw_hist_train_df[['Date', 'Value']].rename(columns = {'Value': 'Train'}).set_index('Date')\n",
    "bus_df = raw_hist_bus_df[['Date', 'Value']].rename(columns = {'Value': 'Bus'}).set_index('Date')\n",
    "underground_df = raw_hist_underground_df[['Date', 'Value']].rename(columns = {'Value': 'Underground'}).set_index('Date')\n",
    "\n",
    "df = pd.merge(pd.merge(air_df, train_df, on ='Date'), bus_df, on='Date')\n",
    "df = pd.merge(pd.merge(df, underground_df, on='Date'), general_df, on='Date')\n",
    "\n",
    "df.head()\n",
    "\n"
   ]
  },
  {
   "cell_type": "raw",
   "id": "neither-falls",
   "metadata": {},
   "source": [
    "Plotting"
   ]
  },
  {
   "cell_type": "code",
   "execution_count": 10,
   "id": "confused-burden",
   "metadata": {},
   "outputs": [
    {
     "data": {
      "image/png": "[encoded data removed]",
      "text/plain": [
       "<Figure size 1224x504 with 1 Axes>"
      ]
     },
     "metadata": {
      "needs_background": "light"
     },
     "output_type": "display_data"
    }
   ],
   "source": [
    "plt.subplots(figsize=(17, 7))\n",
    "\n",
    "plt.plot( pd.to_datetime(df.index.tolist()), df['Air'].values.tolist(), color='lightcoral', linewidth=3, label=\"Air\")\n",
    "plt.plot( pd.to_datetime(df.index.tolist()), df['Train'].values.tolist(), color='sandybrown', linewidth=3, label=\"Train\")\n",
    "plt.plot( pd.to_datetime(df.index.tolist()), df['Underground'].values.tolist(),  color='olivedrab', linewidth=3, label=\"Underground\")\n",
    "plt.plot( pd.to_datetime(df.index.tolist()), df['General'].values.tolist(),  color='steelblue', linewidth=3, label=\"General\")\n",
    "\n",
    "plt.legend(\n",
    "          loc=\"center left\",\n",
    "          bbox_to_anchor=(1, 0, 0.5, 1),\n",
    "          fontsize=12,\n",
    "          ncol=1,\n",
    "          title_fontsize=14,\n",
    "          borderpad=1)\n",
    "plt.grid(True)\n",
    "plt.ylabel('HICP* points', fontsize=13)\n",
    "plt.xlabel('*Harmonised index of consumer prices', fontsize=10)\n",
    "plt.title(\"Transport services prices\", size=20)\n",
    "plt.show()"
   ]
  }
 ],
 "metadata": {
  "kernelspec": {
   "display_name": "Python 3",
   "language": "python",
   "name": "python3"
  },
  "language_info": {
   "codemirror_mode": {
    "name": "ipython",
    "version": 3
   },
   "file_extension": ".py",
   "mimetype": "text/x-python",
   "name": "python",
   "nbconvert_exporter": "python",
   "pygments_lexer": "ipython3",
   "version": "3.7.3"
  }
 },
 "nbformat": 4,
 "nbformat_minor": 5
}
