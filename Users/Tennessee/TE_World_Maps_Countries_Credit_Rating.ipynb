{
 "cells": [
  {
   "cell_type": "markdown",
   "id": "02de4adc",
   "metadata": {},
   "source": [
    "## Getting World Map Countries Credit Rating"
   ]
  },
  {
   "cell_type": "markdown",
   "id": "9ab393b9",
   "metadata": {},
   "source": [
    "#### Importing Dependencies"
   ]
  },
  {
   "cell_type": "code",
   "execution_count": 1,
   "id": "ac0210d6-f6ff-450d-a513-7892514f0db5",
   "metadata": {},
   "outputs": [
    {
     "name": "stdout",
     "output_type": "stream",
     "text": [
      "pycountry                         20.7.3   \n"
     ]
    }
   ],
   "source": [
    "!pip list | grep -F pycountry                         "
   ]
  },
  {
   "cell_type": "code",
   "execution_count": 2,
   "id": "ba3e973f",
   "metadata": {},
   "outputs": [],
   "source": [
    "import tradingeconomics as te\n",
    "import pandas as pd\n",
    "import numpy as np\n",
    "import pycountry\n",
    "import plotly.graph_objects as go\n",
    "import plotly.express as px\n",
    "from IPython.display import Image"
   ]
  },
  {
   "cell_type": "markdown",
   "id": "d03b499a",
   "metadata": {},
   "source": [
    "#### API login\n"
   ]
  },
  {
   "cell_type": "code",
   "execution_count": 4,
   "id": "4b416966",
   "metadata": {},
   "outputs": [
    {
     "data": {
      "text/plain": [
       "'You are logged in as a jupyter:jupyter'"
      ]
     },
     "execution_count": 4,
     "metadata": {},
     "output_type": "execute_result"
    }
   ],
   "source": [
    "te.login() # Signup for a free API key at https://developer.tradingeconomics.com/"
   ]
  },
  {
   "cell_type": "markdown",
   "id": "36989706",
   "metadata": {},
   "source": [
    "### Function "
   ]
  },
  {
   "cell_type": "code",
   "execution_count": 5,
   "id": "4e922757-914f-4e32-ba8a-0cc7e83c5354",
   "metadata": {},
   "outputs": [],
   "source": [
    "def get_credit_ratings_world_map():\n",
    "\n",
    "    df = te.getRatings()\n",
    "\n",
    "    countriesWithoutISO = []\n",
    "\n",
    "    missing_countries = {\n",
    "        'Bolivia' : 'Bolivia, Plurinational State of',\n",
    "    'Cape Verde' : 'Cabo Verde',\n",
    "    'Cayman Islands      '  : 'Cayman Islands',   \n",
    "    'Czech Republic' : 'Czechia',\n",
    "    'European Union' : 'European Union',\n",
    "    \"Ivory Coast\" : \"Côte d'Ivoire\",\n",
    "    'Laos' : \"Lao People's Democratic Republic\",\n",
    "    'Macau' : 'Macao',\n",
    "    'Macedonia' : 'North Macedonia',\n",
    "    'Moldova' : 'Moldova, Republic of',\n",
    "    'Norway              '   : 'Norway',            \n",
    "    'Republic of the Congo' : 'Congo, The Democratic Republic of the',\n",
    "    'Russia' : 'Russian Federation',\n",
    "    'Singapore           '  : 'Singapore',          \n",
    "    'South Korea' : 'Korea, Republic of',\n",
    "    'St Vincent and the Grenadines' : 'Saint Vincent and the Grenadines',\n",
    "    'Swaziland' : 'Eswatini',\n",
    "    'Sweden              ' : 'Sweden',              \n",
    "    'Taiwan' : 'Taiwan, Province of China',\n",
    "    'Tanzania' : 'Tanzania, United Republic of',\n",
    "    'Turkey ': 'Turkey', \n",
    "    'Venezuela' : 'Venezuela, Bolivarian Republic of',\n",
    "    'Vietnam' : 'Viet Nam',\n",
    "        'Peru ':'Peru'\n",
    "    }\n",
    "\n",
    "    def get_iso3(country_full_name):\n",
    "                \"\"\"\n",
    "                    returns country symbol iso alpha 3 format \n",
    "                \"\"\"\n",
    "                symbol = None\n",
    "                iso = pycountry.countries.get(name=country_full_name)\n",
    "                if iso != None:\n",
    "                    symbol = iso.alpha_3\n",
    "                else:\n",
    "                    if country_full_name not in countriesWithoutISO:\n",
    "                        countriesWithoutISO.append(country_full_name)\n",
    "#                         print('Failed to get ISO for: ' + country_full_name)\n",
    "                return symbol\n",
    "\n",
    "    iso3_countries_names = []\n",
    "    corrected_countries_names_list = df['Country'].replace(missing_countries)   \n",
    "    df_corrected_countries_names = pd.DataFrame(corrected_countries_names_list)\n",
    "    df_corrected_countries_names['value'] = df['SP']\n",
    "\n",
    "    for item in df_corrected_countries_names['Country']:\n",
    "        iso3_countries_names.append(get_iso3(item))\n",
    "\n",
    "    df_corrected_countries_names['iso3'] = iso3_countries_names\n",
    "    df_corrected_countries_names\n",
    "    \n",
    "    final_df = df_corrected_countries_names.replace(\"\", np.nan)\n",
    "    final_df = final_df.replace(\"N/A\", np.nan)\n",
    "    final_df = final_df.dropna()\n",
    "    final_df['value_corrected'] = final_df['value'].str.replace(\"\tBBB\", \"BBB\", case=False, regex=True)\n",
    "    del final_df[\"value\"]\n",
    "    final_df\n",
    "\n",
    "\n",
    "#     fig = px.choropleth(df_corrected_countries_names, locations=\"iso3\",title= \"Countries Credits Rating - Source: Standard & Poor's\" ,\n",
    "#                         color=\"value\", \n",
    "#                         hover_name=\"Country\", # column to add to hover information\n",
    "#                         color_continuous_scale=px.colors.sequential.Plasma,\n",
    "                        \n",
    "#                         labels={'value':'Credit Ratings'})\n",
    "    \n",
    "    fig = px.choropleth(final_df, locations=\"iso3\",title= \"Countries Credits Rating - Source: Standard & Poor's\" ,\n",
    "                        color=\"value_corrected\", \n",
    "                        hover_name=\"Country\", # column to add to hover information\n",
    "                        color_discrete_sequence=px.colors.qualitative.Dark24,\n",
    "                        \n",
    "                        labels={'value_corrected':'Credit Ratings'})\n",
    "    \n",
    "    \n",
    "    fig.update_layout(margin={\"r\":0,\"t\":0,\"l\":0,\"b\":0})\n",
    "    \n",
    "    \n",
    "    \n",
    "    fig.show(renderer='plotly_mimetype')"
   ]
  },
  {
   "cell_type": "code",
   "execution_count": 6,
   "id": "e031ce92-a169-4cfe-ab24-bfcf62d5674b",
   "metadata": {},
   "outputs": [
    {
     "data": {
      "application/vnd.plotly.v1+json": {
       "config": {
        "plotlyServerURL": "https://plot.ly"
       },
       "data": [
        {
         "colorscale": [
          [
           0,
           "#2E91E5"
          ],
          [
           1,
           "#2E91E5"
          ]
         ],
         "geo": "geo",
         "hovertemplate": "<b>%{hovertext}</b><br><br>Credit Ratings=B+<br>iso3=%{location}<extra></extra>",
         "hovertext": [
          "Albania",
          "Armenia",
          "Bahamas",
          "Bahrain",
          "Benin",
          "Bolivia, Plurinational State of",
          "Fiji",
          "Jamaica",
          "Jordan",
          "Oman",
          "Rwanda",
          "Senegal",
          "Turkey"
         ],
         "locations": [
          "ALB",
          "ARM",
          "BHS",
          "BHR",
          "BEN",
          "BOL",
          "FJI",
          "JAM",
          "JOR",
          "OMN",
          "RWA",
          "SEN",
          "TUR"
         ],
         "name": "B+",
         "showlegend": true,
         "showscale": false,
         "type": "choropleth",
         "z": [
          1,
          1,
          1,
          1,
          1,
          1,
          1,
          1,
          1,
          1,
          1,
          1,
          1
         ]
        },
        {
         "colorscale": [
          [
           0,
           "#E15F99"
          ],
          [
           1,
           "#E15F99"
          ]
         ],
         "geo": "geo",
         "hovertemplate": "<b>%{hovertext}</b><br><br>Credit Ratings=BBB<br>iso3=%{location}<extra></extra>",
         "hovertext": [
          "Andorra",
          "Aruba",
          "Bulgaria",
          "Hungary",
          "Indonesia",
          "Italy",
          "Mexico",
          "Panama",
          "Portugal",
          "Uruguay"
         ],
         "locations": [
          "AND",
          "ABW",
          "BGR",
          "HUN",
          "IDN",
          "ITA",
          "MEX",
          "PAN",
          "PRT",
          "URY"
         ],
         "name": "BBB",
         "showlegend": true,
         "showscale": false,
         "type": "choropleth",
         "z": [
          1,
          1,
          1,
          1,
          1,
          1,
          1,
          1,
          1,
          1
         ]
        },
        {
         "colorscale": [
          [
           0,
           "#1CA71C"
          ],
          [
           1,
           "#1CA71C"
          ]
         ],
         "geo": "geo",
         "hovertemplate": "<b>%{hovertext}</b><br><br>Credit Ratings=CCC+<br>iso3=%{location}<extra></extra>",
         "hovertext": [
          "Angola",
          "Argentina",
          "Congo",
          "Mozambique",
          "Congo, The Democratic Republic of the",
          "Sri Lanka"
         ],
         "locations": [
          "AGO",
          "ARG",
          "COG",
          "MOZ",
          "COD",
          "LKA"
         ],
         "name": "CCC+",
         "showlegend": true,
         "showscale": false,
         "type": "choropleth",
         "z": [
          1,
          1,
          1,
          1,
          1,
          1
         ]
        },
        {
         "colorscale": [
          [
           0,
           "#FB0D0D"
          ],
          [
           1,
           "#FB0D0D"
          ]
         ],
         "geo": "geo",
         "hovertemplate": "<b>%{hovertext}</b><br><br>Credit Ratings=AAA<br>iso3=%{location}<extra></extra>",
         "hovertext": [
          "Australia",
          "Canada",
          "Denmark",
          "Germany",
          "Liechtenstein",
          "Luxembourg",
          "Netherlands",
          "Norway",
          "Singapore",
          "Sweden",
          "Switzerland"
         ],
         "locations": [
          "AUS",
          "CAN",
          "DNK",
          "DEU",
          "LIE",
          "LUX",
          "NLD",
          "NOR",
          "SGP",
          "SWE",
          "CHE"
         ],
         "name": "AAA",
         "showlegend": true,
         "showscale": false,
         "type": "choropleth",
         "z": [
          1,
          1,
          1,
          1,
          1,
          1,
          1,
          1,
          1,
          1,
          1
         ]
        },
        {
         "colorscale": [
          [
           0,
           "#DA16FF"
          ],
          [
           1,
           "#DA16FF"
          ]
         ],
         "geo": "geo",
         "hovertemplate": "<b>%{hovertext}</b><br><br>Credit Ratings=AA+<br>iso3=%{location}<extra></extra>",
         "hovertext": [
          "Austria",
          "Finland",
          "Hong Kong",
          "New Zealand"
         ],
         "locations": [
          "AUT",
          "FIN",
          "HKG",
          "NZL"
         ],
         "name": "AA+",
         "showlegend": true,
         "showscale": false,
         "type": "choropleth",
         "z": [
          1,
          1,
          1,
          1
         ]
        },
        {
         "colorscale": [
          [
           0,
           "#222A2A"
          ],
          [
           1,
           "#222A2A"
          ]
         ],
         "geo": "geo",
         "hovertemplate": "<b>%{hovertext}</b><br><br>Credit Ratings=BB+<br>iso3=%{location}<extra></extra>",
         "hovertext": [
          "Azerbaijan",
          "Colombia",
          "Morocco",
          "Serbia"
         ],
         "locations": [
          "AZE",
          "COL",
          "MAR",
          "SRB"
         ],
         "name": "BB+",
         "showlegend": true,
         "showscale": false,
         "type": "choropleth",
         "z": [
          1,
          1,
          1,
          1
         ]
        },
        {
         "colorscale": [
          [
           0,
           "#B68100"
          ],
          [
           1,
           "#B68100"
          ]
         ],
         "geo": "geo",
         "hovertemplate": "<b>%{hovertext}</b><br><br>Credit Ratings=BB-<br>iso3=%{location}<extra></extra>",
         "hovertext": [
          "Bangladesh",
          "Brazil",
          "Dominican Republic",
          "Guatemala",
          "Honduras",
          "Côte d'Ivoire",
          "North Macedonia",
          "South Africa",
          "Uzbekistan"
         ],
         "locations": [
          "BGD",
          "BRA",
          "DOM",
          "GTM",
          "HND",
          "CIV",
          "MKD",
          "ZAF",
          "UZB"
         ],
         "name": "BB-",
         "showlegend": true,
         "showscale": false,
         "type": "choropleth",
         "z": [
          1,
          1,
          1,
          1,
          1,
          1,
          1,
          1,
          1
         ]
        },
        {
         "colorscale": [
          [
           0,
           "#750D86"
          ],
          [
           1,
           "#750D86"
          ]
         ],
         "geo": "geo",
         "hovertemplate": "<b>%{hovertext}</b><br><br>Credit Ratings=B-<br>iso3=%{location}<extra></extra>",
         "hovertext": [
          "Barbados",
          "Belize",
          "Cameroon",
          "Cabo Verde",
          "Ecuador",
          "El Salvador",
          "Ghana",
          "Iraq",
          "Nicaragua",
          "Nigeria",
          "Pakistan",
          "Papua New Guinea",
          "Tajikistan"
         ],
         "locations": [
          "BRB",
          "BLZ",
          "CMR",
          "CPV",
          "ECU",
          "SLV",
          "GHA",
          "IRQ",
          "NIC",
          "NGA",
          "PAK",
          "PNG",
          "TJK"
         ],
         "name": "B-",
         "showlegend": true,
         "showscale": false,
         "type": "choropleth",
         "z": [
          1,
          1,
          1,
          1,
          1,
          1,
          1,
          1,
          1,
          1,
          1,
          1,
          1
         ]
        },
        {
         "colorscale": [
          [
           0,
           "#EB663B"
          ],
          [
           1,
           "#EB663B"
          ]
         ],
         "geo": "geo",
         "hovertemplate": "<b>%{hovertext}</b><br><br>Credit Ratings=B<br>iso3=%{location}<extra></extra>",
         "hovertext": [
          "Belarus",
          "Bosnia and Herzegovina",
          "Burkina Faso",
          "Costa Rica",
          "Egypt",
          "Kenya",
          "Mongolia",
          "Montenegro",
          "Togo",
          "Uganda",
          "Ukraine"
         ],
         "locations": [
          "BLR",
          "BIH",
          "BFA",
          "CRI",
          "EGY",
          "KEN",
          "MNG",
          "MNE",
          "TGO",
          "UGA",
          "UKR"
         ],
         "name": "B",
         "showlegend": true,
         "showscale": false,
         "type": "choropleth",
         "z": [
          1,
          1,
          1,
          1,
          1,
          1,
          1,
          1,
          1,
          1,
          1
         ]
        },
        {
         "colorscale": [
          [
           0,
           "#511CFB"
          ],
          [
           1,
           "#511CFB"
          ]
         ],
         "geo": "geo",
         "hovertemplate": "<b>%{hovertext}</b><br><br>Credit Ratings=AA<br>iso3=%{location}<extra></extra>",
         "hovertext": [
          "Belgium",
          "France",
          "Korea, Republic of",
          "Taiwan, Province of China",
          "United Arab Emirates",
          "United Kingdom"
         ],
         "locations": [
          "BEL",
          "FRA",
          "KOR",
          "TWN",
          "ARE",
          "GBR"
         ],
         "name": "AA",
         "showlegend": true,
         "showscale": false,
         "type": "choropleth",
         "z": [
          1,
          1,
          1,
          1,
          1,
          1
         ]
        },
        {
         "colorscale": [
          [
           0,
           "#00A08B"
          ],
          [
           1,
           "#00A08B"
          ]
         ],
         "geo": "geo",
         "hovertemplate": "<b>%{hovertext}</b><br><br>Credit Ratings=A+<br>iso3=%{location}<extra></extra>",
         "hovertext": [
          "Bermuda",
          "China",
          "Japan",
          "Kuwait",
          "Latvia",
          "Lithuania",
          "Slovakia"
         ],
         "locations": [
          "BMU",
          "CHN",
          "JPN",
          "KWT",
          "LVA",
          "LTU",
          "SVK"
         ],
         "name": "A+",
         "showlegend": true,
         "showscale": false,
         "type": "choropleth",
         "z": [
          1,
          1,
          1,
          1,
          1,
          1,
          1
         ]
        },
        {
         "colorscale": [
          [
           0,
           "#FB00D1"
          ],
          [
           1,
           "#FB00D1"
          ]
         ],
         "geo": "geo",
         "hovertemplate": "<b>%{hovertext}</b><br><br>Credit Ratings=BBB+<br>iso3=%{location}<extra></extra>",
         "hovertext": [
          "Botswana",
          "Peru",
          "Philippines",
          "Thailand"
         ],
         "locations": [
          "BWA",
          "PER",
          "PHL",
          "THA"
         ],
         "name": "BBB+",
         "showlegend": true,
         "showscale": false,
         "type": "choropleth",
         "z": [
          1,
          1,
          1,
          1
         ]
        },
        {
         "colorscale": [
          [
           0,
           "#FC0080"
          ],
          [
           1,
           "#FC0080"
          ]
         ],
         "geo": "geo",
         "hovertemplate": "<b>%{hovertext}</b><br><br>Credit Ratings=A<br>iso3=%{location}<extra></extra>",
         "hovertext": [
          "Chile",
          "Iceland",
          "Spain"
         ],
         "locations": [
          "CHL",
          "ISL",
          "ESP"
         ],
         "name": "A",
         "showlegend": true,
         "showscale": false,
         "type": "choropleth",
         "z": [
          1,
          1,
          1
         ]
        },
        {
         "colorscale": [
          [
           0,
           "#B2828D"
          ],
          [
           1,
           "#B2828D"
          ]
         ],
         "geo": "geo",
         "hovertemplate": "<b>%{hovertext}</b><br><br>Credit Ratings=BBB-<br>iso3=%{location}<extra></extra>",
         "hovertext": [
          "Croatia",
          "Cyprus",
          "India",
          "Kazakhstan",
          "Montserrat",
          "Romania",
          "Russian Federation",
          "Trinidad and Tobago"
         ],
         "locations": [
          "HRV",
          "CYP",
          "IND",
          "KAZ",
          "MSR",
          "ROU",
          "RUS",
          "TTO"
         ],
         "name": "BBB-",
         "showlegend": true,
         "showscale": false,
         "type": "choropleth",
         "z": [
          1,
          1,
          1,
          1,
          1,
          1,
          1,
          1
         ]
        },
        {
         "colorscale": [
          [
           0,
           "#6C7C32"
          ],
          [
           1,
           "#6C7C32"
          ]
         ],
         "geo": "geo",
         "hovertemplate": "<b>%{hovertext}</b><br><br>Credit Ratings=AA-<br>iso3=%{location}<extra></extra>",
         "hovertext": [
          "Czechia",
          "Estonia",
          "Ireland",
          "Israel",
          "Qatar",
          "Slovenia"
         ],
         "locations": [
          "CZE",
          "EST",
          "IRL",
          "ISR",
          "QAT",
          "SVN"
         ],
         "name": "AA-",
         "showlegend": true,
         "showscale": false,
         "type": "choropleth",
         "z": [
          1,
          1,
          1,
          1,
          1,
          1
         ]
        },
        {
         "colorscale": [
          [
           0,
           "#778AAE"
          ],
          [
           1,
           "#778AAE"
          ]
         ],
         "geo": "geo",
         "hovertemplate": "<b>%{hovertext}</b><br><br>Credit Ratings=CCC<br>iso3=%{location}<extra></extra>",
         "hovertext": [
          "Ethiopia"
         ],
         "locations": [
          "ETH"
         ],
         "name": "CCC",
         "showlegend": true,
         "showscale": false,
         "type": "choropleth",
         "z": [
          1
         ]
        },
        {
         "colorscale": [
          [
           0,
           "#862A16"
          ],
          [
           1,
           "#862A16"
          ]
         ],
         "geo": "geo",
         "hovertemplate": "<b>%{hovertext}</b><br><br>Credit Ratings=BB<br>iso3=%{location}<extra></extra>",
         "hovertext": [
          "Georgia",
          "Greece",
          "Paraguay",
          "Viet Nam"
         ],
         "locations": [
          "GEO",
          "GRC",
          "PRY",
          "VNM"
         ],
         "name": "BB",
         "showlegend": true,
         "showscale": false,
         "type": "choropleth",
         "z": [
          1,
          1,
          1,
          1
         ]
        },
        {
         "colorscale": [
          [
           0,
           "#A777F1"
          ],
          [
           1,
           "#A777F1"
          ]
         ],
         "geo": "geo",
         "hovertemplate": "<b>%{hovertext}</b><br><br>Credit Ratings=SD<br>iso3=%{location}<extra></extra>",
         "hovertext": [
          "Grenada",
          "Suriname",
          "Zambia"
         ],
         "locations": [
          "GRD",
          "SUR",
          "ZMB"
         ],
         "name": "SD",
         "showlegend": true,
         "showscale": false,
         "type": "choropleth",
         "z": [
          1,
          1,
          1
         ]
        },
        {
         "colorscale": [
          [
           0,
           "#620042"
          ],
          [
           1,
           "#620042"
          ]
         ],
         "geo": "geo",
         "hovertemplate": "<b>%{hovertext}</b><br><br>Credit Ratings=NR<br>iso3=%{location}<extra></extra>",
         "hovertext": [
          "Kyrgyzstan"
         ],
         "locations": [
          "KGZ"
         ],
         "name": "NR",
         "showlegend": true,
         "showscale": false,
         "type": "choropleth",
         "z": [
          1
         ]
        },
        {
         "colorscale": [
          [
           0,
           "#1616A7"
          ],
          [
           1,
           "#1616A7"
          ]
         ],
         "geo": "geo",
         "hovertemplate": "<b>%{hovertext}</b><br><br>Credit Ratings=D<br>iso3=%{location}<extra></extra>",
         "hovertext": [
          "Lebanon",
          "Puerto Rico"
         ],
         "locations": [
          "LBN",
          "PRI"
         ],
         "name": "D",
         "showlegend": true,
         "showscale": false,
         "type": "choropleth",
         "z": [
          1,
          1
         ]
        },
        {
         "colorscale": [
          [
           0,
           "#DA60CA"
          ],
          [
           1,
           "#DA60CA"
          ]
         ],
         "geo": "geo",
         "hovertemplate": "<b>%{hovertext}</b><br><br>Credit Ratings=A-<br>iso3=%{location}<extra></extra>",
         "hovertext": [
          "Malaysia",
          "Malta",
          "Poland",
          "Saudi Arabia"
         ],
         "locations": [
          "MYS",
          "MLT",
          "POL",
          "SAU"
         ],
         "name": "A-",
         "showlegend": true,
         "showscale": false,
         "type": "choropleth",
         "z": [
          1,
          1,
          1,
          1
         ]
        }
       ],
       "layout": {
        "autosize": true,
        "geo": {
         "center": {},
         "domain": {
          "x": [
           0,
           1
          ],
          "y": [
           0,
           1
          ]
         }
        },
        "legend": {
         "title": {
          "text": "Credit Ratings"
         },
         "tracegroupgap": 0
        },
        "margin": {
         "b": 0,
         "l": 0,
         "r": 0,
         "t": 0
        },
        "template": {
         "data": {
          "bar": [
           {
            "error_x": {
             "color": "#2a3f5f"
            },
            "error_y": {
             "color": "#2a3f5f"
            },
            "marker": {
             "line": {
              "color": "#E5ECF6",
              "width": 0.5
             },
             "pattern": {
              "fillmode": "overlay",
              "size": 10,
              "solidity": 0.2
             }
            },
            "type": "bar"
           }
          ],
          "barpolar": [
           {
            "marker": {
             "line": {
              "color": "#E5ECF6",
              "width": 0.5
             },
             "pattern": {
              "fillmode": "overlay",
              "size": 10,
              "solidity": 0.2
             }
            },
            "type": "barpolar"
           }
          ],
          "carpet": [
           {
            "aaxis": {
             "endlinecolor": "#2a3f5f",
             "gridcolor": "white",
             "linecolor": "white",
             "minorgridcolor": "white",
             "startlinecolor": "#2a3f5f"
            },
            "baxis": {
             "endlinecolor": "#2a3f5f",
             "gridcolor": "white",
             "linecolor": "white",
             "minorgridcolor": "white",
             "startlinecolor": "#2a3f5f"
            },
            "type": "carpet"
           }
          ],
          "choropleth": [
           {
            "colorbar": {
             "outlinewidth": 0,
             "ticks": ""
            },
            "type": "choropleth"
           }
          ],
          "contour": [
           {
            "colorbar": {
             "outlinewidth": 0,
             "ticks": ""
            },
            "colorscale": [
             [
              0,
              "#0d0887"
             ],
             [
              0.1111111111111111,
              "#46039f"
             ],
             [
              0.2222222222222222,
              "#7201a8"
             ],
             [
              0.3333333333333333,
              "#9c179e"
             ],
             [
              0.4444444444444444,
              "#bd3786"
             ],
             [
              0.5555555555555556,
              "#d8576b"
             ],
             [
              0.6666666666666666,
              "#ed7953"
             ],
             [
              0.7777777777777778,
              "#fb9f3a"
             ],
             [
              0.8888888888888888,
              "#fdca26"
             ],
             [
              1,
              "#f0f921"
             ]
            ],
            "type": "contour"
           }
          ],
          "contourcarpet": [
           {
            "colorbar": {
             "outlinewidth": 0,
             "ticks": ""
            },
            "type": "contourcarpet"
           }
          ],
          "heatmap": [
           {
            "colorbar": {
             "outlinewidth": 0,
             "ticks": ""
            },
            "colorscale": [
             [
              0,
              "#0d0887"
             ],
             [
              0.1111111111111111,
              "#46039f"
             ],
             [
              0.2222222222222222,
              "#7201a8"
             ],
             [
              0.3333333333333333,
              "#9c179e"
             ],
             [
              0.4444444444444444,
              "#bd3786"
             ],
             [
              0.5555555555555556,
              "#d8576b"
             ],
             [
              0.6666666666666666,
              "#ed7953"
             ],
             [
              0.7777777777777778,
              "#fb9f3a"
             ],
             [
              0.8888888888888888,
              "#fdca26"
             ],
             [
              1,
              "#f0f921"
             ]
            ],
            "type": "heatmap"
           }
          ],
          "heatmapgl": [
           {
            "colorbar": {
             "outlinewidth": 0,
             "ticks": ""
            },
            "colorscale": [
             [
              0,
              "#0d0887"
             ],
             [
              0.1111111111111111,
              "#46039f"
             ],
             [
              0.2222222222222222,
              "#7201a8"
             ],
             [
              0.3333333333333333,
              "#9c179e"
             ],
             [
              0.4444444444444444,
              "#bd3786"
             ],
             [
              0.5555555555555556,
              "#d8576b"
             ],
             [
              0.6666666666666666,
              "#ed7953"
             ],
             [
              0.7777777777777778,
              "#fb9f3a"
             ],
             [
              0.8888888888888888,
              "#fdca26"
             ],
             [
              1,
              "#f0f921"
             ]
            ],
            "type": "heatmapgl"
           }
          ],
          "histogram": [
           {
            "marker": {
             "pattern": {
              "fillmode": "overlay",
              "size": 10,
              "solidity": 0.2
             }
            },
            "type": "histogram"
           }
          ],
          "histogram2d": [
           {
            "colorbar": {
             "outlinewidth": 0,
             "ticks": ""
            },
            "colorscale": [
             [
              0,
              "#0d0887"
             ],
             [
              0.1111111111111111,
              "#46039f"
             ],
             [
              0.2222222222222222,
              "#7201a8"
             ],
             [
              0.3333333333333333,
              "#9c179e"
             ],
             [
              0.4444444444444444,
              "#bd3786"
             ],
             [
              0.5555555555555556,
              "#d8576b"
             ],
             [
              0.6666666666666666,
              "#ed7953"
             ],
             [
              0.7777777777777778,
              "#fb9f3a"
             ],
             [
              0.8888888888888888,
              "#fdca26"
             ],
             [
              1,
              "#f0f921"
             ]
            ],
            "type": "histogram2d"
           }
          ],
          "histogram2dcontour": [
           {
            "colorbar": {
             "outlinewidth": 0,
             "ticks": ""
            },
            "colorscale": [
             [
              0,
              "#0d0887"
             ],
             [
              0.1111111111111111,
              "#46039f"
             ],
             [
              0.2222222222222222,
              "#7201a8"
             ],
             [
              0.3333333333333333,
              "#9c179e"
             ],
             [
              0.4444444444444444,
              "#bd3786"
             ],
             [
              0.5555555555555556,
              "#d8576b"
             ],
             [
              0.6666666666666666,
              "#ed7953"
             ],
             [
              0.7777777777777778,
              "#fb9f3a"
             ],
             [
              0.8888888888888888,
              "#fdca26"
             ],
             [
              1,
              "#f0f921"
             ]
            ],
            "type": "histogram2dcontour"
           }
          ],
          "mesh3d": [
           {
            "colorbar": {
             "outlinewidth": 0,
             "ticks": ""
            },
            "type": "mesh3d"
           }
          ],
          "parcoords": [
           {
            "line": {
             "colorbar": {
              "outlinewidth": 0,
              "ticks": ""
             }
            },
            "type": "parcoords"
           }
          ],
          "pie": [
           {
            "automargin": true,
            "type": "pie"
           }
          ],
          "scatter": [
           {
            "marker": {
             "colorbar": {
              "outlinewidth": 0,
              "ticks": ""
             }
            },
            "type": "scatter"
           }
          ],
          "scatter3d": [
           {
            "line": {
             "colorbar": {
              "outlinewidth": 0,
              "ticks": ""
             }
            },
            "marker": {
             "colorbar": {
              "outlinewidth": 0,
              "ticks": ""
             }
            },
            "type": "scatter3d"
           }
          ],
          "scattercarpet": [
           {
            "marker": {
             "colorbar": {
              "outlinewidth": 0,
              "ticks": ""
             }
            },
            "type": "scattercarpet"
           }
          ],
          "scattergeo": [
           {
            "marker": {
             "colorbar": {
              "outlinewidth": 0,
              "ticks": ""
             }
            },
            "type": "scattergeo"
           }
          ],
          "scattergl": [
           {
            "marker": {
             "colorbar": {
              "outlinewidth": 0,
              "ticks": ""
             }
            },
            "type": "scattergl"
           }
          ],
          "scattermapbox": [
           {
            "marker": {
             "colorbar": {
              "outlinewidth": 0,
              "ticks": ""
             }
            },
            "type": "scattermapbox"
           }
          ],
          "scatterpolar": [
           {
            "marker": {
             "colorbar": {
              "outlinewidth": 0,
              "ticks": ""
             }
            },
            "type": "scatterpolar"
           }
          ],
          "scatterpolargl": [
           {
            "marker": {
             "colorbar": {
              "outlinewidth": 0,
              "ticks": ""
             }
            },
            "type": "scatterpolargl"
           }
          ],
          "scatterternary": [
           {
            "marker": {
             "colorbar": {
              "outlinewidth": 0,
              "ticks": ""
             }
            },
            "type": "scatterternary"
           }
          ],
          "surface": [
           {
            "colorbar": {
             "outlinewidth": 0,
             "ticks": ""
            },
            "colorscale": [
             [
              0,
              "#0d0887"
             ],
             [
              0.1111111111111111,
              "#46039f"
             ],
             [
              0.2222222222222222,
              "#7201a8"
             ],
             [
              0.3333333333333333,
              "#9c179e"
             ],
             [
              0.4444444444444444,
              "#bd3786"
             ],
             [
              0.5555555555555556,
              "#d8576b"
             ],
             [
              0.6666666666666666,
              "#ed7953"
             ],
             [
              0.7777777777777778,
              "#fb9f3a"
             ],
             [
              0.8888888888888888,
              "#fdca26"
             ],
             [
              1,
              "#f0f921"
             ]
            ],
            "type": "surface"
           }
          ],
          "table": [
           {
            "cells": {
             "fill": {
              "color": "#EBF0F8"
             },
             "line": {
              "color": "white"
             }
            },
            "header": {
             "fill": {
              "color": "#C8D4E3"
             },
             "line": {
              "color": "white"
             }
            },
            "type": "table"
           }
          ]
         },
         "layout": {
          "annotationdefaults": {
           "arrowcolor": "#2a3f5f",
           "arrowhead": 0,
           "arrowwidth": 1
          },
          "autotypenumbers": "strict",
          "coloraxis": {
           "colorbar": {
            "outlinewidth": 0,
            "ticks": ""
           }
          },
          "colorscale": {
           "diverging": [
            [
             0,
             "#8e0152"
            ],
            [
             0.1,
             "#c51b7d"
            ],
            [
             0.2,
             "#de77ae"
            ],
            [
             0.3,
             "#f1b6da"
            ],
            [
             0.4,
             "#fde0ef"
            ],
            [
             0.5,
             "#f7f7f7"
            ],
            [
             0.6,
             "#e6f5d0"
            ],
            [
             0.7,
             "#b8e186"
            ],
            [
             0.8,
             "#7fbc41"
            ],
            [
             0.9,
             "#4d9221"
            ],
            [
             1,
             "#276419"
            ]
           ],
           "sequential": [
            [
             0,
             "#0d0887"
            ],
            [
             0.1111111111111111,
             "#46039f"
            ],
            [
             0.2222222222222222,
             "#7201a8"
            ],
            [
             0.3333333333333333,
             "#9c179e"
            ],
            [
             0.4444444444444444,
             "#bd3786"
            ],
            [
             0.5555555555555556,
             "#d8576b"
            ],
            [
             0.6666666666666666,
             "#ed7953"
            ],
            [
             0.7777777777777778,
             "#fb9f3a"
            ],
            [
             0.8888888888888888,
             "#fdca26"
            ],
            [
             1,
             "#f0f921"
            ]
           ],
           "sequentialminus": [
            [
             0,
             "#0d0887"
            ],
            [
             0.1111111111111111,
             "#46039f"
            ],
            [
             0.2222222222222222,
             "#7201a8"
            ],
            [
             0.3333333333333333,
             "#9c179e"
            ],
            [
             0.4444444444444444,
             "#bd3786"
            ],
            [
             0.5555555555555556,
             "#d8576b"
            ],
            [
             0.6666666666666666,
             "#ed7953"
            ],
            [
             0.7777777777777778,
             "#fb9f3a"
            ],
            [
             0.8888888888888888,
             "#fdca26"
            ],
            [
             1,
             "#f0f921"
            ]
           ]
          },
          "colorway": [
           "#636efa",
           "#EF553B",
           "#00cc96",
           "#ab63fa",
           "#FFA15A",
           "#19d3f3",
           "#FF6692",
           "#B6E880",
           "#FF97FF",
           "#FECB52"
          ],
          "font": {
           "color": "#2a3f5f"
          },
          "geo": {
           "bgcolor": "white",
           "lakecolor": "white",
           "landcolor": "#E5ECF6",
           "showlakes": true,
           "showland": true,
           "subunitcolor": "white"
          },
          "hoverlabel": {
           "align": "left"
          },
          "hovermode": "closest",
          "mapbox": {
           "style": "light"
          },
          "paper_bgcolor": "white",
          "plot_bgcolor": "#E5ECF6",
          "polar": {
           "angularaxis": {
            "gridcolor": "white",
            "linecolor": "white",
            "ticks": ""
           },
           "bgcolor": "#E5ECF6",
           "radialaxis": {
            "gridcolor": "white",
            "linecolor": "white",
            "ticks": ""
           }
          },
          "scene": {
           "xaxis": {
            "backgroundcolor": "#E5ECF6",
            "gridcolor": "white",
            "gridwidth": 2,
            "linecolor": "white",
            "showbackground": true,
            "ticks": "",
            "zerolinecolor": "white"
           },
           "yaxis": {
            "backgroundcolor": "#E5ECF6",
            "gridcolor": "white",
            "gridwidth": 2,
            "linecolor": "white",
            "showbackground": true,
            "ticks": "",
            "zerolinecolor": "white"
           },
           "zaxis": {
            "backgroundcolor": "#E5ECF6",
            "gridcolor": "white",
            "gridwidth": 2,
            "linecolor": "white",
            "showbackground": true,
            "ticks": "",
            "zerolinecolor": "white"
           }
          },
          "shapedefaults": {
           "line": {
            "color": "#2a3f5f"
           }
          },
          "ternary": {
           "aaxis": {
            "gridcolor": "white",
            "linecolor": "white",
            "ticks": ""
           },
           "baxis": {
            "gridcolor": "white",
            "linecolor": "white",
            "ticks": ""
           },
           "bgcolor": "#E5ECF6",
           "caxis": {
            "gridcolor": "white",
            "linecolor": "white",
            "ticks": ""
           }
          },
          "title": {
           "x": 0.05
          },
          "xaxis": {
           "automargin": true,
           "gridcolor": "white",
           "linecolor": "white",
           "ticks": "",
           "title": {
            "standoff": 15
           },
           "zerolinecolor": "white",
           "zerolinewidth": 2
          },
          "yaxis": {
           "automargin": true,
           "gridcolor": "white",
           "linecolor": "white",
           "ticks": "",
           "title": {
            "standoff": 15
           },
           "zerolinecolor": "white",
           "zerolinewidth": 2
          }
         }
        },
        "title": {
         "text": "Countries Credits Rating - Source: Standard & Poor's"
        }
       }
      },
      "image/png": "[encoded data removed]"
     },
     "metadata": {},
     "output_type": "display_data"
    }
   ],
   "source": [
    "# Run this line of code to get a dynamic plot\n",
    "get_credit_ratings_world_map()"
   ]
  },
  {
   "cell_type": "code",
   "execution_count": null,
   "id": "4edebe9d-032f-484e-a689-7f956854b559",
   "metadata": {},
   "outputs": [],
   "source": [
    "# tennessee.matos@tradingeconomics.com "
   ]
  }
 ],
 "metadata": {
  "kernelspec": {
   "display_name": "Python 3",
   "language": "python",
   "name": "python3"
  },
  "language_info": {
   "codemirror_mode": {
    "name": "ipython",
    "version": 3
   },
   "file_extension": ".py",
   "mimetype": "text/x-python",
   "name": "python",
   "nbconvert_exporter": "python",
   "pygments_lexer": "ipython3",
   "version": "3.7.3"
  }
 },
 "nbformat": 4,
 "nbformat_minor": 5
}
