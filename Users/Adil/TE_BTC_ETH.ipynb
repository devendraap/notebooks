{
 "cells": [
  {
   "cell_type": "code",
   "execution_count": null,
   "id": "36faa1ca-147d-4286-9ec7-4a53e30637cf",
   "metadata": {},
   "outputs": [],
   "source": [
    "import tradingeconomics as te\n",
    "import pandas as pd\n",
    "import matplotlib.pyplot as plt"
   ]
  },
  {
   "cell_type": "code",
   "execution_count": null,
   "id": "2ce4fe19",
   "metadata": {},
   "outputs": [],
   "source": [
    "te.login()"
   ]
  },
  {
   "cell_type": "code",
   "execution_count": null,
   "id": "aa0cf133-67fd-415d-b9a8-e1cde647ea29",
   "metadata": {},
   "outputs": [],
   "source": [
    "raw_data = te.fetchMarkets(symbol=['BTCUSD:CUR', 'ETHUSD:CUR'], initDate='2021-01-01', output_type='df')"
   ]
  },
  {
   "cell_type": "code",
   "execution_count": null,
   "id": "ee145090-6e85-4140-80a8-fbcbfcdd8dcd",
   "metadata": {},
   "outputs": [],
   "source": [
    "raw_btc_data = raw_data.loc[raw_data['symbol'] == 'BTCUSD:CUR']\n",
    "raw_eth_data = raw_data.loc[raw_data['symbol'] == 'ETHUSD:CUR']"
   ]
  },
  {
   "cell_type": "code",
   "execution_count": null,
   "id": "53863a7f-fc30-4d7b-bb63-2209758f84b6",
   "metadata": {},
   "outputs": [],
   "source": [
    "bitcoin = raw_btc_data[['close']].rename(columns={'close': 'Bitcoin'})\n",
    "bitcoin.index.name = 'Date'\n",
    "\n",
    "etherum = raw_eth_data[['close']].rename(columns={'close': 'Etherum'})\n",
    "etherum.index.name = 'Date'"
   ]
  },
  {
   "cell_type": "code",
   "execution_count": null,
   "id": "6765f3c4-e865-40c3-91f5-f1425c1376e7",
   "metadata": {},
   "outputs": [],
   "source": [
    "df = pd.merge(bitcoin, etherum, on='Date')\n",
    "df.sort_values(by='Date', inplace=True, ascending=True)"
   ]
  },
  {
   "cell_type": "code",
   "execution_count": null,
   "id": "0c205f02-7a77-453f-bc61-0b4c01d5d642",
   "metadata": {},
   "outputs": [],
   "source": [
    "df"
   ]
  },
  {
   "cell_type": "markdown",
   "id": "72343ca3-8dec-4bff-9501-16c40477e66f",
   "metadata": {},
   "source": [
    "**Adding two axis**"
   ]
  },
  {
   "cell_type": "code",
   "execution_count": null,
   "id": "fc22ec17-feda-4c56-9f17-f3f7d9459a0f",
   "metadata": {},
   "outputs": [],
   "source": [
    "# Create Plot\n",
    "\n",
    "\n",
    "\n",
    "fig, ax1 = plt.subplots() \n",
    "  \n",
    "ax1.set_xlabel('X-axis') \n",
    "ax1.set_ylabel('Bitcoin', color = 'red') \n",
    "ax1.plot(df.index.tolist(), df['Bitcoin'].values.tolist(), color = 'black') \n",
    "ax1.tick_params(axis ='y') \n",
    "  \n",
    "# Adding Twin Axes\n",
    "\n",
    "ax2 = ax1.twinx() \n",
    "  \n",
    "ax2.set_ylabel('Etherum', color = 'blue') \n",
    "ax2.plot(df.index.tolist(), df['Etherum'].values.tolist(), color = 'blue') \n",
    "ax2.tick_params(axis ='y') \n",
    " \n",
    "# Show plot \n",
    "plt.show()"
   ]
  },
  {
   "cell_type": "markdown",
   "id": "2239908f-5fd7-4746-a9e1-374247071c3b",
   "metadata": {},
   "source": [
    "**Correlation between Bitcoin and Etherum**"
   ]
  },
  {
   "cell_type": "code",
   "execution_count": null,
   "id": "486eaa01-308b-4fea-a7c2-6c37e2e6ff56",
   "metadata": {},
   "outputs": [],
   "source": [
    "col1, col2 = \"Bitcoin\", \"Etherum\"\n",
    "corr = df[col1].corr(df[col2])\n",
    "print(\"Correlation between \", col1, \" and \", col2, \"is: \", round(corr, 2))"
   ]
  },
  {
   "cell_type": "code",
   "execution_count": null,
   "id": "6fd1023d-5979-48cc-a698-ac2529940f8d",
   "metadata": {},
   "outputs": [],
   "source": []
  }
 ],
 "metadata": {
  "interpreter": {
   "hash": "80a36c5cb13ddbb011c37a155ca0bc6f96c61ebb92008faf01137cb8c6d7c6fa"
  },
  "kernelspec": {
   "display_name": "Python 3 (ipykernel)",
   "language": "python",
   "name": "python3"
  },
  "language_info": {
   "codemirror_mode": {
    "name": "ipython",
    "version": 3
   },
   "file_extension": ".py",
   "mimetype": "text/x-python",
   "name": "python",
   "nbconvert_exporter": "python",
   "pygments_lexer": "ipython3",
   "version": "3.9.12"
  }
 },
 "nbformat": 4,
 "nbformat_minor": 5
}
