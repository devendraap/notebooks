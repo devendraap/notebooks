{
 "cells": [
  {
   "cell_type": "code",
   "execution_count": null,
   "id": "58e22f34-0475-4ba7-b026-4bc4f23ac279",
   "metadata": {},
   "outputs": [],
   "source": [
    "import json\n",
    "import pandas as pd\n",
    "import tradingeconomics as te"
   ]
  },
  {
   "cell_type": "code",
   "execution_count": null,
   "id": "10e97455",
   "metadata": {},
   "outputs": [],
   "source": [
    "te.login()\n"
   ]
  },
  {
   "cell_type": "code",
   "execution_count": null,
   "id": "7d35306b-79ac-4e0d-a07f-06072839fac7",
   "metadata": {},
   "outputs": [],
   "source": [
    "raw_data = te.getHistoricalData(country=['Bangladesh', 'China', 'Japan', 'Israel', 'India', 'South Korea'], indicator='Wages', initDate='2015-03-01', output_type='df')"
   ]
  },
  {
   "cell_type": "code",
   "execution_count": null,
   "id": "e02b53a2-5ffa-4abd-8ac6-a73397c99d43",
   "metadata": {},
   "outputs": [],
   "source": [
    "country_df = raw_data.loc[raw_data['Country'] == 'South Korea']\n",
    "country_df = pd.DataFrame(country_df)\n",
    "\n",
    "country_df.sort_values(by='DateTime', inplace=True, ascending=True)\n",
    "average_wage = country_df.iloc[-1,]\n",
    "average_wage"
   ]
  },
  {
   "cell_type": "code",
   "execution_count": null,
   "id": "104a0e07-333b-4937-9081-1507917f6eeb",
   "metadata": {},
   "outputs": [],
   "source": [
    "def func_wage(country, ticker):\n",
    "    raw_data = te.getHistoricalData(country=country, indicator='Wages', initDate='2015-03-01', output_type='df')    \n",
    "    country_name = raw_data.loc[raw_data['Country'] == country]\n",
    "    country_df = pd.DataFrame(country_name)\n",
    "\n",
    "    country_df.sort_values(by='DateTime', inplace=True, ascending=True)\n",
    "    average_wage = country_df.iloc[-1,]\n",
    "    \n",
    "    average_wage = pd.DataFrame(average_wage).T\n",
    "    \n",
    "    # Convert Currency\n",
    "    average_wage['Value'] = average_wage['Value']/Convert_Curr(country, ticker)\n",
    "    \n",
    "    # Convert Yearly Freq\n",
    "    average_wage = Convert_Yearly(country, average_wage)\n",
    "    \n",
    "    average_wage['Value'] = average_wage['Value'].values[0].round(1)\n",
    "    \n",
    "    return average_wage"
   ]
  },
  {
   "cell_type": "code",
   "execution_count": null,
   "id": "cb0cf090-9917-4d23-a05c-e0136b610e7d",
   "metadata": {},
   "outputs": [],
   "source": [
    "def truncate(number, decimals=0):\n",
    "    factor = 10.0 ** decimals\n",
    "    return math.trunc(number * factor) / factor"
   ]
  },
  {
   "cell_type": "code",
   "execution_count": null,
   "id": "ebd274ad-bad5-47f7-b6bd-21cd893d36ac",
   "metadata": {},
   "outputs": [],
   "source": [
    "def Convert_Curr(country, ticker):\n",
    "    currency = te.getCurrencyCross(cross = ticker, output_type = 'df')\n",
    "    currency = currency.loc[currency['Country'] == country]\n",
    "    output = currency['Close']\n",
    "    output = output.values[0]\n",
    "    # output = truncate(output, 2)\n",
    "    return output"
   ]
  },
  {
   "cell_type": "code",
   "execution_count": null,
   "id": "95a4dab7-2d37-4b27-aba1-609ac6850455",
   "metadata": {
    "tags": []
   },
   "outputs": [],
   "source": [
    "#Convert yearly wage to monthly\n",
    "def Convert_Yearly(country, average_wage):\n",
    "    raw_data = te.getIndicatorData(country=country, indicators='wages', output_type='df')\n",
    "    unit = raw_data['Unit'].values[0]\n",
    "    unit = unit.split(\"/\")\n",
    "    unit = unit[1]\n",
    "    \n",
    "    if unit == 'Year':\n",
    "        average_wage['Value'] = (average_wage['Value']/12)\n",
    "    else:\n",
    "        return average_wage\n",
    "        \n",
    "    average_wage['Value'] = average_wage['Value'].values[0].round(1)\n",
    "    return average_wage"
   ]
  },
  {
   "cell_type": "code",
   "execution_count": null,
   "id": "0d18d369-4de9-4bce-9b2b-8b29481fc3ac",
   "metadata": {},
   "outputs": [],
   "source": [
    "with open('country.json', 'r') as f:\n",
    "    data = json.load(f)\n",
    "    \n",
    "data = pd.DataFrame(data['data'])"
   ]
  },
  {
   "cell_type": "code",
   "execution_count": null,
   "id": "ebc19873-8c2a-4988-9d77-980126f40e45",
   "metadata": {},
   "outputs": [],
   "source": [
    "data"
   ]
  },
  {
   "cell_type": "code",
   "execution_count": null,
   "id": "b692885a-17da-4220-8397-4b6cd9d59e89",
   "metadata": {},
   "outputs": [],
   "source": [
    "length = len(data.index)\n",
    "\n",
    "Average_Wage_in_Asia = pd.DataFrame()\n",
    "for i in range(length):\n",
    "    w = func_wage(data['name'].values[i], data['ticker'].values[i])\n",
    "    Average_Wage_in_Asia = pd.concat([Average_Wage_in_Asia, w])"
   ]
  },
  {
   "cell_type": "code",
   "execution_count": null,
   "id": "fed1d965-f0d2-45c2-82bb-05cb922912d7",
   "metadata": {},
   "outputs": [],
   "source": [
    "Wage = Average_Wage_in_Asia\n",
    "Wage"
   ]
  },
  {
   "cell_type": "code",
   "execution_count": null,
   "id": "aeed1a75-9b66-406c-aea8-e13db3104a2d",
   "metadata": {},
   "outputs": [],
   "source": [
    "value = []\n",
    "value = Average_Wage_in_Asia['Value'].values\n",
    "wage_in_float = pd.DataFrame(value).astype(float)"
   ]
  },
  {
   "cell_type": "code",
   "execution_count": null,
   "id": "ab969c1f-daf2-47fa-b8fe-7342088b3fea",
   "metadata": {},
   "outputs": [],
   "source": [
    "Wage['Value'] = '$' + Wage['Value'].astype(str)\n",
    "data['wage'] = Wage['Value'].values\n",
    "data['wage_in_float'] = wage_in_float"
   ]
  },
  {
   "cell_type": "code",
   "execution_count": null,
   "id": "0160363d-8aa8-47df-9bc8-3237c6af448f",
   "metadata": {},
   "outputs": [],
   "source": []
  },
  {
   "cell_type": "code",
   "execution_count": null,
   "id": "24d2a8f9-a5b3-4a91-b527-5dc371474a4b",
   "metadata": {},
   "outputs": [],
   "source": [
    "scale = {'Color': ['green', 'blue', 'orange', 'red'], 'Wage': ['above $2000', ' $1000 to $1,999', '$500 to $999', 'below $500']}  \n",
    "scale = pd.DataFrame(scale)\n",
    "scale\n",
    "\n",
    "def color_range(wage):\n",
    "    if wage < 500:\n",
    "        color = \"red\"\n",
    "    elif (wage >= 500) & (wage <= 999):\n",
    "        color = \"orange\"\n",
    "    elif (wage >= 1000) & (wage <= 1999):\n",
    "        color = \"blue\"\n",
    "    elif (wage>=2000):\n",
    "        color = \"green\"\n",
    "    \n",
    "    return color"
   ]
  },
  {
   "cell_type": "code",
   "execution_count": null,
   "id": "84fd6f92-c0c9-4b48-8cdf-e13faa85a01f",
   "metadata": {},
   "outputs": [],
   "source": [
    "import folium\n",
    "\n",
    "m = folium.Map(location=[34.0479, 100.6197], zoom_start=3)\n",
    "\n",
    "folium.LayerControl().add_to(m)\n",
    "\n",
    "for i in range(len(data.index)):\n",
    "    folium.Marker(location=[data['lat'].values[i], data['lon'].values[i]],\n",
    "             icon = folium.DivIcon(\n",
    "                 html=\"\"\"\n",
    "                 <div style='color: white;background-color:\"\"\"+color_range(data['wage_in_float'].values[i])+\"\"\"; width: 90px; padding: 2px; text-align: center'>\n",
    "                     \"\"\"+ data['name'].values[i] +\" \"+data['wage'].values[i]+\"\"\"\n",
    "                 </div>\n",
    "                 \"\"\",\n",
    "                 class_name = \"mapText2\"\n",
    "             )).add_to(m)\n",
    "\n",
    "m"
   ]
  },
  {
   "cell_type": "code",
   "execution_count": null,
   "id": "8ad69f21-f235-44e3-a4d6-c95f5e7aad9b",
   "metadata": {},
   "outputs": [],
   "source": []
  }
 ],
 "metadata": {
  "kernelspec": {
   "display_name": "Python 3 (ipykernel)",
   "language": "python",
   "name": "python3"
  },
  "language_info": {
   "codemirror_mode": {
    "name": "ipython",
    "version": 3
   },
   "file_extension": ".py",
   "mimetype": "text/x-python",
   "name": "python",
   "nbconvert_exporter": "python",
   "pygments_lexer": "ipython3",
   "version": "3.9.12"
  }
 },
 "nbformat": 4,
 "nbformat_minor": 5
}
